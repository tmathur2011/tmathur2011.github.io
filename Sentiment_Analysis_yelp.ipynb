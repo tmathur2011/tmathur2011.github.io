{
 "cells": [
  {
   "cell_type": "markdown",
   "id": "9a5afb73-2661-4997-8459-62f3a6b1e076",
   "metadata": {},
   "source": [
    "### Sentiment Analysis of Yelp Reviews using BERT "
   ]
  },
  {
   "cell_type": "code",
   "execution_count": 1,
   "id": "6a0fea4b-0d9c-453d-85e7-e4d661ec5b33",
   "metadata": {},
   "outputs": [
    {
     "name": "stdout",
     "output_type": "stream",
     "text": [
      "Requirement already satisfied: torch in /Users/tm/anaconda3/lib/python3.11/site-packages (2.3.0)\n",
      "Requirement already satisfied: torchvision in /Users/tm/anaconda3/lib/python3.11/site-packages (0.18.0)\n",
      "Requirement already satisfied: torchaudio in /Users/tm/anaconda3/lib/python3.11/site-packages (2.3.0)\n",
      "Requirement already satisfied: filelock in /Users/tm/anaconda3/lib/python3.11/site-packages (from torch) (3.13.1)\n",
      "Requirement already satisfied: typing-extensions>=4.8.0 in /Users/tm/anaconda3/lib/python3.11/site-packages (from torch) (4.9.0)\n",
      "Requirement already satisfied: sympy in /Users/tm/anaconda3/lib/python3.11/site-packages (from torch) (1.12)\n",
      "Requirement already satisfied: networkx in /Users/tm/anaconda3/lib/python3.11/site-packages (from torch) (3.1)\n",
      "Requirement already satisfied: jinja2 in /Users/tm/anaconda3/lib/python3.11/site-packages (from torch) (3.1.2)\n",
      "Requirement already satisfied: fsspec in /Users/tm/anaconda3/lib/python3.11/site-packages (from torch) (2023.10.0)\n",
      "Requirement already satisfied: numpy in /Users/tm/anaconda3/lib/python3.11/site-packages (from torchvision) (1.26.3)\n",
      "Requirement already satisfied: pillow!=8.3.*,>=5.3.0 in /Users/tm/anaconda3/lib/python3.11/site-packages (from torchvision) (10.0.1)\n",
      "Requirement already satisfied: MarkupSafe>=2.0 in /Users/tm/anaconda3/lib/python3.11/site-packages (from jinja2->torch) (2.1.3)\n",
      "Requirement already satisfied: mpmath>=0.19 in /Users/tm/anaconda3/lib/python3.11/site-packages (from sympy->torch) (1.3.0)\n"
     ]
    }
   ],
   "source": [
    "#Install Pytorch\n",
    "!pip3 install torch torchvision torchaudio"
   ]
  },
  {
   "cell_type": "code",
   "execution_count": 3,
   "id": "8530b90b-ff5a-4e8c-a820-b9f40e67352a",
   "metadata": {},
   "outputs": [
    {
     "name": "stdout",
     "output_type": "stream",
     "text": [
      "Requirement already satisfied: transformers in /Users/tm/anaconda3/lib/python3.11/site-packages (4.32.1)\n",
      "Requirement already satisfied: requests in /Users/tm/anaconda3/lib/python3.11/site-packages (2.31.0)\n",
      "Requirement already satisfied: beautifulsoup4 in /Users/tm/anaconda3/lib/python3.11/site-packages (4.12.2)\n",
      "Requirement already satisfied: pandas in /Users/tm/anaconda3/lib/python3.11/site-packages (2.1.4)\n",
      "Requirement already satisfied: numpy in /Users/tm/anaconda3/lib/python3.11/site-packages (1.26.3)\n",
      "Requirement already satisfied: filelock in /Users/tm/anaconda3/lib/python3.11/site-packages (from transformers) (3.13.1)\n",
      "Requirement already satisfied: huggingface-hub<1.0,>=0.15.1 in /Users/tm/anaconda3/lib/python3.11/site-packages (from transformers) (0.17.3)\n",
      "Requirement already satisfied: packaging>=20.0 in /Users/tm/anaconda3/lib/python3.11/site-packages (from transformers) (23.1)\n",
      "Requirement already satisfied: pyyaml>=5.1 in /Users/tm/anaconda3/lib/python3.11/site-packages (from transformers) (6.0.1)\n",
      "Requirement already satisfied: regex!=2019.12.17 in /Users/tm/anaconda3/lib/python3.11/site-packages (from transformers) (2023.10.3)\n",
      "Requirement already satisfied: tokenizers!=0.11.3,<0.14,>=0.11.1 in /Users/tm/anaconda3/lib/python3.11/site-packages (from transformers) (0.13.2)\n",
      "Requirement already satisfied: safetensors>=0.3.1 in /Users/tm/anaconda3/lib/python3.11/site-packages (from transformers) (0.4.0)\n",
      "Requirement already satisfied: tqdm>=4.27 in /Users/tm/anaconda3/lib/python3.11/site-packages (from transformers) (4.65.0)\n",
      "Requirement already satisfied: charset-normalizer<4,>=2 in /Users/tm/anaconda3/lib/python3.11/site-packages (from requests) (2.0.4)\n",
      "Requirement already satisfied: idna<4,>=2.5 in /Users/tm/anaconda3/lib/python3.11/site-packages (from requests) (3.4)\n",
      "Requirement already satisfied: urllib3<3,>=1.21.1 in /Users/tm/anaconda3/lib/python3.11/site-packages (from requests) (1.26.18)\n",
      "Requirement already satisfied: certifi>=2017.4.17 in /Users/tm/anaconda3/lib/python3.11/site-packages (from requests) (2024.2.2)\n",
      "Requirement already satisfied: soupsieve>1.2 in /Users/tm/anaconda3/lib/python3.11/site-packages (from beautifulsoup4) (2.5)\n",
      "Requirement already satisfied: python-dateutil>=2.8.2 in /Users/tm/anaconda3/lib/python3.11/site-packages (from pandas) (2.8.2)\n",
      "Requirement already satisfied: pytz>=2020.1 in /Users/tm/anaconda3/lib/python3.11/site-packages (from pandas) (2023.3.post1)\n",
      "Requirement already satisfied: tzdata>=2022.1 in /Users/tm/anaconda3/lib/python3.11/site-packages (from pandas) (2023.3)\n",
      "Requirement already satisfied: fsspec in /Users/tm/anaconda3/lib/python3.11/site-packages (from huggingface-hub<1.0,>=0.15.1->transformers) (2023.10.0)\n",
      "Requirement already satisfied: typing-extensions>=3.7.4.3 in /Users/tm/anaconda3/lib/python3.11/site-packages (from huggingface-hub<1.0,>=0.15.1->transformers) (4.9.0)\n",
      "Requirement already satisfied: six>=1.5 in /Users/tm/anaconda3/lib/python3.11/site-packages (from python-dateutil>=2.8.2->pandas) (1.16.0)\n"
     ]
    }
   ],
   "source": [
    "#Intsall dependencies\n",
    "!pip install transformers requests beautifulsoup4 pandas numpy"
   ]
  },
  {
   "cell_type": "code",
   "execution_count": 42,
   "id": "d20fa14d-aaae-4336-8592-a84fade16c32",
   "metadata": {},
   "outputs": [],
   "source": [
    "from transformers import AutoTokenizer, AutoModelForSequenceClassification\n",
    "import torch\n",
    "import requests\n",
    "from bs4 import BeautifulSoup\n",
    "import re\n",
    "import numpy as np\n",
    "import pandas as pd"
   ]
  },
  {
   "cell_type": "code",
   "execution_count": 5,
   "id": "c1d0d546-7981-42f0-9893-5b461964efff",
   "metadata": {},
   "outputs": [
    {
     "data": {
      "application/vnd.jupyter.widget-view+json": {
       "model_id": "9558fb56b98c454498930cae5b6f189d",
       "version_major": 2,
       "version_minor": 0
      },
      "text/plain": [
       "Downloading tokenizer_config.json:   0%|          | 0.00/39.0 [00:00<?, ?B/s]"
      ]
     },
     "metadata": {},
     "output_type": "display_data"
    },
    {
     "data": {
      "application/vnd.jupyter.widget-view+json": {
       "model_id": "97eb36119e8449dbb561af760fe7c716",
       "version_major": 2,
       "version_minor": 0
      },
      "text/plain": [
       "Downloading config.json:   0%|          | 0.00/953 [00:00<?, ?B/s]"
      ]
     },
     "metadata": {},
     "output_type": "display_data"
    },
    {
     "data": {
      "application/vnd.jupyter.widget-view+json": {
       "model_id": "afa14bae2d924482ae8216256fc1bdb8",
       "version_major": 2,
       "version_minor": 0
      },
      "text/plain": [
       "Downloading vocab.txt:   0%|          | 0.00/872k [00:00<?, ?B/s]"
      ]
     },
     "metadata": {},
     "output_type": "display_data"
    },
    {
     "data": {
      "application/vnd.jupyter.widget-view+json": {
       "model_id": "d27ffbf82cf94046b40e6476ab959ba8",
       "version_major": 2,
       "version_minor": 0
      },
      "text/plain": [
       "Downloading (…)cial_tokens_map.json:   0%|          | 0.00/112 [00:00<?, ?B/s]"
      ]
     },
     "metadata": {},
     "output_type": "display_data"
    },
    {
     "name": "stderr",
     "output_type": "stream",
     "text": [
      "/Users/tm/anaconda3/lib/python3.11/site-packages/transformers/utils/generic.py:260: UserWarning: torch.utils._pytree._register_pytree_node is deprecated. Please use torch.utils._pytree.register_pytree_node instead.\n",
      "  torch.utils._pytree._register_pytree_node(\n"
     ]
    },
    {
     "data": {
      "application/vnd.jupyter.widget-view+json": {
       "model_id": "22c7213d4e2b4fdf97a96a3f8a0f178c",
       "version_major": 2,
       "version_minor": 0
      },
      "text/plain": [
       "Downloading pytorch_model.bin:   0%|          | 0.00/669M [00:00<?, ?B/s]"
      ]
     },
     "metadata": {},
     "output_type": "display_data"
    }
   ],
   "source": [
    "tokenizer = AutoTokenizer.from_pretrained('nlptown/bert-base-multilingual-uncased-sentiment')\n",
    "model = AutoModelForSequenceClassification.from_pretrained('nlptown/bert-base-multilingual-uncased-sentiment')\n"
   ]
  },
  {
   "cell_type": "code",
   "execution_count": 28,
   "id": "64e0c901-41f5-4ad4-b941-354b4fd2272b",
   "metadata": {},
   "outputs": [],
   "source": [
    "tokens= tokenizer.encode('I loved this place', return_tensors= 'pt')"
   ]
  },
  {
   "cell_type": "code",
   "execution_count": 29,
   "id": "1f487713-6c00-4eab-82b1-41063cf69676",
   "metadata": {},
   "outputs": [
    {
     "data": {
      "text/plain": [
       "tensor([[  101,   151, 46747, 10372, 11125,   102]])"
      ]
     },
     "execution_count": 29,
     "metadata": {},
     "output_type": "execute_result"
    }
   ],
   "source": [
    "tokens"
   ]
  },
  {
   "cell_type": "code",
   "execution_count": 30,
   "id": "34976793-5e33-46c7-b6f0-fc7e1f929dce",
   "metadata": {},
   "outputs": [],
   "source": [
    "results =  model(tokens)"
   ]
  },
  {
   "cell_type": "code",
   "execution_count": 31,
   "id": "550eabbc-da64-4f06-a13d-708b8d802e98",
   "metadata": {},
   "outputs": [
    {
     "data": {
      "text/plain": [
       "5"
      ]
     },
     "execution_count": 31,
     "metadata": {},
     "output_type": "execute_result"
    }
   ],
   "source": [
    "int(torch.argmax(results.logits))+1"
   ]
  },
  {
   "cell_type": "code",
   "execution_count": 32,
   "id": "04cfdb5b-b010-4d5f-8756-dc0a5488e020",
   "metadata": {},
   "outputs": [],
   "source": [
    "#Collect Reviews"
   ]
  },
  {
   "cell_type": "code",
   "execution_count": 38,
   "id": "3c82ddec-adb3-4270-a030-81d4fd2dba82",
   "metadata": {},
   "outputs": [],
   "source": [
    "r= requests.get('https://www.yelp.com/biz/mercurios-shadyside-pittsburgh')\n",
    "soup = BeautifulSoup(r.text, 'html.parser')\n",
    "regex = re.compile('.*comment.*')\n",
    "results = soup.find_all('p', {'class': regex})\n",
    "reviews = [result.text for result in results]"
   ]
  },
  {
   "cell_type": "code",
   "execution_count": 40,
   "id": "9792fbb4-017b-408d-ada3-80134add98d2",
   "metadata": {},
   "outputs": [
    {
     "data": {
      "text/plain": [
       "\"Started my Pittsburgh foodie adventures in this adorable little sit-down pizza restaurant in Shadyside! We tried the Pizza Del Re (white pizza) and Pizza Della Casa (red pizza), and both lived up to the hype! Pizza Del Re:- White pizza with mozzarella, truffle spread, & prosciutto (it comes with mushrooms too, but we got it without because my boyfriend doesn't like mushrooms) - A super rich truffle taste that was so yummy - Loved the thin crust, but there were parts that tasted a little too burntPizza Della Casa:- Red tomato sauce pizza with mozzarella, grape tomatoes, arugula, prosciutto, & parmigiano - I love the combination of prosciutto & arugula and it was a plus that the arugula tasted so fresh & wasn't bitter- I personally prefer red sauce over white sauce, so I liked this pizza a little bit more To top off your meal here, make sure to get their gelato for dessert! I got a small size with 2 flavors -- tiramisu and hazelnut. Both flavors were super rich and yummy and definitely satisfied my sweet tooth.\""
      ]
     },
     "execution_count": 40,
     "metadata": {},
     "output_type": "execute_result"
    }
   ],
   "source": [
    "results[0].text"
   ]
  },
  {
   "cell_type": "code",
   "execution_count": 41,
   "id": "1f8e3370-76bd-4fef-9de9-a587e1da0c4a",
   "metadata": {},
   "outputs": [
    {
     "data": {
      "text/plain": [
       "[\"Started my Pittsburgh foodie adventures in this adorable little sit-down pizza restaurant in Shadyside! We tried the Pizza Del Re (white pizza) and Pizza Della Casa (red pizza), and both lived up to the hype! Pizza Del Re:- White pizza with mozzarella, truffle spread, & prosciutto (it comes with mushrooms too, but we got it without because my boyfriend doesn't like mushrooms) - A super rich truffle taste that was so yummy - Loved the thin crust, but there were parts that tasted a little too burntPizza Della Casa:- Red tomato sauce pizza with mozzarella, grape tomatoes, arugula, prosciutto, & parmigiano - I love the combination of prosciutto & arugula and it was a plus that the arugula tasted so fresh & wasn't bitter- I personally prefer red sauce over white sauce, so I liked this pizza a little bit more To top off your meal here, make sure to get their gelato for dessert! I got a small size with 2 flavors -- tiramisu and hazelnut. Both flavors were super rich and yummy and definitely satisfied my sweet tooth.\",\n",
       " 'Okay, to begin, the pizza is delicious! We had the lasagna and margarita and both were tasty! Very thin crust, soft and chewy. All ingredients were fresh and pizza sauce was great!Here comes the 4-star, our service was subpar. Our waitress seemed to be at the end of her shift and was not very attentive. & lastly, our panini was dry. The balsamic glaze made it more enjoyable. Also to note, they do not press the meats, veggies, cheese, etc and only press the bread (like what lol) & again super dry!To conclude, service cannot be perfect every time and I would stick with the pizza and a side salad! Awesome lunch/light dinner spot.',\n",
       " \"Really excellent Neapolitan pizza in a homey space. Everything on their menu is amazing, but my absolute favorite thing on their menu is the Bianca. They add tomato slices and so much garlic and it's just such a good combination with the chewy thin dough. The pizzas are always fast to come out after you order so there's never too long of a wait once you're seated, but getting seated does often take a while since the space is pretty small and it's a really popular spot. Don't miss out on their gelato either -- there are always so many fun flavors and you can get multiple in a single cup to try more flavors. It's the perfect sweet treat to end off the meal!\",\n",
       " 'We had caprese (my friend loves it so much but so so for me) as appetizer, and tried Pizza Del Re and Pizza Della Casa, the pizza dough is thin crust and kind of chewy and elastic but not so crunchy, while the combination of sauce and topping is fantastic.Never forget to enjoy their signature gelato before leaving, I chose the chocolate by death and tiramisu in a small cup. Definitely the best of all!',\n",
       " \"Mercurio's is in every way perfect. That's really all there is to say. I have always loved the Diavola pizza, but on my most recent visit, I was surprised to find a pistacchio & mortadella pizza on the menu (and a few other new ones) and it's so good it'll make you want to cry. Yes, THAT GOOD. (The other pic is of my husband's salsiccia & funghi pizza.)\",\n",
       " \"Love Mercurio's! The pizza is delicious and the service is friendly. Located on Walnut street in Shadyside, is the perfect place to stop in for lunch when out shopping. And don't skip the dessert! The Nutella pizza is a must try item, but the gelato is what they're known for. It's the perfect treat in a hot summer day (or anytime really).\",\n",
       " \"despite being someone who normally dislikes pizzas (especially from pizza chains) i love love love mercurio's pizzas! they taste amazing, have plenty of toppings, and aren't too salty or oily. popular for a reason!love the interior too, very cute (the gelato bar is a plus)\",\n",
       " \"I was very excited to try this restaurant. When we first went in , the place was not crowded. Still, we were sat at a skinny little table in the back right corner that was next to the kitchen area .It was hot and noisy there. We shrugged it off and placed our order . The food was a big disappointment . The pizza was both soft and burnt at the same time ! The cheese slid off of the pizza and had to be added back on by the diner .It had such a serious flop that it needed to be eaten with a knife and a fork.The final straw was finding a small hair in my Gelato. The waiter couldn't have been more surly,and even had an attitude about giving us a box .With a zillion or more pizza joints in the Burg, I'd place this one at the bottom .\",\n",
       " \"I recommend this place - BUT - dine in. These pies don't travel well. They're uber-thin and def tasty, but even in my 10-min drive home, they were pretty beat and cold. Now- the good news! The crust is flavorful with its blistered edges straight from the oven, the marinara quite good, and the Buffalo mozz def fresh. We got 3 pies - which are pretty small: Margherita con Buffalo (self explanatory), Provola (smoked mozz - which didn't really come thru with much smoked flavor, leaving us feeling like we had 2 of the same margherita pizzas), and Funghi (same as margherita add mushrooms). The latter was by far our fave. It was meatier and more substantive. Next time we'll definitely get some kind of salad and maybe have olives added. The pizzas are good, but there's really not much to them. DEF will have gelato next time. Omg did it look great. This place - with its fast casual vibe (this is not date night material) - was packed. The kitchen incredibly busy. Definitely will return...\",\n",
       " \"Love their pizza! The crust is magical and delicious. I don't know what their secret is to make the crust just the right amount of chewiness. I've tried several different kinds of pizzas and the toppings are always fresh. Maybe add a bit more of the toppings if I had to say something that could make it better. Also the gelato is amazing. So many flavors and super yummy. For the most part we get takeout but have on occasion eaten there. The staff is always very friendly and does a good job. Highly recommend this place!\"]"
      ]
     },
     "execution_count": 41,
     "metadata": {},
     "output_type": "execute_result"
    }
   ],
   "source": [
    "reviews"
   ]
  },
  {
   "cell_type": "code",
   "execution_count": 44,
   "id": "6ffd8025-70a7-417a-bac6-bc170680fc8e",
   "metadata": {},
   "outputs": [],
   "source": [
    "df = pd.DataFrame(np.array(reviews), columns= ['reviews'])"
   ]
  },
  {
   "cell_type": "code",
   "execution_count": 46,
   "id": "dd533b3b-123b-4703-b08c-eb73bcc20d97",
   "metadata": {},
   "outputs": [
    {
     "data": {
      "text/html": [
       "<div>\n",
       "<style scoped>\n",
       "    .dataframe tbody tr th:only-of-type {\n",
       "        vertical-align: middle;\n",
       "    }\n",
       "\n",
       "    .dataframe tbody tr th {\n",
       "        vertical-align: top;\n",
       "    }\n",
       "\n",
       "    .dataframe thead th {\n",
       "        text-align: right;\n",
       "    }\n",
       "</style>\n",
       "<table border=\"1\" class=\"dataframe\">\n",
       "  <thead>\n",
       "    <tr style=\"text-align: right;\">\n",
       "      <th></th>\n",
       "      <th>reviews</th>\n",
       "    </tr>\n",
       "  </thead>\n",
       "  <tbody>\n",
       "    <tr>\n",
       "      <th>5</th>\n",
       "      <td>Love Mercurio's! The pizza is delicious and th...</td>\n",
       "    </tr>\n",
       "    <tr>\n",
       "      <th>6</th>\n",
       "      <td>despite being someone who normally dislikes pi...</td>\n",
       "    </tr>\n",
       "    <tr>\n",
       "      <th>7</th>\n",
       "      <td>I was very excited to try this restaurant. Whe...</td>\n",
       "    </tr>\n",
       "    <tr>\n",
       "      <th>8</th>\n",
       "      <td>I recommend this place - BUT - dine in. These ...</td>\n",
       "    </tr>\n",
       "    <tr>\n",
       "      <th>9</th>\n",
       "      <td>Love their pizza! The crust is magical and del...</td>\n",
       "    </tr>\n",
       "  </tbody>\n",
       "</table>\n",
       "</div>"
      ],
      "text/plain": [
       "                                             reviews\n",
       "5  Love Mercurio's! The pizza is delicious and th...\n",
       "6  despite being someone who normally dislikes pi...\n",
       "7  I was very excited to try this restaurant. Whe...\n",
       "8  I recommend this place - BUT - dine in. These ...\n",
       "9  Love their pizza! The crust is magical and del..."
      ]
     },
     "execution_count": 46,
     "metadata": {},
     "output_type": "execute_result"
    }
   ],
   "source": [
    "df.tail()"
   ]
  },
  {
   "cell_type": "code",
   "execution_count": 51,
   "id": "090c1ce4-352c-4225-96d6-0ccf85fd06b6",
   "metadata": {},
   "outputs": [],
   "source": [
    "def sentiment_score(review):\n",
    "    tokens = tokenizer.encode(review, return_tensors= 'pt')\n",
    "    results = model(tokens)\n",
    "    return int(torch.argmax(results.logits))+1"
   ]
  },
  {
   "cell_type": "code",
   "execution_count": 52,
   "id": "a66787fe-576b-49cc-afe9-49b151909919",
   "metadata": {},
   "outputs": [
    {
     "data": {
      "text/plain": [
       "4"
      ]
     },
     "execution_count": 52,
     "metadata": {},
     "output_type": "execute_result"
    }
   ],
   "source": [
    "sentiment_score(df['reviews'].iloc[1])"
   ]
  },
  {
   "cell_type": "code",
   "execution_count": 53,
   "id": "e0cd26f3-a955-4410-adae-7da1e26bc622",
   "metadata": {},
   "outputs": [],
   "source": [
    "df['sentiment_score'] = df['reviews'].apply(lambda x: sentiment_score(x[:512]))"
   ]
  },
  {
   "cell_type": "code",
   "execution_count": 54,
   "id": "b5e95529-38d7-4dd4-951a-d0c82b4860b4",
   "metadata": {},
   "outputs": [
    {
     "data": {
      "text/html": [
       "<div>\n",
       "<style scoped>\n",
       "    .dataframe tbody tr th:only-of-type {\n",
       "        vertical-align: middle;\n",
       "    }\n",
       "\n",
       "    .dataframe tbody tr th {\n",
       "        vertical-align: top;\n",
       "    }\n",
       "\n",
       "    .dataframe thead th {\n",
       "        text-align: right;\n",
       "    }\n",
       "</style>\n",
       "<table border=\"1\" class=\"dataframe\">\n",
       "  <thead>\n",
       "    <tr style=\"text-align: right;\">\n",
       "      <th></th>\n",
       "      <th>reviews</th>\n",
       "      <th>sentiment_score</th>\n",
       "    </tr>\n",
       "  </thead>\n",
       "  <tbody>\n",
       "    <tr>\n",
       "      <th>0</th>\n",
       "      <td>Started my Pittsburgh foodie adventures in thi...</td>\n",
       "      <td>4</td>\n",
       "    </tr>\n",
       "    <tr>\n",
       "      <th>1</th>\n",
       "      <td>Okay, to begin, the pizza is delicious! We had...</td>\n",
       "      <td>4</td>\n",
       "    </tr>\n",
       "    <tr>\n",
       "      <th>2</th>\n",
       "      <td>Really excellent Neapolitan pizza in a homey s...</td>\n",
       "      <td>5</td>\n",
       "    </tr>\n",
       "    <tr>\n",
       "      <th>3</th>\n",
       "      <td>We had caprese (my friend loves it so much but...</td>\n",
       "      <td>5</td>\n",
       "    </tr>\n",
       "    <tr>\n",
       "      <th>4</th>\n",
       "      <td>Mercurio's is in every way perfect. That's rea...</td>\n",
       "      <td>5</td>\n",
       "    </tr>\n",
       "    <tr>\n",
       "      <th>5</th>\n",
       "      <td>Love Mercurio's! The pizza is delicious and th...</td>\n",
       "      <td>5</td>\n",
       "    </tr>\n",
       "    <tr>\n",
       "      <th>6</th>\n",
       "      <td>despite being someone who normally dislikes pi...</td>\n",
       "      <td>5</td>\n",
       "    </tr>\n",
       "    <tr>\n",
       "      <th>7</th>\n",
       "      <td>I was very excited to try this restaurant. Whe...</td>\n",
       "      <td>1</td>\n",
       "    </tr>\n",
       "    <tr>\n",
       "      <th>8</th>\n",
       "      <td>I recommend this place - BUT - dine in. These ...</td>\n",
       "      <td>3</td>\n",
       "    </tr>\n",
       "    <tr>\n",
       "      <th>9</th>\n",
       "      <td>Love their pizza! The crust is magical and del...</td>\n",
       "      <td>5</td>\n",
       "    </tr>\n",
       "  </tbody>\n",
       "</table>\n",
       "</div>"
      ],
      "text/plain": [
       "                                             reviews  sentiment_score\n",
       "0  Started my Pittsburgh foodie adventures in thi...                4\n",
       "1  Okay, to begin, the pizza is delicious! We had...                4\n",
       "2  Really excellent Neapolitan pizza in a homey s...                5\n",
       "3  We had caprese (my friend loves it so much but...                5\n",
       "4  Mercurio's is in every way perfect. That's rea...                5\n",
       "5  Love Mercurio's! The pizza is delicious and th...                5\n",
       "6  despite being someone who normally dislikes pi...                5\n",
       "7  I was very excited to try this restaurant. Whe...                1\n",
       "8  I recommend this place - BUT - dine in. These ...                3\n",
       "9  Love their pizza! The crust is magical and del...                5"
      ]
     },
     "execution_count": 54,
     "metadata": {},
     "output_type": "execute_result"
    }
   ],
   "source": [
    "df"
   ]
  },
  {
   "cell_type": "code",
   "execution_count": null,
   "id": "793e3c8a-d0d0-4387-af5c-bfa722560f97",
   "metadata": {},
   "outputs": [],
   "source": []
  }
 ],
 "metadata": {
  "kernelspec": {
   "display_name": "Python 3 (ipykernel)",
   "language": "python",
   "name": "python3"
  },
  "language_info": {
   "codemirror_mode": {
    "name": "ipython",
    "version": 3
   },
   "file_extension": ".py",
   "mimetype": "text/x-python",
   "name": "python",
   "nbconvert_exporter": "python",
   "pygments_lexer": "ipython3",
   "version": "3.11.7"
  }
 },
 "nbformat": 4,
 "nbformat_minor": 5
}
