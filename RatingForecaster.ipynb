{
  "cells": [
    {
      "cell_type": "markdown",
      "metadata": {
        "id": "wdocqAbgDaR9"
      },
      "source": [
        "# Google Play Store Rating Forecaster"
      ]
    },
    {
      "cell_type": "markdown",
      "metadata": {
        "id": "p1M9D6MjE_tO"
      },
      "source": [
        "----\n",
        "## Motivation\n",
        "We have found that the field of mobile applications is a rich source of study and innovation in our quest to investigate meaningful applications of deep learning and advanced machine learning, especially with Artificial Neural Networks (ANN). Our inspiration comes from a combination of current market research and our innate interest in the dynamic properties of app ecosystems.\n",
        "\n",
        "According to recent research by Team (2024), Android maintains its dominant position in the global mobile operating system industry, with an amazing 70.69% dominance as of early 2024, despite the popularity of iPhones in the United States. First demonstrating its dominance in 2015, Android held a 53.65% share of the mobile operating system industry, accounting for more than half of the market. Such statistics underscore the vast potential and reach of **Android applications**, presenting an intriguing opportunity for our study.\n",
        "\n",
        "Curry (2024) notes that the presence of the **Google Play Store** adds even more relevance to the Android platform. About half of all app downloads globally are made through Google Play, which is the largest app store in terms of both the quantity of apps and downloads. This quick ascent following the platform's launch and name change from the Android Market to Google Play establishes the platform as a vital hub for both consumers and app developers.\n",
        "\n",
        "In light of this, we were especially interested in the **Google Play app ratings feature**. In addition to being the main indicator of user happiness and app quality, ratings have a big impact on user selection and app visibility in a crowded market. We started a research to forecast app ratings using advanced deep learning techniques and artificial neural networks because of this convergence of platform significance, app ratings' crucial function, and market dynamics.\n",
        "\n",
        "Not only do we want to identify the characteristics that make apps successful and popular, but we also hope to provide insightful information that will help developers improve their apps and strategies inside the cutthroat Google Play Store. Our goal is to improve the user experience in the digital app space by bridging the gap between technology innovation and real-world utility through our efforts.\n",
        "\n",
        "\n",
        "\n",
        "### Reference:\n",
        "1. Team, B. (2024, March 13). iPhone vs Android Statistics. Backlinko. https://backlinko.com/iphone-vs-android-statistics\n",
        "2. Curry, D. (2024, Februry 6). *Google Play Store Statistics(2024)* - Business of Apps. (2024, February 6). Business of Apps. https://www.businessofapps.com/data/google-play-statistics/"
      ]
    },
    {
      "cell_type": "markdown",
      "metadata": {
        "id": "x15P1SJBPK5o"
      },
      "source": [
        "----\n",
        "## Data\n",
        "### Data Set\n",
        "\n",
        "\n",
        "**Data Set Structure**:\n",
        "The dataset consists of the following columns, providing various details about apps in the Google Play Store:\n",
        "\n",
        "| Column Name     | Description                                               |\n",
        "|-----------------|-----------------------------------------------------------|\n",
        "| App             | The name of the application.                              |\n",
        "| Category        | The category to which the app belongs (e.g., ART_AND_DESIGN). |\n",
        "| Rating          | The app rating on Google Play.                            |\n",
        "| Reviews         | The number of reviews the app has received.               |\n",
        "| Size            | The size of the app.                                      |\n",
        "| Installs        | The number of times the app has been installed.           |\n",
        "| Type            | Indicates whether the app is free or paid.                |\n",
        "| Price           | The price of the app (for paid apps).                     |\n",
        "| Content Rating  | The age group the app is targeted at or the maturity level. |\n",
        "| Genres          | The genre of the app, which can be a bit more specific than the category. |\n",
        "| Last Updated    | The date when the app was last updated on the Play Store. |\n",
        "| Current Ver     | The current version of the app available on the Play Store. |\n",
        "| Android Ver     | The minimum Android version required to run the app.      |\n",
        "\n",
        "\n",
        "This structure provides a comprehensive overview of the apps listed in the Google Play Store, offering a solid foundation for your analysis and predictive modeling on app ratings. ​\n",
        "\n",
        "**Column Analysis**:\n",
        "In our forthcoming analysis, we plan to employ one-hot encoding for the categorical variables such as <u>'App', 'Category', 'Type'</u> and <u>'Genres'</u> to transform them into a format that can be provided to machine learning algorithms. For numerical features, namely <u>'Reviews', 'Size in Kbs'</u> (after converting the <u>'Size'</u> column to kilobytes), <u>'Installs'</u>, and <u>'Price'</u>, we will apply scaling to normalize their ranges and improve the algorithm's convergence.\n",
        "\n",
        "Upon initial inspection of the dataset, we have identified several columns with missing values, which necessitates careful preprocessing to ensure the integrity and utility of our data for predictive modeling. Addressing these missing values and preparing our dataset meticulously are crucial steps in laying a solid foundation for our analysis. This preparation will involve strategies such as imputation for missing data or exclusion of records with critical information missing, alongside the transformation and scaling of features to create a robust dataset suitable for deploying advanced machine learning techniques."
      ]
    },
    {
      "cell_type": "markdown",
      "metadata": {
        "id": "EsxBfU_rSmMi"
      },
      "source": [
        "### Modeling\n",
        "For the Artificial Neural Networks, we are going to investigate the T (Tasks), P (performance measure), and E (Experience), referring to the equation **P(T, E + ΔE) > P(T,E)**.\n",
        "\n",
        "**Task (T)**:\n",
        "The task is to predict the ratings of apps on the Google Play Store. This is a regression task where the output is a continuous value representing the predicted rating of an app based on its features (e.g., number of downloads, category, size, etc.).\n",
        "\n",
        "\n",
        "**Performance Measure (P)**:\n",
        "The performance of the model can be assessed using several metrics as mentioned in the class and the textbook:\n",
        "\n",
        "<u>Mean Squared Error (MSE)</u>: Measures the average of the squares of the errors between actual and predicted ratings.\n",
        "\n",
        "<u>R-squared (R²) Score</u>: Indicates the proportion of the variance for the dependent variable that's predictable from the independent variables. It provides an understanding of how well the model explains the variability of the data.\n",
        "\n",
        "<u>Mean Absolute Error (MAE)</u>: Measures the average magnitude of the errors in a set of predictions, without considering their direction. It's easier to interpret than MSE since it's in the same units as the data.\n",
        "\n",
        "**Experience (E)**:\n",
        "The experience comes from the training data fed into the model during the learning process. In our project, the experience consists of features extracted from the apps on the Google Play Store, such as app category, reviews, size, installs, type (free or paid), price, content rating, and genres, along with their corresponding app ratings.\n",
        "\n",
        "**Delta Experience (ΔE )**:\n",
        "Delta Experience represents the additional data or enhanced feature engineering, including more diverse or larger datasets, more relevant features, or improved data preprocessing techniques that could potentially improve the model's performance. We still need some time for further data set information searching and feeding."
      ]
    },
    {
      "cell_type": "markdown",
      "metadata": {
        "id": "rlgM4i1Fyt8k"
      },
      "source": [
        "----\n",
        "### Problem Statements\n",
        "**Business Problem(What is the problem we are trying to solve?)**\n",
        "To identify and understand the determinants of app ratings on the Google Play Store to improve app quality, user satisfaction, and consequently, the commercial success of the apps.\n",
        "\n",
        "**Data Science Problem (What are we going to predict?)**\n",
        "The corresponding data science problem involves developing a predictive model capable of accurately forecasting the ratings of apps on the Google Play Store based on a variety of features like Reviews, Type, Genre, etc.\n",
        "\n",
        " **Data Science Solution (How are we going to get the solution ?)**\n",
        "The proposed solution to the data science problem involves using advanced neural networks to model the complex relationships between app features and their ratings. Artificial neural networks (ANNs) are particularly well-suited for this task due to their ability to learn nonlinear relationships and their adaptability to various types of data.\n",
        "\n",
        "**Business Solution (How to use the solution?)**\n",
        "The commercial solution utilizes the predictive model to enhance marketing strategies and accelerate app development. Developers can focus on updates and changes that significantly impact ratings by concentrating on app features likely to affect ratings the most. Marketing strategies can be optimized by highlighting these preferred features, thereby connecting more effectively with the target audience. By comparing predicted versus actual ratings, developers can benchmark performance and identify areas for improvement.\n"
      ]
    },
    {
      "cell_type": "markdown",
      "metadata": {
        "id": "s3Q8Ml3Zi-fO"
      },
      "source": [
        "### Data Exploration\n"
      ]
    },
    {
      "cell_type": "code",
      "execution_count": null,
      "metadata": {
        "id": "LVuWcpwEi92O"
      },
      "outputs": [],
      "source": [
        "# for data manipulation\n",
        "import pandas as pd\n",
        "import numpy as np\n",
        "\n",
        "# for data visualization\n",
        "import matplotlib.pyplot as plt\n",
        "import seaborn as sns\n",
        "import plotly.express as px\n",
        "\n",
        "# for preprocessing\n",
        "from sklearn.preprocessing import LabelEncoder, OneHotEncoder, OrdinalEncoder\n",
        "from sklearn.preprocessing import StandardScaler, MinMaxScaler, QuantileTransformer\n",
        "from sklearn.experimental import enable_iterative_imputer\n",
        "from sklearn.impute import KNNImputer, SimpleImputer, IterativeImputer\n",
        "from sklearn.linear_model import BayesianRidge\n",
        "from sklearn.ensemble import RandomForestRegressor, GradientBoostingRegressor, AdaBoostRegressor\n",
        "\n",
        "# for model training\n",
        "from sklearn.model_selection import train_test_split, cross_val_score, GridSearchCV\n",
        "from sklearn.pipeline import Pipeline\n",
        "from sklearn.compose import ColumnTransformer\n",
        "\n",
        "# import model for regression\n",
        "from sklearn.linear_model import LinearRegression\n",
        "from sklearn.svm import SVR\n",
        "from sklearn.neighbors import KNeighborsRegressor\n",
        "from xgboost import XGBRegressor\n",
        "from sklearn.tree import DecisionTreeRegressor\n",
        "from sklearn.ensemble import RandomForestRegressor\n",
        "\n",
        "# import tensorflow for creating neural networks\n",
        "import tensorflow as tf\n",
        "from tensorflow.keras.models import Sequential\n",
        "from tensorflow.keras.layers import Dense\n",
        "from tensorflow.keras.callbacks import EarlyStopping\n",
        "from tensorflow.keras import backend as K\n",
        "\n",
        "# for model evaluation\n",
        "from sklearn.metrics import mean_absolute_error, mean_squared_error, r2_score"
      ]
    },
    {
      "cell_type": "code",
      "execution_count": null,
      "metadata": {
        "colab": {
          "base_uri": "https://localhost:8080/",
          "height": 328
        },
        "id": "I78AuEPejeUw",
        "outputId": "e81a742a-fcf0-4bde-819c-ba6c70f88972"
      },
      "outputs": [
        {
          "output_type": "execute_result",
          "data": {
            "text/plain": [
              "                                                 App        Category  Rating  \\\n",
              "0     Photo Editor & Candy Camera & Grid & ScrapBook  ART_AND_DESIGN     4.1   \n",
              "1                                Coloring book moana  ART_AND_DESIGN     3.9   \n",
              "2  U Launcher Lite – FREE Live Cool Themes, Hide ...  ART_AND_DESIGN     4.7   \n",
              "3                              Sketch - Draw & Paint  ART_AND_DESIGN     4.5   \n",
              "4              Pixel Draw - Number Art Coloring Book  ART_AND_DESIGN     4.3   \n",
              "\n",
              "  Reviews  Size     Installs  Type Price Content Rating  \\\n",
              "0     159   19M      10,000+  Free     0       Everyone   \n",
              "1     967   14M     500,000+  Free     0       Everyone   \n",
              "2   87510  8.7M   5,000,000+  Free     0       Everyone   \n",
              "3  215644   25M  50,000,000+  Free     0           Teen   \n",
              "4     967  2.8M     100,000+  Free     0       Everyone   \n",
              "\n",
              "                      Genres      Last Updated         Current Ver  \\\n",
              "0               Art & Design   January 7, 2018               1.0.0   \n",
              "1  Art & Design;Pretend Play  January 15, 2018               2.0.0   \n",
              "2               Art & Design    August 1, 2018               1.2.4   \n",
              "3               Art & Design      June 8, 2018  Varies with device   \n",
              "4    Art & Design;Creativity     June 20, 2018                 1.1   \n",
              "\n",
              "    Android Ver  \n",
              "0  4.0.3 and up  \n",
              "1  4.0.3 and up  \n",
              "2  4.0.3 and up  \n",
              "3    4.2 and up  \n",
              "4    4.4 and up  "
            ],
            "text/html": [
              "\n",
              "  <div id=\"df-fe9d3426-309f-47e7-8634-3737153dd253\" class=\"colab-df-container\">\n",
              "    <div>\n",
              "<style scoped>\n",
              "    .dataframe tbody tr th:only-of-type {\n",
              "        vertical-align: middle;\n",
              "    }\n",
              "\n",
              "    .dataframe tbody tr th {\n",
              "        vertical-align: top;\n",
              "    }\n",
              "\n",
              "    .dataframe thead th {\n",
              "        text-align: right;\n",
              "    }\n",
              "</style>\n",
              "<table border=\"1\" class=\"dataframe\">\n",
              "  <thead>\n",
              "    <tr style=\"text-align: right;\">\n",
              "      <th></th>\n",
              "      <th>App</th>\n",
              "      <th>Category</th>\n",
              "      <th>Rating</th>\n",
              "      <th>Reviews</th>\n",
              "      <th>Size</th>\n",
              "      <th>Installs</th>\n",
              "      <th>Type</th>\n",
              "      <th>Price</th>\n",
              "      <th>Content Rating</th>\n",
              "      <th>Genres</th>\n",
              "      <th>Last Updated</th>\n",
              "      <th>Current Ver</th>\n",
              "      <th>Android Ver</th>\n",
              "    </tr>\n",
              "  </thead>\n",
              "  <tbody>\n",
              "    <tr>\n",
              "      <th>0</th>\n",
              "      <td>Photo Editor &amp; Candy Camera &amp; Grid &amp; ScrapBook</td>\n",
              "      <td>ART_AND_DESIGN</td>\n",
              "      <td>4.1</td>\n",
              "      <td>159</td>\n",
              "      <td>19M</td>\n",
              "      <td>10,000+</td>\n",
              "      <td>Free</td>\n",
              "      <td>0</td>\n",
              "      <td>Everyone</td>\n",
              "      <td>Art &amp; Design</td>\n",
              "      <td>January 7, 2018</td>\n",
              "      <td>1.0.0</td>\n",
              "      <td>4.0.3 and up</td>\n",
              "    </tr>\n",
              "    <tr>\n",
              "      <th>1</th>\n",
              "      <td>Coloring book moana</td>\n",
              "      <td>ART_AND_DESIGN</td>\n",
              "      <td>3.9</td>\n",
              "      <td>967</td>\n",
              "      <td>14M</td>\n",
              "      <td>500,000+</td>\n",
              "      <td>Free</td>\n",
              "      <td>0</td>\n",
              "      <td>Everyone</td>\n",
              "      <td>Art &amp; Design;Pretend Play</td>\n",
              "      <td>January 15, 2018</td>\n",
              "      <td>2.0.0</td>\n",
              "      <td>4.0.3 and up</td>\n",
              "    </tr>\n",
              "    <tr>\n",
              "      <th>2</th>\n",
              "      <td>U Launcher Lite – FREE Live Cool Themes, Hide ...</td>\n",
              "      <td>ART_AND_DESIGN</td>\n",
              "      <td>4.7</td>\n",
              "      <td>87510</td>\n",
              "      <td>8.7M</td>\n",
              "      <td>5,000,000+</td>\n",
              "      <td>Free</td>\n",
              "      <td>0</td>\n",
              "      <td>Everyone</td>\n",
              "      <td>Art &amp; Design</td>\n",
              "      <td>August 1, 2018</td>\n",
              "      <td>1.2.4</td>\n",
              "      <td>4.0.3 and up</td>\n",
              "    </tr>\n",
              "    <tr>\n",
              "      <th>3</th>\n",
              "      <td>Sketch - Draw &amp; Paint</td>\n",
              "      <td>ART_AND_DESIGN</td>\n",
              "      <td>4.5</td>\n",
              "      <td>215644</td>\n",
              "      <td>25M</td>\n",
              "      <td>50,000,000+</td>\n",
              "      <td>Free</td>\n",
              "      <td>0</td>\n",
              "      <td>Teen</td>\n",
              "      <td>Art &amp; Design</td>\n",
              "      <td>June 8, 2018</td>\n",
              "      <td>Varies with device</td>\n",
              "      <td>4.2 and up</td>\n",
              "    </tr>\n",
              "    <tr>\n",
              "      <th>4</th>\n",
              "      <td>Pixel Draw - Number Art Coloring Book</td>\n",
              "      <td>ART_AND_DESIGN</td>\n",
              "      <td>4.3</td>\n",
              "      <td>967</td>\n",
              "      <td>2.8M</td>\n",
              "      <td>100,000+</td>\n",
              "      <td>Free</td>\n",
              "      <td>0</td>\n",
              "      <td>Everyone</td>\n",
              "      <td>Art &amp; Design;Creativity</td>\n",
              "      <td>June 20, 2018</td>\n",
              "      <td>1.1</td>\n",
              "      <td>4.4 and up</td>\n",
              "    </tr>\n",
              "  </tbody>\n",
              "</table>\n",
              "</div>\n",
              "    <div class=\"colab-df-buttons\">\n",
              "\n",
              "  <div class=\"colab-df-container\">\n",
              "    <button class=\"colab-df-convert\" onclick=\"convertToInteractive('df-fe9d3426-309f-47e7-8634-3737153dd253')\"\n",
              "            title=\"Convert this dataframe to an interactive table.\"\n",
              "            style=\"display:none;\">\n",
              "\n",
              "  <svg xmlns=\"http://www.w3.org/2000/svg\" height=\"24px\" viewBox=\"0 -960 960 960\">\n",
              "    <path d=\"M120-120v-720h720v720H120Zm60-500h600v-160H180v160Zm220 220h160v-160H400v160Zm0 220h160v-160H400v160ZM180-400h160v-160H180v160Zm440 0h160v-160H620v160ZM180-180h160v-160H180v160Zm440 0h160v-160H620v160Z\"/>\n",
              "  </svg>\n",
              "    </button>\n",
              "\n",
              "  <style>\n",
              "    .colab-df-container {\n",
              "      display:flex;\n",
              "      gap: 12px;\n",
              "    }\n",
              "\n",
              "    .colab-df-convert {\n",
              "      background-color: #E8F0FE;\n",
              "      border: none;\n",
              "      border-radius: 50%;\n",
              "      cursor: pointer;\n",
              "      display: none;\n",
              "      fill: #1967D2;\n",
              "      height: 32px;\n",
              "      padding: 0 0 0 0;\n",
              "      width: 32px;\n",
              "    }\n",
              "\n",
              "    .colab-df-convert:hover {\n",
              "      background-color: #E2EBFA;\n",
              "      box-shadow: 0px 1px 2px rgba(60, 64, 67, 0.3), 0px 1px 3px 1px rgba(60, 64, 67, 0.15);\n",
              "      fill: #174EA6;\n",
              "    }\n",
              "\n",
              "    .colab-df-buttons div {\n",
              "      margin-bottom: 4px;\n",
              "    }\n",
              "\n",
              "    [theme=dark] .colab-df-convert {\n",
              "      background-color: #3B4455;\n",
              "      fill: #D2E3FC;\n",
              "    }\n",
              "\n",
              "    [theme=dark] .colab-df-convert:hover {\n",
              "      background-color: #434B5C;\n",
              "      box-shadow: 0px 1px 3px 1px rgba(0, 0, 0, 0.15);\n",
              "      filter: drop-shadow(0px 1px 2px rgba(0, 0, 0, 0.3));\n",
              "      fill: #FFFFFF;\n",
              "    }\n",
              "  </style>\n",
              "\n",
              "    <script>\n",
              "      const buttonEl =\n",
              "        document.querySelector('#df-fe9d3426-309f-47e7-8634-3737153dd253 button.colab-df-convert');\n",
              "      buttonEl.style.display =\n",
              "        google.colab.kernel.accessAllowed ? 'block' : 'none';\n",
              "\n",
              "      async function convertToInteractive(key) {\n",
              "        const element = document.querySelector('#df-fe9d3426-309f-47e7-8634-3737153dd253');\n",
              "        const dataTable =\n",
              "          await google.colab.kernel.invokeFunction('convertToInteractive',\n",
              "                                                    [key], {});\n",
              "        if (!dataTable) return;\n",
              "\n",
              "        const docLinkHtml = 'Like what you see? Visit the ' +\n",
              "          '<a target=\"_blank\" href=https://colab.research.google.com/notebooks/data_table.ipynb>data table notebook</a>'\n",
              "          + ' to learn more about interactive tables.';\n",
              "        element.innerHTML = '';\n",
              "        dataTable['output_type'] = 'display_data';\n",
              "        await google.colab.output.renderOutput(dataTable, element);\n",
              "        const docLink = document.createElement('div');\n",
              "        docLink.innerHTML = docLinkHtml;\n",
              "        element.appendChild(docLink);\n",
              "      }\n",
              "    </script>\n",
              "  </div>\n",
              "\n",
              "\n",
              "<div id=\"df-12802940-9904-4b70-91fe-6374121765d2\">\n",
              "  <button class=\"colab-df-quickchart\" onclick=\"quickchart('df-12802940-9904-4b70-91fe-6374121765d2')\"\n",
              "            title=\"Suggest charts\"\n",
              "            style=\"display:none;\">\n",
              "\n",
              "<svg xmlns=\"http://www.w3.org/2000/svg\" height=\"24px\"viewBox=\"0 0 24 24\"\n",
              "     width=\"24px\">\n",
              "    <g>\n",
              "        <path d=\"M19 3H5c-1.1 0-2 .9-2 2v14c0 1.1.9 2 2 2h14c1.1 0 2-.9 2-2V5c0-1.1-.9-2-2-2zM9 17H7v-7h2v7zm4 0h-2V7h2v10zm4 0h-2v-4h2v4z\"/>\n",
              "    </g>\n",
              "</svg>\n",
              "  </button>\n",
              "\n",
              "<style>\n",
              "  .colab-df-quickchart {\n",
              "      --bg-color: #E8F0FE;\n",
              "      --fill-color: #1967D2;\n",
              "      --hover-bg-color: #E2EBFA;\n",
              "      --hover-fill-color: #174EA6;\n",
              "      --disabled-fill-color: #AAA;\n",
              "      --disabled-bg-color: #DDD;\n",
              "  }\n",
              "\n",
              "  [theme=dark] .colab-df-quickchart {\n",
              "      --bg-color: #3B4455;\n",
              "      --fill-color: #D2E3FC;\n",
              "      --hover-bg-color: #434B5C;\n",
              "      --hover-fill-color: #FFFFFF;\n",
              "      --disabled-bg-color: #3B4455;\n",
              "      --disabled-fill-color: #666;\n",
              "  }\n",
              "\n",
              "  .colab-df-quickchart {\n",
              "    background-color: var(--bg-color);\n",
              "    border: none;\n",
              "    border-radius: 50%;\n",
              "    cursor: pointer;\n",
              "    display: none;\n",
              "    fill: var(--fill-color);\n",
              "    height: 32px;\n",
              "    padding: 0;\n",
              "    width: 32px;\n",
              "  }\n",
              "\n",
              "  .colab-df-quickchart:hover {\n",
              "    background-color: var(--hover-bg-color);\n",
              "    box-shadow: 0 1px 2px rgba(60, 64, 67, 0.3), 0 1px 3px 1px rgba(60, 64, 67, 0.15);\n",
              "    fill: var(--button-hover-fill-color);\n",
              "  }\n",
              "\n",
              "  .colab-df-quickchart-complete:disabled,\n",
              "  .colab-df-quickchart-complete:disabled:hover {\n",
              "    background-color: var(--disabled-bg-color);\n",
              "    fill: var(--disabled-fill-color);\n",
              "    box-shadow: none;\n",
              "  }\n",
              "\n",
              "  .colab-df-spinner {\n",
              "    border: 2px solid var(--fill-color);\n",
              "    border-color: transparent;\n",
              "    border-bottom-color: var(--fill-color);\n",
              "    animation:\n",
              "      spin 1s steps(1) infinite;\n",
              "  }\n",
              "\n",
              "  @keyframes spin {\n",
              "    0% {\n",
              "      border-color: transparent;\n",
              "      border-bottom-color: var(--fill-color);\n",
              "      border-left-color: var(--fill-color);\n",
              "    }\n",
              "    20% {\n",
              "      border-color: transparent;\n",
              "      border-left-color: var(--fill-color);\n",
              "      border-top-color: var(--fill-color);\n",
              "    }\n",
              "    30% {\n",
              "      border-color: transparent;\n",
              "      border-left-color: var(--fill-color);\n",
              "      border-top-color: var(--fill-color);\n",
              "      border-right-color: var(--fill-color);\n",
              "    }\n",
              "    40% {\n",
              "      border-color: transparent;\n",
              "      border-right-color: var(--fill-color);\n",
              "      border-top-color: var(--fill-color);\n",
              "    }\n",
              "    60% {\n",
              "      border-color: transparent;\n",
              "      border-right-color: var(--fill-color);\n",
              "    }\n",
              "    80% {\n",
              "      border-color: transparent;\n",
              "      border-right-color: var(--fill-color);\n",
              "      border-bottom-color: var(--fill-color);\n",
              "    }\n",
              "    90% {\n",
              "      border-color: transparent;\n",
              "      border-bottom-color: var(--fill-color);\n",
              "    }\n",
              "  }\n",
              "</style>\n",
              "\n",
              "  <script>\n",
              "    async function quickchart(key) {\n",
              "      const quickchartButtonEl =\n",
              "        document.querySelector('#' + key + ' button');\n",
              "      quickchartButtonEl.disabled = true;  // To prevent multiple clicks.\n",
              "      quickchartButtonEl.classList.add('colab-df-spinner');\n",
              "      try {\n",
              "        const charts = await google.colab.kernel.invokeFunction(\n",
              "            'suggestCharts', [key], {});\n",
              "      } catch (error) {\n",
              "        console.error('Error during call to suggestCharts:', error);\n",
              "      }\n",
              "      quickchartButtonEl.classList.remove('colab-df-spinner');\n",
              "      quickchartButtonEl.classList.add('colab-df-quickchart-complete');\n",
              "    }\n",
              "    (() => {\n",
              "      let quickchartButtonEl =\n",
              "        document.querySelector('#df-12802940-9904-4b70-91fe-6374121765d2 button');\n",
              "      quickchartButtonEl.style.display =\n",
              "        google.colab.kernel.accessAllowed ? 'block' : 'none';\n",
              "    })();\n",
              "  </script>\n",
              "</div>\n",
              "    </div>\n",
              "  </div>\n"
            ],
            "application/vnd.google.colaboratory.intrinsic+json": {
              "type": "dataframe",
              "variable_name": "data",
              "summary": "{\n  \"name\": \"data\",\n  \"rows\": 10841,\n  \"fields\": [\n    {\n      \"column\": \"App\",\n      \"properties\": {\n        \"dtype\": \"string\",\n        \"num_unique_values\": 9660,\n        \"samples\": [\n          \"Run R Script - Online Statistical Data Analysis\",\n          \"EURES - Your Job in Europe\",\n          \"Dog Licks Screen Wallpaper\"\n        ],\n        \"semantic_type\": \"\",\n        \"description\": \"\"\n      }\n    },\n    {\n      \"column\": \"Category\",\n      \"properties\": {\n        \"dtype\": \"category\",\n        \"num_unique_values\": 34,\n        \"samples\": [\n          \"LIBRARIES_AND_DEMO\",\n          \"MEDICAL\",\n          \"PRODUCTIVITY\"\n        ],\n        \"semantic_type\": \"\",\n        \"description\": \"\"\n      }\n    },\n    {\n      \"column\": \"Rating\",\n      \"properties\": {\n        \"dtype\": \"number\",\n        \"std\": 0.5374313031477587,\n        \"min\": 1.0,\n        \"max\": 19.0,\n        \"num_unique_values\": 40,\n        \"samples\": [\n          5.0,\n          3.4,\n          3.3\n        ],\n        \"semantic_type\": \"\",\n        \"description\": \"\"\n      }\n    },\n    {\n      \"column\": \"Reviews\",\n      \"properties\": {\n        \"dtype\": \"string\",\n        \"num_unique_values\": 6002,\n        \"samples\": [\n          \"66661\",\n          \"7479\",\n          \"8978\"\n        ],\n        \"semantic_type\": \"\",\n        \"description\": \"\"\n      }\n    },\n    {\n      \"column\": \"Size\",\n      \"properties\": {\n        \"dtype\": \"category\",\n        \"num_unique_values\": 462,\n        \"samples\": [\n          \"746k\",\n          \"9.4M\",\n          \"35M\"\n        ],\n        \"semantic_type\": \"\",\n        \"description\": \"\"\n      }\n    },\n    {\n      \"column\": \"Installs\",\n      \"properties\": {\n        \"dtype\": \"category\",\n        \"num_unique_values\": 22,\n        \"samples\": [\n          \"10,000+\",\n          \"50+\",\n          \"5,000+\"\n        ],\n        \"semantic_type\": \"\",\n        \"description\": \"\"\n      }\n    },\n    {\n      \"column\": \"Type\",\n      \"properties\": {\n        \"dtype\": \"category\",\n        \"num_unique_values\": 3,\n        \"samples\": [\n          \"Free\",\n          \"Paid\",\n          \"0\"\n        ],\n        \"semantic_type\": \"\",\n        \"description\": \"\"\n      }\n    },\n    {\n      \"column\": \"Price\",\n      \"properties\": {\n        \"dtype\": \"category\",\n        \"num_unique_values\": 93,\n        \"samples\": [\n          \"$17.99\",\n          \"$29.99\",\n          \"$37.99\"\n        ],\n        \"semantic_type\": \"\",\n        \"description\": \"\"\n      }\n    },\n    {\n      \"column\": \"Content Rating\",\n      \"properties\": {\n        \"dtype\": \"category\",\n        \"num_unique_values\": 6,\n        \"samples\": [\n          \"Everyone\",\n          \"Teen\",\n          \"Unrated\"\n        ],\n        \"semantic_type\": \"\",\n        \"description\": \"\"\n      }\n    },\n    {\n      \"column\": \"Genres\",\n      \"properties\": {\n        \"dtype\": \"category\",\n        \"num_unique_values\": 120,\n        \"samples\": [\n          \"Casual;Action & Adventure\",\n          \"Board\",\n          \"Auto & Vehicles\"\n        ],\n        \"semantic_type\": \"\",\n        \"description\": \"\"\n      }\n    },\n    {\n      \"column\": \"Last Updated\",\n      \"properties\": {\n        \"dtype\": \"category\",\n        \"num_unique_values\": 1378,\n        \"samples\": [\n          \"March 15, 2016\",\n          \"May 14, 2013\",\n          \"October 21, 2015\"\n        ],\n        \"semantic_type\": \"\",\n        \"description\": \"\"\n      }\n    },\n    {\n      \"column\": \"Current Ver\",\n      \"properties\": {\n        \"dtype\": \"category\",\n        \"num_unique_values\": 2832,\n        \"samples\": [\n          \"7.0.4.17908\",\n          \"1.2.5.4-11\",\n          \"2.5.7.1\"\n        ],\n        \"semantic_type\": \"\",\n        \"description\": \"\"\n      }\n    },\n    {\n      \"column\": \"Android Ver\",\n      \"properties\": {\n        \"dtype\": \"category\",\n        \"num_unique_values\": 33,\n        \"samples\": [\n          \"2.2 - 7.1.1\",\n          \"7.0 and up\",\n          \"3.1 and up\"\n        ],\n        \"semantic_type\": \"\",\n        \"description\": \"\"\n      }\n    }\n  ]\n}"
            }
          },
          "metadata": {},
          "execution_count": 15
        }
      ],
      "source": [
        "# importing datasets\n",
        "\n",
        "data = pd.read_csv('googleplaystore.csv')\n",
        "data.head()"
      ]
    },
    {
      "cell_type": "code",
      "execution_count": null,
      "metadata": {
        "colab": {
          "base_uri": "https://localhost:8080/"
        },
        "id": "1PAbo7IukI5g",
        "outputId": "86da8a43-6ed3-486b-f719-43b812e588e4"
      },
      "outputs": [
        {
          "output_type": "execute_result",
          "data": {
            "text/plain": [
              "(10841, 13)"
            ]
          },
          "metadata": {},
          "execution_count": 16
        }
      ],
      "source": [
        "data.shape"
      ]
    },
    {
      "cell_type": "code",
      "execution_count": null,
      "metadata": {
        "colab": {
          "base_uri": "https://localhost:8080/"
        },
        "id": "nrVDBIHDkMta",
        "outputId": "0f65d636-21da-4b18-b6ae-a541c83e0922"
      },
      "outputs": [
        {
          "output_type": "stream",
          "name": "stdout",
          "text": [
            "<class 'pandas.core.frame.DataFrame'>\n",
            "RangeIndex: 10841 entries, 0 to 10840\n",
            "Data columns (total 13 columns):\n",
            " #   Column          Non-Null Count  Dtype  \n",
            "---  ------          --------------  -----  \n",
            " 0   App             10841 non-null  object \n",
            " 1   Category        10841 non-null  object \n",
            " 2   Rating          9367 non-null   float64\n",
            " 3   Reviews         10841 non-null  object \n",
            " 4   Size            10841 non-null  object \n",
            " 5   Installs        10841 non-null  object \n",
            " 6   Type            10840 non-null  object \n",
            " 7   Price           10841 non-null  object \n",
            " 8   Content Rating  10840 non-null  object \n",
            " 9   Genres          10841 non-null  object \n",
            " 10  Last Updated    10841 non-null  object \n",
            " 11  Current Ver     10833 non-null  object \n",
            " 12  Android Ver     10838 non-null  object \n",
            "dtypes: float64(1), object(12)\n",
            "memory usage: 1.1+ MB\n"
          ]
        }
      ],
      "source": [
        "data.info()"
      ]
    },
    {
      "cell_type": "code",
      "execution_count": null,
      "metadata": {
        "colab": {
          "base_uri": "https://localhost:8080/",
          "height": 300
        },
        "id": "VuJJaoackO8W",
        "outputId": "7015bad3-2bf4-4cb2-e3f4-8e102822dc8b"
      },
      "outputs": [
        {
          "output_type": "execute_result",
          "data": {
            "text/plain": [
              "            Rating\n",
              "count  9367.000000\n",
              "mean      4.193338\n",
              "std       0.537431\n",
              "min       1.000000\n",
              "25%       4.000000\n",
              "50%       4.300000\n",
              "75%       4.500000\n",
              "max      19.000000"
            ],
            "text/html": [
              "\n",
              "  <div id=\"df-dc0d6670-87ac-4371-aace-c89817d26287\" class=\"colab-df-container\">\n",
              "    <div>\n",
              "<style scoped>\n",
              "    .dataframe tbody tr th:only-of-type {\n",
              "        vertical-align: middle;\n",
              "    }\n",
              "\n",
              "    .dataframe tbody tr th {\n",
              "        vertical-align: top;\n",
              "    }\n",
              "\n",
              "    .dataframe thead th {\n",
              "        text-align: right;\n",
              "    }\n",
              "</style>\n",
              "<table border=\"1\" class=\"dataframe\">\n",
              "  <thead>\n",
              "    <tr style=\"text-align: right;\">\n",
              "      <th></th>\n",
              "      <th>Rating</th>\n",
              "    </tr>\n",
              "  </thead>\n",
              "  <tbody>\n",
              "    <tr>\n",
              "      <th>count</th>\n",
              "      <td>9367.000000</td>\n",
              "    </tr>\n",
              "    <tr>\n",
              "      <th>mean</th>\n",
              "      <td>4.193338</td>\n",
              "    </tr>\n",
              "    <tr>\n",
              "      <th>std</th>\n",
              "      <td>0.537431</td>\n",
              "    </tr>\n",
              "    <tr>\n",
              "      <th>min</th>\n",
              "      <td>1.000000</td>\n",
              "    </tr>\n",
              "    <tr>\n",
              "      <th>25%</th>\n",
              "      <td>4.000000</td>\n",
              "    </tr>\n",
              "    <tr>\n",
              "      <th>50%</th>\n",
              "      <td>4.300000</td>\n",
              "    </tr>\n",
              "    <tr>\n",
              "      <th>75%</th>\n",
              "      <td>4.500000</td>\n",
              "    </tr>\n",
              "    <tr>\n",
              "      <th>max</th>\n",
              "      <td>19.000000</td>\n",
              "    </tr>\n",
              "  </tbody>\n",
              "</table>\n",
              "</div>\n",
              "    <div class=\"colab-df-buttons\">\n",
              "\n",
              "  <div class=\"colab-df-container\">\n",
              "    <button class=\"colab-df-convert\" onclick=\"convertToInteractive('df-dc0d6670-87ac-4371-aace-c89817d26287')\"\n",
              "            title=\"Convert this dataframe to an interactive table.\"\n",
              "            style=\"display:none;\">\n",
              "\n",
              "  <svg xmlns=\"http://www.w3.org/2000/svg\" height=\"24px\" viewBox=\"0 -960 960 960\">\n",
              "    <path d=\"M120-120v-720h720v720H120Zm60-500h600v-160H180v160Zm220 220h160v-160H400v160Zm0 220h160v-160H400v160ZM180-400h160v-160H180v160Zm440 0h160v-160H620v160ZM180-180h160v-160H180v160Zm440 0h160v-160H620v160Z\"/>\n",
              "  </svg>\n",
              "    </button>\n",
              "\n",
              "  <style>\n",
              "    .colab-df-container {\n",
              "      display:flex;\n",
              "      gap: 12px;\n",
              "    }\n",
              "\n",
              "    .colab-df-convert {\n",
              "      background-color: #E8F0FE;\n",
              "      border: none;\n",
              "      border-radius: 50%;\n",
              "      cursor: pointer;\n",
              "      display: none;\n",
              "      fill: #1967D2;\n",
              "      height: 32px;\n",
              "      padding: 0 0 0 0;\n",
              "      width: 32px;\n",
              "    }\n",
              "\n",
              "    .colab-df-convert:hover {\n",
              "      background-color: #E2EBFA;\n",
              "      box-shadow: 0px 1px 2px rgba(60, 64, 67, 0.3), 0px 1px 3px 1px rgba(60, 64, 67, 0.15);\n",
              "      fill: #174EA6;\n",
              "    }\n",
              "\n",
              "    .colab-df-buttons div {\n",
              "      margin-bottom: 4px;\n",
              "    }\n",
              "\n",
              "    [theme=dark] .colab-df-convert {\n",
              "      background-color: #3B4455;\n",
              "      fill: #D2E3FC;\n",
              "    }\n",
              "\n",
              "    [theme=dark] .colab-df-convert:hover {\n",
              "      background-color: #434B5C;\n",
              "      box-shadow: 0px 1px 3px 1px rgba(0, 0, 0, 0.15);\n",
              "      filter: drop-shadow(0px 1px 2px rgba(0, 0, 0, 0.3));\n",
              "      fill: #FFFFFF;\n",
              "    }\n",
              "  </style>\n",
              "\n",
              "    <script>\n",
              "      const buttonEl =\n",
              "        document.querySelector('#df-dc0d6670-87ac-4371-aace-c89817d26287 button.colab-df-convert');\n",
              "      buttonEl.style.display =\n",
              "        google.colab.kernel.accessAllowed ? 'block' : 'none';\n",
              "\n",
              "      async function convertToInteractive(key) {\n",
              "        const element = document.querySelector('#df-dc0d6670-87ac-4371-aace-c89817d26287');\n",
              "        const dataTable =\n",
              "          await google.colab.kernel.invokeFunction('convertToInteractive',\n",
              "                                                    [key], {});\n",
              "        if (!dataTable) return;\n",
              "\n",
              "        const docLinkHtml = 'Like what you see? Visit the ' +\n",
              "          '<a target=\"_blank\" href=https://colab.research.google.com/notebooks/data_table.ipynb>data table notebook</a>'\n",
              "          + ' to learn more about interactive tables.';\n",
              "        element.innerHTML = '';\n",
              "        dataTable['output_type'] = 'display_data';\n",
              "        await google.colab.output.renderOutput(dataTable, element);\n",
              "        const docLink = document.createElement('div');\n",
              "        docLink.innerHTML = docLinkHtml;\n",
              "        element.appendChild(docLink);\n",
              "      }\n",
              "    </script>\n",
              "  </div>\n",
              "\n",
              "\n",
              "<div id=\"df-57f7efcc-1d7b-413f-b3f2-5da00e662fec\">\n",
              "  <button class=\"colab-df-quickchart\" onclick=\"quickchart('df-57f7efcc-1d7b-413f-b3f2-5da00e662fec')\"\n",
              "            title=\"Suggest charts\"\n",
              "            style=\"display:none;\">\n",
              "\n",
              "<svg xmlns=\"http://www.w3.org/2000/svg\" height=\"24px\"viewBox=\"0 0 24 24\"\n",
              "     width=\"24px\">\n",
              "    <g>\n",
              "        <path d=\"M19 3H5c-1.1 0-2 .9-2 2v14c0 1.1.9 2 2 2h14c1.1 0 2-.9 2-2V5c0-1.1-.9-2-2-2zM9 17H7v-7h2v7zm4 0h-2V7h2v10zm4 0h-2v-4h2v4z\"/>\n",
              "    </g>\n",
              "</svg>\n",
              "  </button>\n",
              "\n",
              "<style>\n",
              "  .colab-df-quickchart {\n",
              "      --bg-color: #E8F0FE;\n",
              "      --fill-color: #1967D2;\n",
              "      --hover-bg-color: #E2EBFA;\n",
              "      --hover-fill-color: #174EA6;\n",
              "      --disabled-fill-color: #AAA;\n",
              "      --disabled-bg-color: #DDD;\n",
              "  }\n",
              "\n",
              "  [theme=dark] .colab-df-quickchart {\n",
              "      --bg-color: #3B4455;\n",
              "      --fill-color: #D2E3FC;\n",
              "      --hover-bg-color: #434B5C;\n",
              "      --hover-fill-color: #FFFFFF;\n",
              "      --disabled-bg-color: #3B4455;\n",
              "      --disabled-fill-color: #666;\n",
              "  }\n",
              "\n",
              "  .colab-df-quickchart {\n",
              "    background-color: var(--bg-color);\n",
              "    border: none;\n",
              "    border-radius: 50%;\n",
              "    cursor: pointer;\n",
              "    display: none;\n",
              "    fill: var(--fill-color);\n",
              "    height: 32px;\n",
              "    padding: 0;\n",
              "    width: 32px;\n",
              "  }\n",
              "\n",
              "  .colab-df-quickchart:hover {\n",
              "    background-color: var(--hover-bg-color);\n",
              "    box-shadow: 0 1px 2px rgba(60, 64, 67, 0.3), 0 1px 3px 1px rgba(60, 64, 67, 0.15);\n",
              "    fill: var(--button-hover-fill-color);\n",
              "  }\n",
              "\n",
              "  .colab-df-quickchart-complete:disabled,\n",
              "  .colab-df-quickchart-complete:disabled:hover {\n",
              "    background-color: var(--disabled-bg-color);\n",
              "    fill: var(--disabled-fill-color);\n",
              "    box-shadow: none;\n",
              "  }\n",
              "\n",
              "  .colab-df-spinner {\n",
              "    border: 2px solid var(--fill-color);\n",
              "    border-color: transparent;\n",
              "    border-bottom-color: var(--fill-color);\n",
              "    animation:\n",
              "      spin 1s steps(1) infinite;\n",
              "  }\n",
              "\n",
              "  @keyframes spin {\n",
              "    0% {\n",
              "      border-color: transparent;\n",
              "      border-bottom-color: var(--fill-color);\n",
              "      border-left-color: var(--fill-color);\n",
              "    }\n",
              "    20% {\n",
              "      border-color: transparent;\n",
              "      border-left-color: var(--fill-color);\n",
              "      border-top-color: var(--fill-color);\n",
              "    }\n",
              "    30% {\n",
              "      border-color: transparent;\n",
              "      border-left-color: var(--fill-color);\n",
              "      border-top-color: var(--fill-color);\n",
              "      border-right-color: var(--fill-color);\n",
              "    }\n",
              "    40% {\n",
              "      border-color: transparent;\n",
              "      border-right-color: var(--fill-color);\n",
              "      border-top-color: var(--fill-color);\n",
              "    }\n",
              "    60% {\n",
              "      border-color: transparent;\n",
              "      border-right-color: var(--fill-color);\n",
              "    }\n",
              "    80% {\n",
              "      border-color: transparent;\n",
              "      border-right-color: var(--fill-color);\n",
              "      border-bottom-color: var(--fill-color);\n",
              "    }\n",
              "    90% {\n",
              "      border-color: transparent;\n",
              "      border-bottom-color: var(--fill-color);\n",
              "    }\n",
              "  }\n",
              "</style>\n",
              "\n",
              "  <script>\n",
              "    async function quickchart(key) {\n",
              "      const quickchartButtonEl =\n",
              "        document.querySelector('#' + key + ' button');\n",
              "      quickchartButtonEl.disabled = true;  // To prevent multiple clicks.\n",
              "      quickchartButtonEl.classList.add('colab-df-spinner');\n",
              "      try {\n",
              "        const charts = await google.colab.kernel.invokeFunction(\n",
              "            'suggestCharts', [key], {});\n",
              "      } catch (error) {\n",
              "        console.error('Error during call to suggestCharts:', error);\n",
              "      }\n",
              "      quickchartButtonEl.classList.remove('colab-df-spinner');\n",
              "      quickchartButtonEl.classList.add('colab-df-quickchart-complete');\n",
              "    }\n",
              "    (() => {\n",
              "      let quickchartButtonEl =\n",
              "        document.querySelector('#df-57f7efcc-1d7b-413f-b3f2-5da00e662fec button');\n",
              "      quickchartButtonEl.style.display =\n",
              "        google.colab.kernel.accessAllowed ? 'block' : 'none';\n",
              "    })();\n",
              "  </script>\n",
              "</div>\n",
              "    </div>\n",
              "  </div>\n"
            ],
            "application/vnd.google.colaboratory.intrinsic+json": {
              "type": "dataframe",
              "summary": "{\n  \"name\": \"data\",\n  \"rows\": 8,\n  \"fields\": [\n    {\n      \"column\": \"Rating\",\n      \"properties\": {\n        \"dtype\": \"number\",\n        \"std\": 3309.84405628187,\n        \"min\": 0.5374313031477587,\n        \"max\": 9367.0,\n        \"num_unique_values\": 8,\n        \"samples\": [\n          4.193338315362443,\n          4.3,\n          9367.0\n        ],\n        \"semantic_type\": \"\",\n        \"description\": \"\"\n      }\n    }\n  ]\n}"
            }
          },
          "metadata": {},
          "execution_count": 18
        }
      ],
      "source": [
        "data.describe()"
      ]
    },
    {
      "cell_type": "code",
      "execution_count": null,
      "metadata": {
        "colab": {
          "base_uri": "https://localhost:8080/"
        },
        "id": "0ux3bFurkTKq",
        "outputId": "977a0842-c7e5-410f-85f0-a8f4dbdd191e"
      },
      "outputs": [
        {
          "output_type": "execute_result",
          "data": {
            "text/plain": [
              "Index([], dtype='object')"
            ]
          },
          "metadata": {},
          "execution_count": 19
        }
      ],
      "source": [
        "## Checking for Sparse Column Identification\n",
        "data.columns[data.nunique() == 1]"
      ]
    },
    {
      "cell_type": "code",
      "execution_count": null,
      "metadata": {
        "colab": {
          "base_uri": "https://localhost:8080/"
        },
        "id": "GAV6-kqcmJ3p",
        "outputId": "3c75400b-17bd-4dbf-be9a-1dba259b8592"
      },
      "outputs": [
        {
          "output_type": "execute_result",
          "data": {
            "text/plain": [
              "App               89.106171\n",
              "Category           0.313624\n",
              "Rating             0.368970\n",
              "Reviews           55.363896\n",
              "Size               4.261599\n",
              "Installs           0.202933\n",
              "Type               0.027673\n",
              "Price              0.857854\n",
              "Content Rating     0.055345\n",
              "Genres             1.106909\n",
              "Last Updated      12.711005\n",
              "Current Ver       26.123051\n",
              "Android Ver        0.304400\n",
              "dtype: float64"
            ]
          },
          "metadata": {},
          "execution_count": 20
        }
      ],
      "source": [
        "data.nunique()/len(data)*100"
      ]
    },
    {
      "cell_type": "markdown",
      "metadata": {
        "id": "WIr6ksFUqBZt"
      },
      "source": [
        "Given that the data only covers three different sorts of apps, we can observe that this is the place where the percentage of unique values in Type is the lowest. Right now, there are no columns that we will be dropping.\n"
      ]
    },
    {
      "cell_type": "code",
      "execution_count": null,
      "metadata": {
        "colab": {
          "base_uri": "https://localhost:8080/"
        },
        "id": "k4drAIK-p2y7",
        "outputId": "8b423cdc-8626-4104-aeee-bc37625fdea7"
      },
      "outputs": [
        {
          "output_type": "execute_result",
          "data": {
            "text/plain": [
              "0        False\n",
              "1        False\n",
              "2        False\n",
              "3        False\n",
              "4        False\n",
              "         ...  \n",
              "10836    False\n",
              "10837    False\n",
              "10838    False\n",
              "10839    False\n",
              "10840    False\n",
              "Length: 10841, dtype: bool"
            ]
          },
          "metadata": {},
          "execution_count": 21
        }
      ],
      "source": [
        "## Handling duplicate rows\n",
        "dups = data.duplicated()\n",
        "dups"
      ]
    },
    {
      "cell_type": "code",
      "execution_count": null,
      "metadata": {
        "colab": {
          "base_uri": "https://localhost:8080/"
        },
        "id": "bIyLAQSBqfCv",
        "outputId": "724847d5-6511-47e7-85d0-52c5212bea31"
      },
      "outputs": [
        {
          "output_type": "execute_result",
          "data": {
            "text/plain": [
              "True"
            ]
          },
          "metadata": {},
          "execution_count": 22
        }
      ],
      "source": [
        "dups.any()"
      ]
    },
    {
      "cell_type": "code",
      "execution_count": null,
      "metadata": {
        "colab": {
          "base_uri": "https://localhost:8080/",
          "height": 736
        },
        "id": "dNXspcCFqlXs",
        "outputId": "5f388b44-ba37-40fc-c877-5d9e6791336c"
      },
      "outputs": [
        {
          "output_type": "execute_result",
          "data": {
            "text/plain": [
              "                                                   App      Category  Rating  \\\n",
              "229                       Quick PDF Scanner + OCR FREE      BUSINESS     4.2   \n",
              "236                                                Box      BUSINESS     4.2   \n",
              "239                                 Google My Business      BUSINESS     4.4   \n",
              "256                                ZOOM Cloud Meetings      BUSINESS     4.4   \n",
              "261                          join.me - Simple Meetings      BUSINESS     4.0   \n",
              "...                                                ...           ...     ...   \n",
              "8643                    Wunderlist: To-Do List & Tasks  PRODUCTIVITY     4.6   \n",
              "8654   TickTick: To Do List with Reminder, Day Planner  PRODUCTIVITY     4.6   \n",
              "8658                           ColorNote Notepad Notes  PRODUCTIVITY     4.6   \n",
              "10049        Airway Ex - Intubate. Anesthetize. Train.       MEDICAL     4.3   \n",
              "10768                                             AAFP       MEDICAL     3.8   \n",
              "\n",
              "       Reviews                Size      Installs  Type Price Content Rating  \\\n",
              "229      80805  Varies with device    5,000,000+  Free     0       Everyone   \n",
              "236     159872  Varies with device   10,000,000+  Free     0       Everyone   \n",
              "239      70991  Varies with device    5,000,000+  Free     0       Everyone   \n",
              "256      31614                 37M   10,000,000+  Free     0       Everyone   \n",
              "261       6989  Varies with device    1,000,000+  Free     0       Everyone   \n",
              "...        ...                 ...           ...   ...   ...            ...   \n",
              "8643    404610  Varies with device   10,000,000+  Free     0       Everyone   \n",
              "8654     25370  Varies with device    1,000,000+  Free     0       Everyone   \n",
              "8658   2401017  Varies with device  100,000,000+  Free     0       Everyone   \n",
              "10049      123                 86M       10,000+  Free     0       Everyone   \n",
              "10768       63                 24M       10,000+  Free     0       Everyone   \n",
              "\n",
              "             Genres       Last Updated         Current Ver         Android Ver  \n",
              "229        Business  February 26, 2018  Varies with device        4.0.3 and up  \n",
              "236        Business      July 31, 2018  Varies with device  Varies with device  \n",
              "239        Business      July 24, 2018    2.19.0.204537701          4.4 and up  \n",
              "256        Business      July 20, 2018      4.1.28165.0716          4.0 and up  \n",
              "261        Business      July 16, 2018           4.3.0.508          4.4 and up  \n",
              "...             ...                ...                 ...                 ...  \n",
              "8643   Productivity      April 6, 2018  Varies with device  Varies with device  \n",
              "8654   Productivity     August 6, 2018  Varies with device  Varies with device  \n",
              "8658   Productivity      June 27, 2018  Varies with device  Varies with device  \n",
              "10049       Medical       June 1, 2018              0.6.88          5.0 and up  \n",
              "10768       Medical      June 22, 2018               2.3.1          5.0 and up  \n",
              "\n",
              "[483 rows x 13 columns]"
            ],
            "text/html": [
              "\n",
              "  <div id=\"df-e3bc113b-7e0d-41ea-b179-8d0fbb95f3cf\" class=\"colab-df-container\">\n",
              "    <div>\n",
              "<style scoped>\n",
              "    .dataframe tbody tr th:only-of-type {\n",
              "        vertical-align: middle;\n",
              "    }\n",
              "\n",
              "    .dataframe tbody tr th {\n",
              "        vertical-align: top;\n",
              "    }\n",
              "\n",
              "    .dataframe thead th {\n",
              "        text-align: right;\n",
              "    }\n",
              "</style>\n",
              "<table border=\"1\" class=\"dataframe\">\n",
              "  <thead>\n",
              "    <tr style=\"text-align: right;\">\n",
              "      <th></th>\n",
              "      <th>App</th>\n",
              "      <th>Category</th>\n",
              "      <th>Rating</th>\n",
              "      <th>Reviews</th>\n",
              "      <th>Size</th>\n",
              "      <th>Installs</th>\n",
              "      <th>Type</th>\n",
              "      <th>Price</th>\n",
              "      <th>Content Rating</th>\n",
              "      <th>Genres</th>\n",
              "      <th>Last Updated</th>\n",
              "      <th>Current Ver</th>\n",
              "      <th>Android Ver</th>\n",
              "    </tr>\n",
              "  </thead>\n",
              "  <tbody>\n",
              "    <tr>\n",
              "      <th>229</th>\n",
              "      <td>Quick PDF Scanner + OCR FREE</td>\n",
              "      <td>BUSINESS</td>\n",
              "      <td>4.2</td>\n",
              "      <td>80805</td>\n",
              "      <td>Varies with device</td>\n",
              "      <td>5,000,000+</td>\n",
              "      <td>Free</td>\n",
              "      <td>0</td>\n",
              "      <td>Everyone</td>\n",
              "      <td>Business</td>\n",
              "      <td>February 26, 2018</td>\n",
              "      <td>Varies with device</td>\n",
              "      <td>4.0.3 and up</td>\n",
              "    </tr>\n",
              "    <tr>\n",
              "      <th>236</th>\n",
              "      <td>Box</td>\n",
              "      <td>BUSINESS</td>\n",
              "      <td>4.2</td>\n",
              "      <td>159872</td>\n",
              "      <td>Varies with device</td>\n",
              "      <td>10,000,000+</td>\n",
              "      <td>Free</td>\n",
              "      <td>0</td>\n",
              "      <td>Everyone</td>\n",
              "      <td>Business</td>\n",
              "      <td>July 31, 2018</td>\n",
              "      <td>Varies with device</td>\n",
              "      <td>Varies with device</td>\n",
              "    </tr>\n",
              "    <tr>\n",
              "      <th>239</th>\n",
              "      <td>Google My Business</td>\n",
              "      <td>BUSINESS</td>\n",
              "      <td>4.4</td>\n",
              "      <td>70991</td>\n",
              "      <td>Varies with device</td>\n",
              "      <td>5,000,000+</td>\n",
              "      <td>Free</td>\n",
              "      <td>0</td>\n",
              "      <td>Everyone</td>\n",
              "      <td>Business</td>\n",
              "      <td>July 24, 2018</td>\n",
              "      <td>2.19.0.204537701</td>\n",
              "      <td>4.4 and up</td>\n",
              "    </tr>\n",
              "    <tr>\n",
              "      <th>256</th>\n",
              "      <td>ZOOM Cloud Meetings</td>\n",
              "      <td>BUSINESS</td>\n",
              "      <td>4.4</td>\n",
              "      <td>31614</td>\n",
              "      <td>37M</td>\n",
              "      <td>10,000,000+</td>\n",
              "      <td>Free</td>\n",
              "      <td>0</td>\n",
              "      <td>Everyone</td>\n",
              "      <td>Business</td>\n",
              "      <td>July 20, 2018</td>\n",
              "      <td>4.1.28165.0716</td>\n",
              "      <td>4.0 and up</td>\n",
              "    </tr>\n",
              "    <tr>\n",
              "      <th>261</th>\n",
              "      <td>join.me - Simple Meetings</td>\n",
              "      <td>BUSINESS</td>\n",
              "      <td>4.0</td>\n",
              "      <td>6989</td>\n",
              "      <td>Varies with device</td>\n",
              "      <td>1,000,000+</td>\n",
              "      <td>Free</td>\n",
              "      <td>0</td>\n",
              "      <td>Everyone</td>\n",
              "      <td>Business</td>\n",
              "      <td>July 16, 2018</td>\n",
              "      <td>4.3.0.508</td>\n",
              "      <td>4.4 and up</td>\n",
              "    </tr>\n",
              "    <tr>\n",
              "      <th>...</th>\n",
              "      <td>...</td>\n",
              "      <td>...</td>\n",
              "      <td>...</td>\n",
              "      <td>...</td>\n",
              "      <td>...</td>\n",
              "      <td>...</td>\n",
              "      <td>...</td>\n",
              "      <td>...</td>\n",
              "      <td>...</td>\n",
              "      <td>...</td>\n",
              "      <td>...</td>\n",
              "      <td>...</td>\n",
              "      <td>...</td>\n",
              "    </tr>\n",
              "    <tr>\n",
              "      <th>8643</th>\n",
              "      <td>Wunderlist: To-Do List &amp; Tasks</td>\n",
              "      <td>PRODUCTIVITY</td>\n",
              "      <td>4.6</td>\n",
              "      <td>404610</td>\n",
              "      <td>Varies with device</td>\n",
              "      <td>10,000,000+</td>\n",
              "      <td>Free</td>\n",
              "      <td>0</td>\n",
              "      <td>Everyone</td>\n",
              "      <td>Productivity</td>\n",
              "      <td>April 6, 2018</td>\n",
              "      <td>Varies with device</td>\n",
              "      <td>Varies with device</td>\n",
              "    </tr>\n",
              "    <tr>\n",
              "      <th>8654</th>\n",
              "      <td>TickTick: To Do List with Reminder, Day Planner</td>\n",
              "      <td>PRODUCTIVITY</td>\n",
              "      <td>4.6</td>\n",
              "      <td>25370</td>\n",
              "      <td>Varies with device</td>\n",
              "      <td>1,000,000+</td>\n",
              "      <td>Free</td>\n",
              "      <td>0</td>\n",
              "      <td>Everyone</td>\n",
              "      <td>Productivity</td>\n",
              "      <td>August 6, 2018</td>\n",
              "      <td>Varies with device</td>\n",
              "      <td>Varies with device</td>\n",
              "    </tr>\n",
              "    <tr>\n",
              "      <th>8658</th>\n",
              "      <td>ColorNote Notepad Notes</td>\n",
              "      <td>PRODUCTIVITY</td>\n",
              "      <td>4.6</td>\n",
              "      <td>2401017</td>\n",
              "      <td>Varies with device</td>\n",
              "      <td>100,000,000+</td>\n",
              "      <td>Free</td>\n",
              "      <td>0</td>\n",
              "      <td>Everyone</td>\n",
              "      <td>Productivity</td>\n",
              "      <td>June 27, 2018</td>\n",
              "      <td>Varies with device</td>\n",
              "      <td>Varies with device</td>\n",
              "    </tr>\n",
              "    <tr>\n",
              "      <th>10049</th>\n",
              "      <td>Airway Ex - Intubate. Anesthetize. Train.</td>\n",
              "      <td>MEDICAL</td>\n",
              "      <td>4.3</td>\n",
              "      <td>123</td>\n",
              "      <td>86M</td>\n",
              "      <td>10,000+</td>\n",
              "      <td>Free</td>\n",
              "      <td>0</td>\n",
              "      <td>Everyone</td>\n",
              "      <td>Medical</td>\n",
              "      <td>June 1, 2018</td>\n",
              "      <td>0.6.88</td>\n",
              "      <td>5.0 and up</td>\n",
              "    </tr>\n",
              "    <tr>\n",
              "      <th>10768</th>\n",
              "      <td>AAFP</td>\n",
              "      <td>MEDICAL</td>\n",
              "      <td>3.8</td>\n",
              "      <td>63</td>\n",
              "      <td>24M</td>\n",
              "      <td>10,000+</td>\n",
              "      <td>Free</td>\n",
              "      <td>0</td>\n",
              "      <td>Everyone</td>\n",
              "      <td>Medical</td>\n",
              "      <td>June 22, 2018</td>\n",
              "      <td>2.3.1</td>\n",
              "      <td>5.0 and up</td>\n",
              "    </tr>\n",
              "  </tbody>\n",
              "</table>\n",
              "<p>483 rows × 13 columns</p>\n",
              "</div>\n",
              "    <div class=\"colab-df-buttons\">\n",
              "\n",
              "  <div class=\"colab-df-container\">\n",
              "    <button class=\"colab-df-convert\" onclick=\"convertToInteractive('df-e3bc113b-7e0d-41ea-b179-8d0fbb95f3cf')\"\n",
              "            title=\"Convert this dataframe to an interactive table.\"\n",
              "            style=\"display:none;\">\n",
              "\n",
              "  <svg xmlns=\"http://www.w3.org/2000/svg\" height=\"24px\" viewBox=\"0 -960 960 960\">\n",
              "    <path d=\"M120-120v-720h720v720H120Zm60-500h600v-160H180v160Zm220 220h160v-160H400v160Zm0 220h160v-160H400v160ZM180-400h160v-160H180v160Zm440 0h160v-160H620v160ZM180-180h160v-160H180v160Zm440 0h160v-160H620v160Z\"/>\n",
              "  </svg>\n",
              "    </button>\n",
              "\n",
              "  <style>\n",
              "    .colab-df-container {\n",
              "      display:flex;\n",
              "      gap: 12px;\n",
              "    }\n",
              "\n",
              "    .colab-df-convert {\n",
              "      background-color: #E8F0FE;\n",
              "      border: none;\n",
              "      border-radius: 50%;\n",
              "      cursor: pointer;\n",
              "      display: none;\n",
              "      fill: #1967D2;\n",
              "      height: 32px;\n",
              "      padding: 0 0 0 0;\n",
              "      width: 32px;\n",
              "    }\n",
              "\n",
              "    .colab-df-convert:hover {\n",
              "      background-color: #E2EBFA;\n",
              "      box-shadow: 0px 1px 2px rgba(60, 64, 67, 0.3), 0px 1px 3px 1px rgba(60, 64, 67, 0.15);\n",
              "      fill: #174EA6;\n",
              "    }\n",
              "\n",
              "    .colab-df-buttons div {\n",
              "      margin-bottom: 4px;\n",
              "    }\n",
              "\n",
              "    [theme=dark] .colab-df-convert {\n",
              "      background-color: #3B4455;\n",
              "      fill: #D2E3FC;\n",
              "    }\n",
              "\n",
              "    [theme=dark] .colab-df-convert:hover {\n",
              "      background-color: #434B5C;\n",
              "      box-shadow: 0px 1px 3px 1px rgba(0, 0, 0, 0.15);\n",
              "      filter: drop-shadow(0px 1px 2px rgba(0, 0, 0, 0.3));\n",
              "      fill: #FFFFFF;\n",
              "    }\n",
              "  </style>\n",
              "\n",
              "    <script>\n",
              "      const buttonEl =\n",
              "        document.querySelector('#df-e3bc113b-7e0d-41ea-b179-8d0fbb95f3cf button.colab-df-convert');\n",
              "      buttonEl.style.display =\n",
              "        google.colab.kernel.accessAllowed ? 'block' : 'none';\n",
              "\n",
              "      async function convertToInteractive(key) {\n",
              "        const element = document.querySelector('#df-e3bc113b-7e0d-41ea-b179-8d0fbb95f3cf');\n",
              "        const dataTable =\n",
              "          await google.colab.kernel.invokeFunction('convertToInteractive',\n",
              "                                                    [key], {});\n",
              "        if (!dataTable) return;\n",
              "\n",
              "        const docLinkHtml = 'Like what you see? Visit the ' +\n",
              "          '<a target=\"_blank\" href=https://colab.research.google.com/notebooks/data_table.ipynb>data table notebook</a>'\n",
              "          + ' to learn more about interactive tables.';\n",
              "        element.innerHTML = '';\n",
              "        dataTable['output_type'] = 'display_data';\n",
              "        await google.colab.output.renderOutput(dataTable, element);\n",
              "        const docLink = document.createElement('div');\n",
              "        docLink.innerHTML = docLinkHtml;\n",
              "        element.appendChild(docLink);\n",
              "      }\n",
              "    </script>\n",
              "  </div>\n",
              "\n",
              "\n",
              "<div id=\"df-53421e3c-6008-43b5-8798-de7f96011f46\">\n",
              "  <button class=\"colab-df-quickchart\" onclick=\"quickchart('df-53421e3c-6008-43b5-8798-de7f96011f46')\"\n",
              "            title=\"Suggest charts\"\n",
              "            style=\"display:none;\">\n",
              "\n",
              "<svg xmlns=\"http://www.w3.org/2000/svg\" height=\"24px\"viewBox=\"0 0 24 24\"\n",
              "     width=\"24px\">\n",
              "    <g>\n",
              "        <path d=\"M19 3H5c-1.1 0-2 .9-2 2v14c0 1.1.9 2 2 2h14c1.1 0 2-.9 2-2V5c0-1.1-.9-2-2-2zM9 17H7v-7h2v7zm4 0h-2V7h2v10zm4 0h-2v-4h2v4z\"/>\n",
              "    </g>\n",
              "</svg>\n",
              "  </button>\n",
              "\n",
              "<style>\n",
              "  .colab-df-quickchart {\n",
              "      --bg-color: #E8F0FE;\n",
              "      --fill-color: #1967D2;\n",
              "      --hover-bg-color: #E2EBFA;\n",
              "      --hover-fill-color: #174EA6;\n",
              "      --disabled-fill-color: #AAA;\n",
              "      --disabled-bg-color: #DDD;\n",
              "  }\n",
              "\n",
              "  [theme=dark] .colab-df-quickchart {\n",
              "      --bg-color: #3B4455;\n",
              "      --fill-color: #D2E3FC;\n",
              "      --hover-bg-color: #434B5C;\n",
              "      --hover-fill-color: #FFFFFF;\n",
              "      --disabled-bg-color: #3B4455;\n",
              "      --disabled-fill-color: #666;\n",
              "  }\n",
              "\n",
              "  .colab-df-quickchart {\n",
              "    background-color: var(--bg-color);\n",
              "    border: none;\n",
              "    border-radius: 50%;\n",
              "    cursor: pointer;\n",
              "    display: none;\n",
              "    fill: var(--fill-color);\n",
              "    height: 32px;\n",
              "    padding: 0;\n",
              "    width: 32px;\n",
              "  }\n",
              "\n",
              "  .colab-df-quickchart:hover {\n",
              "    background-color: var(--hover-bg-color);\n",
              "    box-shadow: 0 1px 2px rgba(60, 64, 67, 0.3), 0 1px 3px 1px rgba(60, 64, 67, 0.15);\n",
              "    fill: var(--button-hover-fill-color);\n",
              "  }\n",
              "\n",
              "  .colab-df-quickchart-complete:disabled,\n",
              "  .colab-df-quickchart-complete:disabled:hover {\n",
              "    background-color: var(--disabled-bg-color);\n",
              "    fill: var(--disabled-fill-color);\n",
              "    box-shadow: none;\n",
              "  }\n",
              "\n",
              "  .colab-df-spinner {\n",
              "    border: 2px solid var(--fill-color);\n",
              "    border-color: transparent;\n",
              "    border-bottom-color: var(--fill-color);\n",
              "    animation:\n",
              "      spin 1s steps(1) infinite;\n",
              "  }\n",
              "\n",
              "  @keyframes spin {\n",
              "    0% {\n",
              "      border-color: transparent;\n",
              "      border-bottom-color: var(--fill-color);\n",
              "      border-left-color: var(--fill-color);\n",
              "    }\n",
              "    20% {\n",
              "      border-color: transparent;\n",
              "      border-left-color: var(--fill-color);\n",
              "      border-top-color: var(--fill-color);\n",
              "    }\n",
              "    30% {\n",
              "      border-color: transparent;\n",
              "      border-left-color: var(--fill-color);\n",
              "      border-top-color: var(--fill-color);\n",
              "      border-right-color: var(--fill-color);\n",
              "    }\n",
              "    40% {\n",
              "      border-color: transparent;\n",
              "      border-right-color: var(--fill-color);\n",
              "      border-top-color: var(--fill-color);\n",
              "    }\n",
              "    60% {\n",
              "      border-color: transparent;\n",
              "      border-right-color: var(--fill-color);\n",
              "    }\n",
              "    80% {\n",
              "      border-color: transparent;\n",
              "      border-right-color: var(--fill-color);\n",
              "      border-bottom-color: var(--fill-color);\n",
              "    }\n",
              "    90% {\n",
              "      border-color: transparent;\n",
              "      border-bottom-color: var(--fill-color);\n",
              "    }\n",
              "  }\n",
              "</style>\n",
              "\n",
              "  <script>\n",
              "    async function quickchart(key) {\n",
              "      const quickchartButtonEl =\n",
              "        document.querySelector('#' + key + ' button');\n",
              "      quickchartButtonEl.disabled = true;  // To prevent multiple clicks.\n",
              "      quickchartButtonEl.classList.add('colab-df-spinner');\n",
              "      try {\n",
              "        const charts = await google.colab.kernel.invokeFunction(\n",
              "            'suggestCharts', [key], {});\n",
              "      } catch (error) {\n",
              "        console.error('Error during call to suggestCharts:', error);\n",
              "      }\n",
              "      quickchartButtonEl.classList.remove('colab-df-spinner');\n",
              "      quickchartButtonEl.classList.add('colab-df-quickchart-complete');\n",
              "    }\n",
              "    (() => {\n",
              "      let quickchartButtonEl =\n",
              "        document.querySelector('#df-53421e3c-6008-43b5-8798-de7f96011f46 button');\n",
              "      quickchartButtonEl.style.display =\n",
              "        google.colab.kernel.accessAllowed ? 'block' : 'none';\n",
              "    })();\n",
              "  </script>\n",
              "</div>\n",
              "    </div>\n",
              "  </div>\n"
            ],
            "application/vnd.google.colaboratory.intrinsic+json": {
              "type": "dataframe",
              "repr_error": "0"
            }
          },
          "metadata": {},
          "execution_count": 23
        }
      ],
      "source": [
        "data[dups]\n"
      ]
    },
    {
      "cell_type": "code",
      "execution_count": null,
      "metadata": {
        "id": "RhHGXlteqn1L",
        "colab": {
          "base_uri": "https://localhost:8080/",
          "height": 164
        },
        "outputId": "0aeb329d-e6b5-4987-b82e-c8d5a45cfb6c"
      },
      "outputs": [
        {
          "output_type": "execute_result",
          "data": {
            "text/plain": [
              "                              App  Category  Rating Reviews  \\\n",
              "222  Quick PDF Scanner + OCR FREE  BUSINESS     4.2   80805   \n",
              "229  Quick PDF Scanner + OCR FREE  BUSINESS     4.2   80805   \n",
              "\n",
              "                   Size    Installs  Type Price Content Rating    Genres  \\\n",
              "222  Varies with device  5,000,000+  Free     0       Everyone  Business   \n",
              "229  Varies with device  5,000,000+  Free     0       Everyone  Business   \n",
              "\n",
              "          Last Updated         Current Ver   Android Ver  \n",
              "222  February 26, 2018  Varies with device  4.0.3 and up  \n",
              "229  February 26, 2018  Varies with device  4.0.3 and up  "
            ],
            "text/html": [
              "\n",
              "  <div id=\"df-80c55be2-b28b-4318-85e9-032dc4c8df8c\" class=\"colab-df-container\">\n",
              "    <div>\n",
              "<style scoped>\n",
              "    .dataframe tbody tr th:only-of-type {\n",
              "        vertical-align: middle;\n",
              "    }\n",
              "\n",
              "    .dataframe tbody tr th {\n",
              "        vertical-align: top;\n",
              "    }\n",
              "\n",
              "    .dataframe thead th {\n",
              "        text-align: right;\n",
              "    }\n",
              "</style>\n",
              "<table border=\"1\" class=\"dataframe\">\n",
              "  <thead>\n",
              "    <tr style=\"text-align: right;\">\n",
              "      <th></th>\n",
              "      <th>App</th>\n",
              "      <th>Category</th>\n",
              "      <th>Rating</th>\n",
              "      <th>Reviews</th>\n",
              "      <th>Size</th>\n",
              "      <th>Installs</th>\n",
              "      <th>Type</th>\n",
              "      <th>Price</th>\n",
              "      <th>Content Rating</th>\n",
              "      <th>Genres</th>\n",
              "      <th>Last Updated</th>\n",
              "      <th>Current Ver</th>\n",
              "      <th>Android Ver</th>\n",
              "    </tr>\n",
              "  </thead>\n",
              "  <tbody>\n",
              "    <tr>\n",
              "      <th>222</th>\n",
              "      <td>Quick PDF Scanner + OCR FREE</td>\n",
              "      <td>BUSINESS</td>\n",
              "      <td>4.2</td>\n",
              "      <td>80805</td>\n",
              "      <td>Varies with device</td>\n",
              "      <td>5,000,000+</td>\n",
              "      <td>Free</td>\n",
              "      <td>0</td>\n",
              "      <td>Everyone</td>\n",
              "      <td>Business</td>\n",
              "      <td>February 26, 2018</td>\n",
              "      <td>Varies with device</td>\n",
              "      <td>4.0.3 and up</td>\n",
              "    </tr>\n",
              "    <tr>\n",
              "      <th>229</th>\n",
              "      <td>Quick PDF Scanner + OCR FREE</td>\n",
              "      <td>BUSINESS</td>\n",
              "      <td>4.2</td>\n",
              "      <td>80805</td>\n",
              "      <td>Varies with device</td>\n",
              "      <td>5,000,000+</td>\n",
              "      <td>Free</td>\n",
              "      <td>0</td>\n",
              "      <td>Everyone</td>\n",
              "      <td>Business</td>\n",
              "      <td>February 26, 2018</td>\n",
              "      <td>Varies with device</td>\n",
              "      <td>4.0.3 and up</td>\n",
              "    </tr>\n",
              "  </tbody>\n",
              "</table>\n",
              "</div>\n",
              "    <div class=\"colab-df-buttons\">\n",
              "\n",
              "  <div class=\"colab-df-container\">\n",
              "    <button class=\"colab-df-convert\" onclick=\"convertToInteractive('df-80c55be2-b28b-4318-85e9-032dc4c8df8c')\"\n",
              "            title=\"Convert this dataframe to an interactive table.\"\n",
              "            style=\"display:none;\">\n",
              "\n",
              "  <svg xmlns=\"http://www.w3.org/2000/svg\" height=\"24px\" viewBox=\"0 -960 960 960\">\n",
              "    <path d=\"M120-120v-720h720v720H120Zm60-500h600v-160H180v160Zm220 220h160v-160H400v160Zm0 220h160v-160H400v160ZM180-400h160v-160H180v160Zm440 0h160v-160H620v160ZM180-180h160v-160H180v160Zm440 0h160v-160H620v160Z\"/>\n",
              "  </svg>\n",
              "    </button>\n",
              "\n",
              "  <style>\n",
              "    .colab-df-container {\n",
              "      display:flex;\n",
              "      gap: 12px;\n",
              "    }\n",
              "\n",
              "    .colab-df-convert {\n",
              "      background-color: #E8F0FE;\n",
              "      border: none;\n",
              "      border-radius: 50%;\n",
              "      cursor: pointer;\n",
              "      display: none;\n",
              "      fill: #1967D2;\n",
              "      height: 32px;\n",
              "      padding: 0 0 0 0;\n",
              "      width: 32px;\n",
              "    }\n",
              "\n",
              "    .colab-df-convert:hover {\n",
              "      background-color: #E2EBFA;\n",
              "      box-shadow: 0px 1px 2px rgba(60, 64, 67, 0.3), 0px 1px 3px 1px rgba(60, 64, 67, 0.15);\n",
              "      fill: #174EA6;\n",
              "    }\n",
              "\n",
              "    .colab-df-buttons div {\n",
              "      margin-bottom: 4px;\n",
              "    }\n",
              "\n",
              "    [theme=dark] .colab-df-convert {\n",
              "      background-color: #3B4455;\n",
              "      fill: #D2E3FC;\n",
              "    }\n",
              "\n",
              "    [theme=dark] .colab-df-convert:hover {\n",
              "      background-color: #434B5C;\n",
              "      box-shadow: 0px 1px 3px 1px rgba(0, 0, 0, 0.15);\n",
              "      filter: drop-shadow(0px 1px 2px rgba(0, 0, 0, 0.3));\n",
              "      fill: #FFFFFF;\n",
              "    }\n",
              "  </style>\n",
              "\n",
              "    <script>\n",
              "      const buttonEl =\n",
              "        document.querySelector('#df-80c55be2-b28b-4318-85e9-032dc4c8df8c button.colab-df-convert');\n",
              "      buttonEl.style.display =\n",
              "        google.colab.kernel.accessAllowed ? 'block' : 'none';\n",
              "\n",
              "      async function convertToInteractive(key) {\n",
              "        const element = document.querySelector('#df-80c55be2-b28b-4318-85e9-032dc4c8df8c');\n",
              "        const dataTable =\n",
              "          await google.colab.kernel.invokeFunction('convertToInteractive',\n",
              "                                                    [key], {});\n",
              "        if (!dataTable) return;\n",
              "\n",
              "        const docLinkHtml = 'Like what you see? Visit the ' +\n",
              "          '<a target=\"_blank\" href=https://colab.research.google.com/notebooks/data_table.ipynb>data table notebook</a>'\n",
              "          + ' to learn more about interactive tables.';\n",
              "        element.innerHTML = '';\n",
              "        dataTable['output_type'] = 'display_data';\n",
              "        await google.colab.output.renderOutput(dataTable, element);\n",
              "        const docLink = document.createElement('div');\n",
              "        docLink.innerHTML = docLinkHtml;\n",
              "        element.appendChild(docLink);\n",
              "      }\n",
              "    </script>\n",
              "  </div>\n",
              "\n",
              "\n",
              "<div id=\"df-9e7c7818-fae4-4159-b5f8-8cdae39cd0f3\">\n",
              "  <button class=\"colab-df-quickchart\" onclick=\"quickchart('df-9e7c7818-fae4-4159-b5f8-8cdae39cd0f3')\"\n",
              "            title=\"Suggest charts\"\n",
              "            style=\"display:none;\">\n",
              "\n",
              "<svg xmlns=\"http://www.w3.org/2000/svg\" height=\"24px\"viewBox=\"0 0 24 24\"\n",
              "     width=\"24px\">\n",
              "    <g>\n",
              "        <path d=\"M19 3H5c-1.1 0-2 .9-2 2v14c0 1.1.9 2 2 2h14c1.1 0 2-.9 2-2V5c0-1.1-.9-2-2-2zM9 17H7v-7h2v7zm4 0h-2V7h2v10zm4 0h-2v-4h2v4z\"/>\n",
              "    </g>\n",
              "</svg>\n",
              "  </button>\n",
              "\n",
              "<style>\n",
              "  .colab-df-quickchart {\n",
              "      --bg-color: #E8F0FE;\n",
              "      --fill-color: #1967D2;\n",
              "      --hover-bg-color: #E2EBFA;\n",
              "      --hover-fill-color: #174EA6;\n",
              "      --disabled-fill-color: #AAA;\n",
              "      --disabled-bg-color: #DDD;\n",
              "  }\n",
              "\n",
              "  [theme=dark] .colab-df-quickchart {\n",
              "      --bg-color: #3B4455;\n",
              "      --fill-color: #D2E3FC;\n",
              "      --hover-bg-color: #434B5C;\n",
              "      --hover-fill-color: #FFFFFF;\n",
              "      --disabled-bg-color: #3B4455;\n",
              "      --disabled-fill-color: #666;\n",
              "  }\n",
              "\n",
              "  .colab-df-quickchart {\n",
              "    background-color: var(--bg-color);\n",
              "    border: none;\n",
              "    border-radius: 50%;\n",
              "    cursor: pointer;\n",
              "    display: none;\n",
              "    fill: var(--fill-color);\n",
              "    height: 32px;\n",
              "    padding: 0;\n",
              "    width: 32px;\n",
              "  }\n",
              "\n",
              "  .colab-df-quickchart:hover {\n",
              "    background-color: var(--hover-bg-color);\n",
              "    box-shadow: 0 1px 2px rgba(60, 64, 67, 0.3), 0 1px 3px 1px rgba(60, 64, 67, 0.15);\n",
              "    fill: var(--button-hover-fill-color);\n",
              "  }\n",
              "\n",
              "  .colab-df-quickchart-complete:disabled,\n",
              "  .colab-df-quickchart-complete:disabled:hover {\n",
              "    background-color: var(--disabled-bg-color);\n",
              "    fill: var(--disabled-fill-color);\n",
              "    box-shadow: none;\n",
              "  }\n",
              "\n",
              "  .colab-df-spinner {\n",
              "    border: 2px solid var(--fill-color);\n",
              "    border-color: transparent;\n",
              "    border-bottom-color: var(--fill-color);\n",
              "    animation:\n",
              "      spin 1s steps(1) infinite;\n",
              "  }\n",
              "\n",
              "  @keyframes spin {\n",
              "    0% {\n",
              "      border-color: transparent;\n",
              "      border-bottom-color: var(--fill-color);\n",
              "      border-left-color: var(--fill-color);\n",
              "    }\n",
              "    20% {\n",
              "      border-color: transparent;\n",
              "      border-left-color: var(--fill-color);\n",
              "      border-top-color: var(--fill-color);\n",
              "    }\n",
              "    30% {\n",
              "      border-color: transparent;\n",
              "      border-left-color: var(--fill-color);\n",
              "      border-top-color: var(--fill-color);\n",
              "      border-right-color: var(--fill-color);\n",
              "    }\n",
              "    40% {\n",
              "      border-color: transparent;\n",
              "      border-right-color: var(--fill-color);\n",
              "      border-top-color: var(--fill-color);\n",
              "    }\n",
              "    60% {\n",
              "      border-color: transparent;\n",
              "      border-right-color: var(--fill-color);\n",
              "    }\n",
              "    80% {\n",
              "      border-color: transparent;\n",
              "      border-right-color: var(--fill-color);\n",
              "      border-bottom-color: var(--fill-color);\n",
              "    }\n",
              "    90% {\n",
              "      border-color: transparent;\n",
              "      border-bottom-color: var(--fill-color);\n",
              "    }\n",
              "  }\n",
              "</style>\n",
              "\n",
              "  <script>\n",
              "    async function quickchart(key) {\n",
              "      const quickchartButtonEl =\n",
              "        document.querySelector('#' + key + ' button');\n",
              "      quickchartButtonEl.disabled = true;  // To prevent multiple clicks.\n",
              "      quickchartButtonEl.classList.add('colab-df-spinner');\n",
              "      try {\n",
              "        const charts = await google.colab.kernel.invokeFunction(\n",
              "            'suggestCharts', [key], {});\n",
              "      } catch (error) {\n",
              "        console.error('Error during call to suggestCharts:', error);\n",
              "      }\n",
              "      quickchartButtonEl.classList.remove('colab-df-spinner');\n",
              "      quickchartButtonEl.classList.add('colab-df-quickchart-complete');\n",
              "    }\n",
              "    (() => {\n",
              "      let quickchartButtonEl =\n",
              "        document.querySelector('#df-9e7c7818-fae4-4159-b5f8-8cdae39cd0f3 button');\n",
              "      quickchartButtonEl.style.display =\n",
              "        google.colab.kernel.accessAllowed ? 'block' : 'none';\n",
              "    })();\n",
              "  </script>\n",
              "</div>\n",
              "    </div>\n",
              "  </div>\n"
            ],
            "application/vnd.google.colaboratory.intrinsic+json": {
              "type": "dataframe",
              "repr_error": "0"
            }
          },
          "metadata": {},
          "execution_count": 24
        }
      ],
      "source": [
        "data[data.apply(lambda s: list(s) == list(data.iloc[229,:]), axis = 1)]"
      ]
    },
    {
      "cell_type": "code",
      "execution_count": null,
      "metadata": {
        "id": "TdA7AE6_rD0e",
        "colab": {
          "base_uri": "https://localhost:8080/"
        },
        "outputId": "fddbdbe6-e57a-4629-cb3d-4f362dda335b"
      },
      "outputs": [
        {
          "output_type": "stream",
          "name": "stdout",
          "text": [
            "(10358, 13)\n"
          ]
        }
      ],
      "source": [
        "# delete duplicate rows\n",
        "data.drop_duplicates(inplace=True)\n",
        "print(data.shape)"
      ]
    },
    {
      "cell_type": "code",
      "execution_count": null,
      "metadata": {
        "id": "iMcOoGMWrNSH",
        "colab": {
          "base_uri": "https://localhost:8080/"
        },
        "outputId": "347483dc-e2c8-424a-863f-629a86f4405f"
      },
      "outputs": [
        {
          "output_type": "execute_result",
          "data": {
            "text/plain": [
              "Rating            14.143657\n",
              "Current Ver        0.077235\n",
              "Android Ver        0.028963\n",
              "Type               0.009654\n",
              "Content Rating     0.009654\n",
              "App                0.000000\n",
              "Category           0.000000\n",
              "Reviews            0.000000\n",
              "Size               0.000000\n",
              "Installs           0.000000\n",
              "Price              0.000000\n",
              "Genres             0.000000\n",
              "Last Updated       0.000000\n",
              "dtype: float64"
            ]
          },
          "metadata": {},
          "execution_count": 26
        }
      ],
      "source": [
        "## Identifying missing  values\n",
        "data.isnull().sum().sort_values(ascending= False)/ len(data) * 100"
      ]
    },
    {
      "cell_type": "markdown",
      "metadata": {
        "id": "PQMmtGrZsBfK"
      },
      "source": [
        "Here we can observe that Rating, Current Ver and Andriod Ver has considerable amount of missing values."
      ]
    },
    {
      "cell_type": "markdown",
      "metadata": {
        "id": "VdFMn0WmsahQ"
      },
      "source": [
        "### Conclusions\n",
        "1. The dataset has 10841 rows and  13 columns.\n",
        "2. The dataset has 1 numerical and 12 categorical variables.\n",
        "3. The mean ratings of the apps in the dataset are high that is 4.19\n",
        "4. No columns are dropped at this point in the analysis.\n",
        "5. Duplicated rows are removed."
      ]
    },
    {
      "cell_type": "markdown",
      "metadata": {
        "id": "E99m29WXSonw"
      },
      "source": [
        "## Intermediate Progress"
      ]
    },
    {
      "cell_type": "code",
      "execution_count": null,
      "metadata": {
        "id": "EZ1YNjpFsYk7"
      },
      "outputs": [],
      "source": [
        "#Correlation Matrix\n",
        "data2 = data.copy()"
      ]
    },
    {
      "cell_type": "code",
      "execution_count": null,
      "metadata": {
        "id": "E_-4kMFUUEYB",
        "colab": {
          "base_uri": "https://localhost:8080/",
          "height": 1000
        },
        "outputId": "2188e37c-fb49-4aab-b82a-f96f886d2f7c"
      },
      "outputs": [
        {
          "output_type": "execute_result",
          "data": {
            "text/plain": [
              "<Axes: >"
            ]
          },
          "metadata": {},
          "execution_count": 28
        },
        {
          "output_type": "display_data",
          "data": {
            "text/plain": [
              "<Figure size 1600x1100 with 2 Axes>"
            ],
            "image/png": "[encoded data removed]"
          },
          "metadata": {}
        }
      ],
      "source": [
        "#Converting categorical variables into numerical\n",
        "cat_cols = data2.select_dtypes(include = ['object',  'category']).columns\n",
        "for col in cat_cols:\n",
        "  data2[col] = LabelEncoder().fit_transform(data2[col])\n",
        "\n",
        "correlation_matrix = data2.corr()\n",
        "\n",
        "sorted_corr= correlation_matrix.index\n",
        "\n",
        "\n",
        "plt.figure(figsize=(16,11))\n",
        "sns.heatmap(data2[sorted_corr].corr(), annot = True, cmap= 'RdBu',alpha= 0.9, square = False)"
      ]
    },
    {
      "cell_type": "markdown",
      "metadata": {
        "id": "H6_1ET5gZ9-p"
      },
      "source": [
        "We don't find anything substantial with the correlation matrix."
      ]
    },
    {
      "cell_type": "markdown",
      "metadata": {
        "id": "fLAshrAFiVVq"
      },
      "source": [
        "## Data Processing\n",
        "From the above analysis, we find that there are serveral columns containing missing values, that is **Rating, Current Ver, Android Ver, Type** and **Content Rating**\n",
        "\n",
        "In machine learning project, we have several strategies to handle missing value efficiently.\n",
        "\n",
        "1. **Remove Missing Data**\n",
        "  This is the simplest approach but can lead to loss of information if a significant amount of data is missing. We might consider to remove:\n",
        "\n",
        "  Rows with missing values, especially if the dataset is large and the missing data is not extensive.\n",
        "\n",
        "  Columns with a high percentage of missing values, particularly when those columns are not critical to your analysis or predictions.\n",
        "\n",
        "2. **Impute Missing Values**\n",
        "  Imputation involves filling in missing data with substituted values. This is often preferable to deleting missing data, especially if the loss of data is substantial.\n",
        "\n",
        "3. **Use Algorithms that Support Missing Values**\n",
        "  Some machine learning algorithms can handle missing values internally. For example:\n",
        "\n",
        "  <u>XGBoost and LightGBM</u>: Can handle missing values without requiring imputation.\n",
        "\n",
        "  <u>Random Forests</u>: Can often handle missing data by finding splits that separate the data even with missing values.\n",
        "\n",
        "  These trails would be applied in the following sections.\n",
        "\n",
        "Before deciding the strategy, we analyze the type of missing data:\n",
        "\n",
        "1. **Missing Completely at Ramdom(MCAR)**: The likelihood of a data point being missing is the same for all observations.\n",
        "2. **Missing at Random (MAR)**: The likelihood of a data point being missing is not random, but is fully accounted for by variables where there is complete information.\n",
        "3. **Not Missing at Random (NMAR)**: The missingness of the data is related to the reason it is missing.\n",
        "\n"
      ]
    },
    {
      "cell_type": "markdown",
      "metadata": {
        "id": "UOUkzZVKqB0B"
      },
      "source": [
        "----\n",
        "### Dealing with Missing Value"
      ]
    },
    {
      "cell_type": "code",
      "execution_count": null,
      "metadata": {
        "id": "xmfAkNkUiZlz"
      },
      "outputs": [],
      "source": [
        "# Dealing with Rating\n",
        "impute = IterativeImputer(estimator = XGBRegressor(), max_iter = 100, random_state = 42)\n",
        "data['Rating'] = impute.fit_transform(data[['Rating']])"
      ]
    },
    {
      "cell_type": "code",
      "execution_count": null,
      "metadata": {
        "id": "cDB7XFL1jkdu",
        "colab": {
          "base_uri": "https://localhost:8080/"
        },
        "outputId": "888e0204-f05f-4295-93f6-2998517bb7da"
      },
      "outputs": [
        {
          "output_type": "execute_result",
          "data": {
            "text/plain": [
              "0"
            ]
          },
          "metadata": {},
          "execution_count": 30
        }
      ],
      "source": [
        "data['Rating'].isnull().sum()"
      ]
    },
    {
      "cell_type": "code",
      "execution_count": null,
      "metadata": {
        "id": "L1HOdlOFjxQI",
        "colab": {
          "base_uri": "https://localhost:8080/"
        },
        "outputId": "9f36dec6-576f-4934-9bc7-e72ac9fb4469"
      },
      "outputs": [
        {
          "output_type": "execute_result",
          "data": {
            "text/plain": [
              "8"
            ]
          },
          "metadata": {},
          "execution_count": 31
        }
      ],
      "source": [
        "data['Current Ver'].isnull().sum()"
      ]
    },
    {
      "cell_type": "code",
      "execution_count": null,
      "metadata": {
        "id": "bhM1vHba2IJc",
        "colab": {
          "base_uri": "https://localhost:8080/"
        },
        "outputId": "f856a888-a428-4a54-bb47-8d84d2f8ec92"
      },
      "outputs": [
        {
          "output_type": "execute_result",
          "data": {
            "text/plain": [
              "0"
            ]
          },
          "metadata": {},
          "execution_count": 32
        }
      ],
      "source": [
        "# Dealing with Current Ver\n",
        "\n",
        "data['Current Ver'].fillna(data['Current Ver'].mode()[0], inplace = True)\n",
        "data['Current Ver'].isnull().sum()"
      ]
    },
    {
      "cell_type": "code",
      "execution_count": null,
      "metadata": {
        "id": "G38wcuhhqdso",
        "colab": {
          "base_uri": "https://localhost:8080/"
        },
        "outputId": "127661a7-1f51-458a-d340-fe080dce27b2"
      },
      "outputs": [
        {
          "output_type": "execute_result",
          "data": {
            "text/plain": [
              "3"
            ]
          },
          "metadata": {},
          "execution_count": 33
        }
      ],
      "source": [
        "data['Android Ver'].isnull().sum()"
      ]
    },
    {
      "cell_type": "code",
      "execution_count": null,
      "metadata": {
        "id": "he7KEFgAqklT",
        "colab": {
          "base_uri": "https://localhost:8080/"
        },
        "outputId": "0ff4b0a1-1c47-47ba-ae4d-31e9dc9f7fac"
      },
      "outputs": [
        {
          "output_type": "execute_result",
          "data": {
            "text/plain": [
              "0"
            ]
          },
          "metadata": {},
          "execution_count": 34
        }
      ],
      "source": [
        "# Dealing with Android Ver\n",
        "\n",
        "data['Android Ver'].fillna(data['Android Ver'].mode()[0], inplace = True)\n",
        "data['Android Ver'].isnull().sum()"
      ]
    },
    {
      "cell_type": "markdown",
      "metadata": {
        "id": "IbCHFWFL8N9p"
      },
      "source": [
        "### Dealing with Format of Data"
      ]
    },
    {
      "cell_type": "code",
      "execution_count": null,
      "metadata": {
        "id": "81NVEbfn6ocY",
        "colab": {
          "base_uri": "https://localhost:8080/"
        },
        "outputId": "e54f16f0-979d-434a-ce4b-5131f40c5def"
      },
      "outputs": [
        {
          "output_type": "stream",
          "name": "stdout",
          "text": [
            "Number of app that have size in 'Kbs': 315\n",
            "Number of app that have size in 'Mbs': 8516\n",
            "Number of app that have size varies with device: 1526\n"
          ]
        }
      ],
      "source": [
        "# Size\n",
        "\n",
        "kbs = data[data['Size'].str.endswith('k')]\n",
        "mbs = data[data['Size'].str.endswith('M')]\n",
        "varies = data[data['Size'] == 'Varies with device']['Size'].value_counts().sum()\n",
        "\n",
        "print(\"Number of app that have size in \\'Kbs\\':\", kbs['Size'].value_counts().sum())\n",
        "print(\"Number of app that have size in \\'Mbs\\':\",mbs['Size'].value_counts().sum())\n",
        "print(\"Number of app that have size varies with device:\",varies)"
      ]
    },
    {
      "cell_type": "code",
      "execution_count": null,
      "metadata": {
        "id": "9jvovH_MDJpg"
      },
      "outputs": [],
      "source": [
        "## Define a function to convert size from string format to numerical values\n",
        "def convert_size(convertings):\n",
        "  \"\"\"\n",
        "  Convert size from string format to numerical values.\n",
        "\n",
        "  Parameters: convertings (str): Size in string format (e.g., '10M', '20k', 'Varies with device').\n",
        "  Returns: int or float: Size in kilobytes (KBs).\n",
        "  \"\"\"\n",
        "  if 'M' in convertings:\n",
        "    return pd.to_numeric(convertings.replace('M', '')) * 1024\n",
        "  elif 'k' in convertings:\n",
        "    return pd.to_numeric(convertings.replace('k', ''))\n",
        "  elif pd.isna(convertings):\n",
        "    return np.nan\n",
        "  elif 'Varies with device' in convertings:\n",
        "    return np.nan\n",
        "  else:\n",
        "    clean_string = convertings.replace(',', '').replace('+', '')\n",
        "    try:\n",
        "      return pd.to_numeric(convertings)\n",
        "    except ValueError:\n",
        "      return np.nan"
      ]
    },
    {
      "cell_type": "code",
      "execution_count": null,
      "metadata": {
        "id": "AWTo5dIW9Zd4"
      },
      "outputs": [],
      "source": [
        "data['Size'] = data['Size'].apply(convert_size)\n",
        "data.rename(columns = {'Size': 'Size in KBs'}, inplace = True)"
      ]
    },
    {
      "cell_type": "code",
      "source": [
        "df2 = data.copy()\n",
        "\n",
        "# Encode categorical columns using LabelEncoder\n",
        "cat_cols = df2.select_dtypes(include=['object', 'category']).columns\n",
        "for col in cat_cols:\n",
        "    df2[col] = LabelEncoder().fit_transform(df2[col])"
      ],
      "metadata": {
        "id": "TCSoxAEJ_cOk"
      },
      "execution_count": null,
      "outputs": []
    },
    {
      "cell_type": "code",
      "source": [
        "%%time\n",
        "\"\"\"Using Random Forest Regressor to predict missing values in 'Size in KBs'\"\"\"\n",
        "# Separate data into missing and non-missing values\n",
        "df2_missing = df2[df2['Size in KBs'].isnull()]\n",
        "df2_not_missing = df2[df2['Size in KBs'].notnull()]\n",
        "\n",
        "# Create feature matrix (X_train) and target vector (y_train) for non-missing data\n",
        "X_train = df2_not_missing.drop(columns=['Size in KBs'])\n",
        "y_train = df2_not_missing['Size in KBs']\n",
        "\n",
        "# Select the model (Random Forest Regressor)\n",
        "model = RandomForestRegressor()\n",
        "\n",
        "# Choose the hyperparameters for the model\n",
        "params = {'bootstrap': [True], 'max_depth': [None], 'min_samples_leaf':[2], 'min_samples_split': [5], 'n_estimators':[50, 100]}\n",
        "\n",
        "grid_search = GridSearchCV(model, params, cv=5)\n",
        "grid_search.fit(X_train, y_train)\n",
        "\n",
        "# Get the best hyperparameters\n",
        "best_params = grid_search.best_params_\n",
        "best_params = {'bootstrap': True, 'max_depth': None, 'min_samples_leaf': 2, 'min_samples_split': 5, 'n_estimators': 50}\n",
        "\n",
        "# Initialize a new Random Forest Regressor model with the best hyperparameters\n",
        "model = RandomForestRegressor(**best_params)\n",
        "\n",
        "# Fit the model to the non-missing data\n",
        "model.fit(X_train, y_train)\n",
        "\n",
        "# Prepare feature matrix (X_missing) for predicting missing values\n",
        "X_missing = df2_missing.drop(columns=['Size in KBs'])\n",
        "\n",
        "# Predict missing values using the trained model\n",
        "predicted_missing_values = model.predict(X_missing)\n",
        "\n",
        "# Calculate R-squared score to evaluate model performance on the non-missing data\n",
        "r_2 = r2_score(y_train, model.predict(X_train))\n",
        "\n",
        "# Replace missing values in the original dataset with the predicted values\n",
        "data.loc[data['Size in KBs'].isnull(), 'Size in KBs'] = predicted_missing_values\n",
        "\n",
        "# Print R-squared score and best parameters found during grid search\n",
        "print(f'r2_score is {r_2}')\n",
        "print(f'Best parameters are {best_params}')"
      ],
      "metadata": {
        "colab": {
          "base_uri": "https://localhost:8080/"
        },
        "id": "hHw9YBJq_YfD",
        "outputId": "5854c447-e6d3-4e71-98f9-8b667ff92b80"
      },
      "execution_count": null,
      "outputs": [
        {
          "output_type": "stream",
          "name": "stdout",
          "text": [
            "r2_score is 0.8511965237225921\n",
            "Best parameters are {'bootstrap': True, 'max_depth': None, 'min_samples_leaf': 2, 'min_samples_split': 5, 'n_estimators': 50}\n",
            "CPU times: user 41 s, sys: 118 ms, total: 41.1 s\n",
            "Wall time: 49.9 s\n"
          ]
        }
      ]
    },
    {
      "cell_type": "code",
      "execution_count": null,
      "metadata": {
        "id": "MjeFTde-9mhK",
        "colab": {
          "base_uri": "https://localhost:8080/"
        },
        "outputId": "2e0e20cb-a5bd-4464-a325-0cb997ad0983"
      },
      "outputs": [
        {
          "output_type": "stream",
          "name": "stderr",
          "text": [
            "<ipython-input-40-f9e44d729610>:3: SettingWithCopyWarning: \n",
            "A value is trying to be set on a copy of a slice from a DataFrame.\n",
            "Try using .loc[row_indexer,col_indexer] = value instead\n",
            "\n",
            "See the caveats in the documentation: https://pandas.pydata.org/pandas-docs/stable/user_guide/indexing.html#returning-a-view-versus-a-copy\n",
            "  data['Installs'] = data['Installs'].apply(lambda x: pd.to_numeric(x.replace('+', '').replace(',', '')))\n"
          ]
        }
      ],
      "source": [
        "# Installs\n",
        "data = data[data['Installs'] != 'Free']\n",
        "data['Installs'] = data['Installs'].apply(lambda x: pd.to_numeric(x.replace('+', '').replace(',', '')))"
      ]
    },
    {
      "cell_type": "code",
      "execution_count": null,
      "metadata": {
        "id": "yMKYh_4O9xya",
        "colab": {
          "base_uri": "https://localhost:8080/"
        },
        "outputId": "7ff4bca9-b566-4d08-b1bd-6689dddc1ea3"
      },
      "outputs": [
        {
          "output_type": "stream",
          "name": "stdout",
          "text": [
            "Number of free apps:  9592\n",
            "Number of paid apps:  765\n"
          ]
        }
      ],
      "source": [
        "## Prices\n",
        "zero_prices = 0\n",
        "non_zero = 0\n",
        "\n",
        "for i in data['Price']:\n",
        "  if i == '0':\n",
        "    zero_prices += 1\n",
        "  elif i != '0':\n",
        "    non_zero += 1\n",
        "\n",
        "print('Number of free apps: ', zero_prices)\n",
        "print('Number of paid apps: ', non_zero)"
      ]
    },
    {
      "cell_type": "code",
      "execution_count": null,
      "metadata": {
        "id": "W0Mcdxg4IPJS"
      },
      "outputs": [],
      "source": [
        "def convert_prices(convertings):\n",
        "  \"\"\"\n",
        "  Convert the 'Price' column to numeric values.\n",
        "\n",
        "  Parameters: convertings (str) -> String representation of price.\n",
        "  Returns: float -> Numeric representation of price.\n",
        "  \"\"\"\n",
        "  if isinstance(convertings, str):\n",
        "    if '$' in convertings:\n",
        "      return pd.to_numeric(convertings.replace('$', ''), errors = 'coerce')\n",
        "    elif convertings == '0':\n",
        "      return pd.to_numeric(convertings, errors = 'coerce')\n",
        "  else:\n",
        "    return pd.NA"
      ]
    },
    {
      "cell_type": "code",
      "execution_count": null,
      "metadata": {
        "id": "55ifiC8_Al3K"
      },
      "outputs": [],
      "source": [
        "data['Price'] = data['Price'].apply(convert_prices)"
      ]
    },
    {
      "cell_type": "code",
      "execution_count": null,
      "metadata": {
        "id": "tbKmjv_RJr8R",
        "colab": {
          "base_uri": "https://localhost:8080/",
          "height": 362
        },
        "outputId": "a3eda5c7-9ba3-4a99-853a-e7297f17e90b"
      },
      "outputs": [
        {
          "output_type": "execute_result",
          "data": {
            "text/plain": [
              "                                                 App        Category  Rating  \\\n",
              "0     Photo Editor & Candy Camera & Grid & ScrapBook  ART_AND_DESIGN     4.1   \n",
              "1                                Coloring book moana  ART_AND_DESIGN     3.9   \n",
              "2  U Launcher Lite – FREE Live Cool Themes, Hide ...  ART_AND_DESIGN     4.7   \n",
              "3                              Sketch - Draw & Paint  ART_AND_DESIGN     4.5   \n",
              "4              Pixel Draw - Number Art Coloring Book  ART_AND_DESIGN     4.3   \n",
              "\n",
              "  Reviews  Size in KBs  Installs  Type  Price Content Rating  \\\n",
              "0     159      19456.0     10000  Free    0.0       Everyone   \n",
              "1     967      14336.0    500000  Free    0.0       Everyone   \n",
              "2   87510       8908.8   5000000  Free    0.0       Everyone   \n",
              "3  215644      25600.0  50000000  Free    0.0           Teen   \n",
              "4     967       2867.2    100000  Free    0.0       Everyone   \n",
              "\n",
              "                      Genres      Last Updated         Current Ver  \\\n",
              "0               Art & Design   January 7, 2018               1.0.0   \n",
              "1  Art & Design;Pretend Play  January 15, 2018               2.0.0   \n",
              "2               Art & Design    August 1, 2018               1.2.4   \n",
              "3               Art & Design      June 8, 2018  Varies with device   \n",
              "4    Art & Design;Creativity     June 20, 2018                 1.1   \n",
              "\n",
              "    Android Ver  \n",
              "0  4.0.3 and up  \n",
              "1  4.0.3 and up  \n",
              "2  4.0.3 and up  \n",
              "3    4.2 and up  \n",
              "4    4.4 and up  "
            ],
            "text/html": [
              "\n",
              "  <div id=\"df-05aa9db1-0931-4d52-b54b-7e56b82f002f\" class=\"colab-df-container\">\n",
              "    <div>\n",
              "<style scoped>\n",
              "    .dataframe tbody tr th:only-of-type {\n",
              "        vertical-align: middle;\n",
              "    }\n",
              "\n",
              "    .dataframe tbody tr th {\n",
              "        vertical-align: top;\n",
              "    }\n",
              "\n",
              "    .dataframe thead th {\n",
              "        text-align: right;\n",
              "    }\n",
              "</style>\n",
              "<table border=\"1\" class=\"dataframe\">\n",
              "  <thead>\n",
              "    <tr style=\"text-align: right;\">\n",
              "      <th></th>\n",
              "      <th>App</th>\n",
              "      <th>Category</th>\n",
              "      <th>Rating</th>\n",
              "      <th>Reviews</th>\n",
              "      <th>Size in KBs</th>\n",
              "      <th>Installs</th>\n",
              "      <th>Type</th>\n",
              "      <th>Price</th>\n",
              "      <th>Content Rating</th>\n",
              "      <th>Genres</th>\n",
              "      <th>Last Updated</th>\n",
              "      <th>Current Ver</th>\n",
              "      <th>Android Ver</th>\n",
              "    </tr>\n",
              "  </thead>\n",
              "  <tbody>\n",
              "    <tr>\n",
              "      <th>0</th>\n",
              "      <td>Photo Editor &amp; Candy Camera &amp; Grid &amp; ScrapBook</td>\n",
              "      <td>ART_AND_DESIGN</td>\n",
              "      <td>4.1</td>\n",
              "      <td>159</td>\n",
              "      <td>19456.0</td>\n",
              "      <td>10000</td>\n",
              "      <td>Free</td>\n",
              "      <td>0.0</td>\n",
              "      <td>Everyone</td>\n",
              "      <td>Art &amp; Design</td>\n",
              "      <td>January 7, 2018</td>\n",
              "      <td>1.0.0</td>\n",
              "      <td>4.0.3 and up</td>\n",
              "    </tr>\n",
              "    <tr>\n",
              "      <th>1</th>\n",
              "      <td>Coloring book moana</td>\n",
              "      <td>ART_AND_DESIGN</td>\n",
              "      <td>3.9</td>\n",
              "      <td>967</td>\n",
              "      <td>14336.0</td>\n",
              "      <td>500000</td>\n",
              "      <td>Free</td>\n",
              "      <td>0.0</td>\n",
              "      <td>Everyone</td>\n",
              "      <td>Art &amp; Design;Pretend Play</td>\n",
              "      <td>January 15, 2018</td>\n",
              "      <td>2.0.0</td>\n",
              "      <td>4.0.3 and up</td>\n",
              "    </tr>\n",
              "    <tr>\n",
              "      <th>2</th>\n",
              "      <td>U Launcher Lite – FREE Live Cool Themes, Hide ...</td>\n",
              "      <td>ART_AND_DESIGN</td>\n",
              "      <td>4.7</td>\n",
              "      <td>87510</td>\n",
              "      <td>8908.8</td>\n",
              "      <td>5000000</td>\n",
              "      <td>Free</td>\n",
              "      <td>0.0</td>\n",
              "      <td>Everyone</td>\n",
              "      <td>Art &amp; Design</td>\n",
              "      <td>August 1, 2018</td>\n",
              "      <td>1.2.4</td>\n",
              "      <td>4.0.3 and up</td>\n",
              "    </tr>\n",
              "    <tr>\n",
              "      <th>3</th>\n",
              "      <td>Sketch - Draw &amp; Paint</td>\n",
              "      <td>ART_AND_DESIGN</td>\n",
              "      <td>4.5</td>\n",
              "      <td>215644</td>\n",
              "      <td>25600.0</td>\n",
              "      <td>50000000</td>\n",
              "      <td>Free</td>\n",
              "      <td>0.0</td>\n",
              "      <td>Teen</td>\n",
              "      <td>Art &amp; Design</td>\n",
              "      <td>June 8, 2018</td>\n",
              "      <td>Varies with device</td>\n",
              "      <td>4.2 and up</td>\n",
              "    </tr>\n",
              "    <tr>\n",
              "      <th>4</th>\n",
              "      <td>Pixel Draw - Number Art Coloring Book</td>\n",
              "      <td>ART_AND_DESIGN</td>\n",
              "      <td>4.3</td>\n",
              "      <td>967</td>\n",
              "      <td>2867.2</td>\n",
              "      <td>100000</td>\n",
              "      <td>Free</td>\n",
              "      <td>0.0</td>\n",
              "      <td>Everyone</td>\n",
              "      <td>Art &amp; Design;Creativity</td>\n",
              "      <td>June 20, 2018</td>\n",
              "      <td>1.1</td>\n",
              "      <td>4.4 and up</td>\n",
              "    </tr>\n",
              "  </tbody>\n",
              "</table>\n",
              "</div>\n",
              "    <div class=\"colab-df-buttons\">\n",
              "\n",
              "  <div class=\"colab-df-container\">\n",
              "    <button class=\"colab-df-convert\" onclick=\"convertToInteractive('df-05aa9db1-0931-4d52-b54b-7e56b82f002f')\"\n",
              "            title=\"Convert this dataframe to an interactive table.\"\n",
              "            style=\"display:none;\">\n",
              "\n",
              "  <svg xmlns=\"http://www.w3.org/2000/svg\" height=\"24px\" viewBox=\"0 -960 960 960\">\n",
              "    <path d=\"M120-120v-720h720v720H120Zm60-500h600v-160H180v160Zm220 220h160v-160H400v160Zm0 220h160v-160H400v160ZM180-400h160v-160H180v160Zm440 0h160v-160H620v160ZM180-180h160v-160H180v160Zm440 0h160v-160H620v160Z\"/>\n",
              "  </svg>\n",
              "    </button>\n",
              "\n",
              "  <style>\n",
              "    .colab-df-container {\n",
              "      display:flex;\n",
              "      gap: 12px;\n",
              "    }\n",
              "\n",
              "    .colab-df-convert {\n",
              "      background-color: #E8F0FE;\n",
              "      border: none;\n",
              "      border-radius: 50%;\n",
              "      cursor: pointer;\n",
              "      display: none;\n",
              "      fill: #1967D2;\n",
              "      height: 32px;\n",
              "      padding: 0 0 0 0;\n",
              "      width: 32px;\n",
              "    }\n",
              "\n",
              "    .colab-df-convert:hover {\n",
              "      background-color: #E2EBFA;\n",
              "      box-shadow: 0px 1px 2px rgba(60, 64, 67, 0.3), 0px 1px 3px 1px rgba(60, 64, 67, 0.15);\n",
              "      fill: #174EA6;\n",
              "    }\n",
              "\n",
              "    .colab-df-buttons div {\n",
              "      margin-bottom: 4px;\n",
              "    }\n",
              "\n",
              "    [theme=dark] .colab-df-convert {\n",
              "      background-color: #3B4455;\n",
              "      fill: #D2E3FC;\n",
              "    }\n",
              "\n",
              "    [theme=dark] .colab-df-convert:hover {\n",
              "      background-color: #434B5C;\n",
              "      box-shadow: 0px 1px 3px 1px rgba(0, 0, 0, 0.15);\n",
              "      filter: drop-shadow(0px 1px 2px rgba(0, 0, 0, 0.3));\n",
              "      fill: #FFFFFF;\n",
              "    }\n",
              "  </style>\n",
              "\n",
              "    <script>\n",
              "      const buttonEl =\n",
              "        document.querySelector('#df-05aa9db1-0931-4d52-b54b-7e56b82f002f button.colab-df-convert');\n",
              "      buttonEl.style.display =\n",
              "        google.colab.kernel.accessAllowed ? 'block' : 'none';\n",
              "\n",
              "      async function convertToInteractive(key) {\n",
              "        const element = document.querySelector('#df-05aa9db1-0931-4d52-b54b-7e56b82f002f');\n",
              "        const dataTable =\n",
              "          await google.colab.kernel.invokeFunction('convertToInteractive',\n",
              "                                                    [key], {});\n",
              "        if (!dataTable) return;\n",
              "\n",
              "        const docLinkHtml = 'Like what you see? Visit the ' +\n",
              "          '<a target=\"_blank\" href=https://colab.research.google.com/notebooks/data_table.ipynb>data table notebook</a>'\n",
              "          + ' to learn more about interactive tables.';\n",
              "        element.innerHTML = '';\n",
              "        dataTable['output_type'] = 'display_data';\n",
              "        await google.colab.output.renderOutput(dataTable, element);\n",
              "        const docLink = document.createElement('div');\n",
              "        docLink.innerHTML = docLinkHtml;\n",
              "        element.appendChild(docLink);\n",
              "      }\n",
              "    </script>\n",
              "  </div>\n",
              "\n",
              "\n",
              "<div id=\"df-70d8c140-af52-41b8-a6e4-dfa462d3d93a\">\n",
              "  <button class=\"colab-df-quickchart\" onclick=\"quickchart('df-70d8c140-af52-41b8-a6e4-dfa462d3d93a')\"\n",
              "            title=\"Suggest charts\"\n",
              "            style=\"display:none;\">\n",
              "\n",
              "<svg xmlns=\"http://www.w3.org/2000/svg\" height=\"24px\"viewBox=\"0 0 24 24\"\n",
              "     width=\"24px\">\n",
              "    <g>\n",
              "        <path d=\"M19 3H5c-1.1 0-2 .9-2 2v14c0 1.1.9 2 2 2h14c1.1 0 2-.9 2-2V5c0-1.1-.9-2-2-2zM9 17H7v-7h2v7zm4 0h-2V7h2v10zm4 0h-2v-4h2v4z\"/>\n",
              "    </g>\n",
              "</svg>\n",
              "  </button>\n",
              "\n",
              "<style>\n",
              "  .colab-df-quickchart {\n",
              "      --bg-color: #E8F0FE;\n",
              "      --fill-color: #1967D2;\n",
              "      --hover-bg-color: #E2EBFA;\n",
              "      --hover-fill-color: #174EA6;\n",
              "      --disabled-fill-color: #AAA;\n",
              "      --disabled-bg-color: #DDD;\n",
              "  }\n",
              "\n",
              "  [theme=dark] .colab-df-quickchart {\n",
              "      --bg-color: #3B4455;\n",
              "      --fill-color: #D2E3FC;\n",
              "      --hover-bg-color: #434B5C;\n",
              "      --hover-fill-color: #FFFFFF;\n",
              "      --disabled-bg-color: #3B4455;\n",
              "      --disabled-fill-color: #666;\n",
              "  }\n",
              "\n",
              "  .colab-df-quickchart {\n",
              "    background-color: var(--bg-color);\n",
              "    border: none;\n",
              "    border-radius: 50%;\n",
              "    cursor: pointer;\n",
              "    display: none;\n",
              "    fill: var(--fill-color);\n",
              "    height: 32px;\n",
              "    padding: 0;\n",
              "    width: 32px;\n",
              "  }\n",
              "\n",
              "  .colab-df-quickchart:hover {\n",
              "    background-color: var(--hover-bg-color);\n",
              "    box-shadow: 0 1px 2px rgba(60, 64, 67, 0.3), 0 1px 3px 1px rgba(60, 64, 67, 0.15);\n",
              "    fill: var(--button-hover-fill-color);\n",
              "  }\n",
              "\n",
              "  .colab-df-quickchart-complete:disabled,\n",
              "  .colab-df-quickchart-complete:disabled:hover {\n",
              "    background-color: var(--disabled-bg-color);\n",
              "    fill: var(--disabled-fill-color);\n",
              "    box-shadow: none;\n",
              "  }\n",
              "\n",
              "  .colab-df-spinner {\n",
              "    border: 2px solid var(--fill-color);\n",
              "    border-color: transparent;\n",
              "    border-bottom-color: var(--fill-color);\n",
              "    animation:\n",
              "      spin 1s steps(1) infinite;\n",
              "  }\n",
              "\n",
              "  @keyframes spin {\n",
              "    0% {\n",
              "      border-color: transparent;\n",
              "      border-bottom-color: var(--fill-color);\n",
              "      border-left-color: var(--fill-color);\n",
              "    }\n",
              "    20% {\n",
              "      border-color: transparent;\n",
              "      border-left-color: var(--fill-color);\n",
              "      border-top-color: var(--fill-color);\n",
              "    }\n",
              "    30% {\n",
              "      border-color: transparent;\n",
              "      border-left-color: var(--fill-color);\n",
              "      border-top-color: var(--fill-color);\n",
              "      border-right-color: var(--fill-color);\n",
              "    }\n",
              "    40% {\n",
              "      border-color: transparent;\n",
              "      border-right-color: var(--fill-color);\n",
              "      border-top-color: var(--fill-color);\n",
              "    }\n",
              "    60% {\n",
              "      border-color: transparent;\n",
              "      border-right-color: var(--fill-color);\n",
              "    }\n",
              "    80% {\n",
              "      border-color: transparent;\n",
              "      border-right-color: var(--fill-color);\n",
              "      border-bottom-color: var(--fill-color);\n",
              "    }\n",
              "    90% {\n",
              "      border-color: transparent;\n",
              "      border-bottom-color: var(--fill-color);\n",
              "    }\n",
              "  }\n",
              "</style>\n",
              "\n",
              "  <script>\n",
              "    async function quickchart(key) {\n",
              "      const quickchartButtonEl =\n",
              "        document.querySelector('#' + key + ' button');\n",
              "      quickchartButtonEl.disabled = true;  // To prevent multiple clicks.\n",
              "      quickchartButtonEl.classList.add('colab-df-spinner');\n",
              "      try {\n",
              "        const charts = await google.colab.kernel.invokeFunction(\n",
              "            'suggestCharts', [key], {});\n",
              "      } catch (error) {\n",
              "        console.error('Error during call to suggestCharts:', error);\n",
              "      }\n",
              "      quickchartButtonEl.classList.remove('colab-df-spinner');\n",
              "      quickchartButtonEl.classList.add('colab-df-quickchart-complete');\n",
              "    }\n",
              "    (() => {\n",
              "      let quickchartButtonEl =\n",
              "        document.querySelector('#df-70d8c140-af52-41b8-a6e4-dfa462d3d93a button');\n",
              "      quickchartButtonEl.style.display =\n",
              "        google.colab.kernel.accessAllowed ? 'block' : 'none';\n",
              "    })();\n",
              "  </script>\n",
              "</div>\n",
              "    </div>\n",
              "  </div>\n"
            ],
            "application/vnd.google.colaboratory.intrinsic+json": {
              "type": "dataframe",
              "variable_name": "data",
              "summary": "{\n  \"name\": \"data\",\n  \"rows\": 10357,\n  \"fields\": [\n    {\n      \"column\": \"App\",\n      \"properties\": {\n        \"dtype\": \"string\",\n        \"num_unique_values\": 9659,\n        \"samples\": [\n          \"Guns'n'Glory Zombies Premium\",\n          \"Doorstep EU\",\n          \"UNO \\u2122 & Friends\"\n        ],\n        \"semantic_type\": \"\",\n        \"description\": \"\"\n      }\n    },\n    {\n      \"column\": \"Category\",\n      \"properties\": {\n        \"dtype\": \"category\",\n        \"num_unique_values\": 33,\n        \"samples\": [\n          \"NEWS_AND_MAGAZINES\",\n          \"LIBRARIES_AND_DEMO\",\n          \"PERSONALIZATION\"\n        ],\n        \"semantic_type\": \"\",\n        \"description\": \"\"\n      }\n    },\n    {\n      \"column\": \"Rating\",\n      \"properties\": {\n        \"dtype\": \"number\",\n        \"std\": 0.4840200967509892,\n        \"min\": 1.0,\n        \"max\": 5.0,\n        \"num_unique_values\": 40,\n        \"samples\": [\n          3.1,\n          3.3,\n          3.7\n        ],\n        \"semantic_type\": \"\",\n        \"description\": \"\"\n      }\n    },\n    {\n      \"column\": \"Reviews\",\n      \"properties\": {\n        \"dtype\": \"string\",\n        \"num_unique_values\": 6001,\n        \"samples\": [\n          \"66661\",\n          \"7479\",\n          \"8978\"\n        ],\n        \"semantic_type\": \"\",\n        \"description\": \"\"\n      }\n    },\n    {\n      \"column\": \"Size in KBs\",\n      \"properties\": {\n        \"dtype\": \"number\",\n        \"std\": 21835.294822469885,\n        \"min\": 8.5,\n        \"max\": 102400.0,\n        \"num_unique_values\": 1728,\n        \"samples\": [\n          37915.08022222223,\n          35966.86872380952,\n          32377.373257142863\n        ],\n        \"semantic_type\": \"\",\n        \"description\": \"\"\n      }\n    },\n    {\n      \"column\": \"Installs\",\n      \"properties\": {\n        \"dtype\": \"number\",\n        \"std\": 80239553,\n        \"min\": 0,\n        \"max\": 1000000000,\n        \"num_unique_values\": 20,\n        \"samples\": [\n          10000,\n          1,\n          500\n        ],\n        \"semantic_type\": \"\",\n        \"description\": \"\"\n      }\n    },\n    {\n      \"column\": \"Type\",\n      \"properties\": {\n        \"dtype\": \"category\",\n        \"num_unique_values\": 2,\n        \"samples\": [\n          \"Paid\",\n          \"Free\"\n        ],\n        \"semantic_type\": \"\",\n        \"description\": \"\"\n      }\n    },\n    {\n      \"column\": \"Price\",\n      \"properties\": {\n        \"dtype\": \"number\",\n        \"std\": 16.2786252598304,\n        \"min\": 0.0,\n        \"max\": 400.0,\n        \"num_unique_values\": 92,\n        \"samples\": [\n          17.99,\n          29.99\n        ],\n        \"semantic_type\": \"\",\n        \"description\": \"\"\n      }\n    },\n    {\n      \"column\": \"Content Rating\",\n      \"properties\": {\n        \"dtype\": \"category\",\n        \"num_unique_values\": 6,\n        \"samples\": [\n          \"Everyone\",\n          \"Teen\"\n        ],\n        \"semantic_type\": \"\",\n        \"description\": \"\"\n      }\n    },\n    {\n      \"column\": \"Genres\",\n      \"properties\": {\n        \"dtype\": \"category\",\n        \"num_unique_values\": 119,\n        \"samples\": [\n          \"Educational;Education\",\n          \"Travel & Local\"\n        ],\n        \"semantic_type\": \"\",\n        \"description\": \"\"\n      }\n    },\n    {\n      \"column\": \"Last Updated\",\n      \"properties\": {\n        \"dtype\": \"object\",\n        \"num_unique_values\": 1377,\n        \"samples\": [\n          \"August 9, 2016\",\n          \"January 7, 2017\"\n        ],\n        \"semantic_type\": \"\",\n        \"description\": \"\"\n      }\n    },\n    {\n      \"column\": \"Current Ver\",\n      \"properties\": {\n        \"dtype\": \"category\",\n        \"num_unique_values\": 2831,\n        \"samples\": [\n          \"2.8.216.6-ba\",\n          \"5.0.44\"\n        ],\n        \"semantic_type\": \"\",\n        \"description\": \"\"\n      }\n    },\n    {\n      \"column\": \"Android Ver\",\n      \"properties\": {\n        \"dtype\": \"category\",\n        \"num_unique_values\": 33,\n        \"samples\": [\n          \"2.2 - 7.1.1\",\n          \"7.0 and up\"\n        ],\n        \"semantic_type\": \"\",\n        \"description\": \"\"\n      }\n    }\n  ]\n}"
            }
          },
          "metadata": {},
          "execution_count": 44
        }
      ],
      "source": [
        "data.head()"
      ]
    },
    {
      "cell_type": "code",
      "execution_count": null,
      "metadata": {
        "id": "RaO6v6ZSvMwn"
      },
      "outputs": [],
      "source": [
        "#Converting Reviews into numerical type\n",
        "data['Reviews'] = data['Reviews'].apply(lambda x: pd.to_numeric(x.replace(',', '')if \",\" in x else x))"
      ]
    },
    {
      "cell_type": "code",
      "source": [
        "# Dealing with unnecessary columns\n",
        "data.drop(columns = ['Last Updated', 'Current Ver', 'Android Ver', 'Content Rating'], inplace = True)"
      ],
      "metadata": {
        "id": "vlk6bP2EW4mW"
      },
      "execution_count": null,
      "outputs": []
    },
    {
      "cell_type": "code",
      "source": [
        "# Dealing with duplicates\n",
        "dups = data.duplicated(subset = 'App').value_counts()[True]\n",
        "print(f'There are {dups} duplicates in the datasets')"
      ],
      "metadata": {
        "colab": {
          "base_uri": "https://localhost:8080/"
        },
        "id": "SPj_w4e2XHU7",
        "outputId": "4c043362-d8f0-49c0-ca42-fb495fc23304"
      },
      "execution_count": null,
      "outputs": [
        {
          "output_type": "stream",
          "name": "stdout",
          "text": [
            "There are 698 duplicates in the datasets\n"
          ]
        }
      ]
    },
    {
      "cell_type": "code",
      "source": [
        "data.drop_duplicates(subset = 'App', inplace = True)\n",
        "dps = data.duplicated(subset= 'App').sum()\n",
        "print(f'There are {dps} duplicates in the datasets.')"
      ],
      "metadata": {
        "colab": {
          "base_uri": "https://localhost:8080/"
        },
        "id": "sT4aCWBIXh17",
        "outputId": "6eb57f11-aea8-4962-e31e-41a24ef809e4"
      },
      "execution_count": null,
      "outputs": [
        {
          "output_type": "stream",
          "name": "stdout",
          "text": [
            "There are 0 duplicates in the datasets.\n"
          ]
        }
      ]
    },
    {
      "cell_type": "code",
      "source": [
        "data = data.dropna()"
      ],
      "metadata": {
        "id": "UyhjDomn_Oj5"
      },
      "execution_count": null,
      "outputs": []
    },
    {
      "cell_type": "markdown",
      "metadata": {
        "id": "rGpQ-OAPHZSM"
      },
      "source": [
        "**Moving Forward:**\n",
        "\n",
        "Data Visualization: We will begin by visualizing our dataset to uncover hidden insights and trends within the data. This step is crucial for understanding the underlying patterns that may affect app ratings.\n",
        "\n",
        "Quantifying Categorical Data: Next, we'll convert categorical columns into numerical formats. This transformation is necessary because many machine learning models, including the ones we plan to use, require input data to be numeric.\n",
        "\n",
        "Model Deployment and Evaluation: We plan to implement and evaluate advanced machine learning models such as XGBoost Regressor and Gradient Boosting Regressor. The performance of these models will be assessed using metrics like R-squared (R²) and Mean Absolute Error (MAE), which will help us determine their accuracy and efficacy in predicting app ratings.\n",
        "\n",
        "Experimentation with Artificial Neural Networks (ANN): Following the evaluation of the initial models, we will explore the use of Artificial Neural Networks for predictions. ANNs will potentially provide a deeper level of learning and may capture more complex patterns that are not possible with traditional models."
      ]
    },
    {
      "cell_type": "markdown",
      "metadata": {
        "id": "Lpwe2PP2G2OG"
      },
      "source": [
        "Questions to TA:\n",
        "1. Does our work progrress make sense till now?\n",
        "2. Does our future work plan make sense ? focus on model deployement\n",
        "3. Transform our project into real business solution with the accuracy we found in our models? - data visulisation, models support data processing, differece between apple vs android , each sector insights\n",
        "4. What amount of lecture learning should be incorporated in the project?"
      ]
    },
    {
      "cell_type": "code",
      "execution_count": null,
      "metadata": {
        "id": "6otO4i7jHRVM",
        "colab": {
          "base_uri": "https://localhost:8080/",
          "height": 206
        },
        "outputId": "140f6cda-4953-4dfb-fd00-1a049dfb157c"
      },
      "outputs": [
        {
          "output_type": "execute_result",
          "data": {
            "text/plain": [
              "                                                 App        Category  Rating  \\\n",
              "0     Photo Editor & Candy Camera & Grid & ScrapBook  ART_AND_DESIGN     4.1   \n",
              "1                                Coloring book moana  ART_AND_DESIGN     3.9   \n",
              "2  U Launcher Lite – FREE Live Cool Themes, Hide ...  ART_AND_DESIGN     4.7   \n",
              "3                              Sketch - Draw & Paint  ART_AND_DESIGN     4.5   \n",
              "4              Pixel Draw - Number Art Coloring Book  ART_AND_DESIGN     4.3   \n",
              "\n",
              "   Reviews  Size in KBs  Installs  Type  Price                     Genres  \n",
              "0      159      19456.0     10000  Free    0.0               Art & Design  \n",
              "1      967      14336.0    500000  Free    0.0  Art & Design;Pretend Play  \n",
              "2    87510       8908.8   5000000  Free    0.0               Art & Design  \n",
              "3   215644      25600.0  50000000  Free    0.0               Art & Design  \n",
              "4      967       2867.2    100000  Free    0.0    Art & Design;Creativity  "
            ],
            "text/html": [
              "\n",
              "  <div id=\"df-0809fe17-f294-46c1-a666-c2635927634f\" class=\"colab-df-container\">\n",
              "    <div>\n",
              "<style scoped>\n",
              "    .dataframe tbody tr th:only-of-type {\n",
              "        vertical-align: middle;\n",
              "    }\n",
              "\n",
              "    .dataframe tbody tr th {\n",
              "        vertical-align: top;\n",
              "    }\n",
              "\n",
              "    .dataframe thead th {\n",
              "        text-align: right;\n",
              "    }\n",
              "</style>\n",
              "<table border=\"1\" class=\"dataframe\">\n",
              "  <thead>\n",
              "    <tr style=\"text-align: right;\">\n",
              "      <th></th>\n",
              "      <th>App</th>\n",
              "      <th>Category</th>\n",
              "      <th>Rating</th>\n",
              "      <th>Reviews</th>\n",
              "      <th>Size in KBs</th>\n",
              "      <th>Installs</th>\n",
              "      <th>Type</th>\n",
              "      <th>Price</th>\n",
              "      <th>Genres</th>\n",
              "    </tr>\n",
              "  </thead>\n",
              "  <tbody>\n",
              "    <tr>\n",
              "      <th>0</th>\n",
              "      <td>Photo Editor &amp; Candy Camera &amp; Grid &amp; ScrapBook</td>\n",
              "      <td>ART_AND_DESIGN</td>\n",
              "      <td>4.1</td>\n",
              "      <td>159</td>\n",
              "      <td>19456.0</td>\n",
              "      <td>10000</td>\n",
              "      <td>Free</td>\n",
              "      <td>0.0</td>\n",
              "      <td>Art &amp; Design</td>\n",
              "    </tr>\n",
              "    <tr>\n",
              "      <th>1</th>\n",
              "      <td>Coloring book moana</td>\n",
              "      <td>ART_AND_DESIGN</td>\n",
              "      <td>3.9</td>\n",
              "      <td>967</td>\n",
              "      <td>14336.0</td>\n",
              "      <td>500000</td>\n",
              "      <td>Free</td>\n",
              "      <td>0.0</td>\n",
              "      <td>Art &amp; Design;Pretend Play</td>\n",
              "    </tr>\n",
              "    <tr>\n",
              "      <th>2</th>\n",
              "      <td>U Launcher Lite – FREE Live Cool Themes, Hide ...</td>\n",
              "      <td>ART_AND_DESIGN</td>\n",
              "      <td>4.7</td>\n",
              "      <td>87510</td>\n",
              "      <td>8908.8</td>\n",
              "      <td>5000000</td>\n",
              "      <td>Free</td>\n",
              "      <td>0.0</td>\n",
              "      <td>Art &amp; Design</td>\n",
              "    </tr>\n",
              "    <tr>\n",
              "      <th>3</th>\n",
              "      <td>Sketch - Draw &amp; Paint</td>\n",
              "      <td>ART_AND_DESIGN</td>\n",
              "      <td>4.5</td>\n",
              "      <td>215644</td>\n",
              "      <td>25600.0</td>\n",
              "      <td>50000000</td>\n",
              "      <td>Free</td>\n",
              "      <td>0.0</td>\n",
              "      <td>Art &amp; Design</td>\n",
              "    </tr>\n",
              "    <tr>\n",
              "      <th>4</th>\n",
              "      <td>Pixel Draw - Number Art Coloring Book</td>\n",
              "      <td>ART_AND_DESIGN</td>\n",
              "      <td>4.3</td>\n",
              "      <td>967</td>\n",
              "      <td>2867.2</td>\n",
              "      <td>100000</td>\n",
              "      <td>Free</td>\n",
              "      <td>0.0</td>\n",
              "      <td>Art &amp; Design;Creativity</td>\n",
              "    </tr>\n",
              "  </tbody>\n",
              "</table>\n",
              "</div>\n",
              "    <div class=\"colab-df-buttons\">\n",
              "\n",
              "  <div class=\"colab-df-container\">\n",
              "    <button class=\"colab-df-convert\" onclick=\"convertToInteractive('df-0809fe17-f294-46c1-a666-c2635927634f')\"\n",
              "            title=\"Convert this dataframe to an interactive table.\"\n",
              "            style=\"display:none;\">\n",
              "\n",
              "  <svg xmlns=\"http://www.w3.org/2000/svg\" height=\"24px\" viewBox=\"0 -960 960 960\">\n",
              "    <path d=\"M120-120v-720h720v720H120Zm60-500h600v-160H180v160Zm220 220h160v-160H400v160Zm0 220h160v-160H400v160ZM180-400h160v-160H180v160Zm440 0h160v-160H620v160ZM180-180h160v-160H180v160Zm440 0h160v-160H620v160Z\"/>\n",
              "  </svg>\n",
              "    </button>\n",
              "\n",
              "  <style>\n",
              "    .colab-df-container {\n",
              "      display:flex;\n",
              "      gap: 12px;\n",
              "    }\n",
              "\n",
              "    .colab-df-convert {\n",
              "      background-color: #E8F0FE;\n",
              "      border: none;\n",
              "      border-radius: 50%;\n",
              "      cursor: pointer;\n",
              "      display: none;\n",
              "      fill: #1967D2;\n",
              "      height: 32px;\n",
              "      padding: 0 0 0 0;\n",
              "      width: 32px;\n",
              "    }\n",
              "\n",
              "    .colab-df-convert:hover {\n",
              "      background-color: #E2EBFA;\n",
              "      box-shadow: 0px 1px 2px rgba(60, 64, 67, 0.3), 0px 1px 3px 1px rgba(60, 64, 67, 0.15);\n",
              "      fill: #174EA6;\n",
              "    }\n",
              "\n",
              "    .colab-df-buttons div {\n",
              "      margin-bottom: 4px;\n",
              "    }\n",
              "\n",
              "    [theme=dark] .colab-df-convert {\n",
              "      background-color: #3B4455;\n",
              "      fill: #D2E3FC;\n",
              "    }\n",
              "\n",
              "    [theme=dark] .colab-df-convert:hover {\n",
              "      background-color: #434B5C;\n",
              "      box-shadow: 0px 1px 3px 1px rgba(0, 0, 0, 0.15);\n",
              "      filter: drop-shadow(0px 1px 2px rgba(0, 0, 0, 0.3));\n",
              "      fill: #FFFFFF;\n",
              "    }\n",
              "  </style>\n",
              "\n",
              "    <script>\n",
              "      const buttonEl =\n",
              "        document.querySelector('#df-0809fe17-f294-46c1-a666-c2635927634f button.colab-df-convert');\n",
              "      buttonEl.style.display =\n",
              "        google.colab.kernel.accessAllowed ? 'block' : 'none';\n",
              "\n",
              "      async function convertToInteractive(key) {\n",
              "        const element = document.querySelector('#df-0809fe17-f294-46c1-a666-c2635927634f');\n",
              "        const dataTable =\n",
              "          await google.colab.kernel.invokeFunction('convertToInteractive',\n",
              "                                                    [key], {});\n",
              "        if (!dataTable) return;\n",
              "\n",
              "        const docLinkHtml = 'Like what you see? Visit the ' +\n",
              "          '<a target=\"_blank\" href=https://colab.research.google.com/notebooks/data_table.ipynb>data table notebook</a>'\n",
              "          + ' to learn more about interactive tables.';\n",
              "        element.innerHTML = '';\n",
              "        dataTable['output_type'] = 'display_data';\n",
              "        await google.colab.output.renderOutput(dataTable, element);\n",
              "        const docLink = document.createElement('div');\n",
              "        docLink.innerHTML = docLinkHtml;\n",
              "        element.appendChild(docLink);\n",
              "      }\n",
              "    </script>\n",
              "  </div>\n",
              "\n",
              "\n",
              "<div id=\"df-02a2e7aa-6a32-4aa4-b9dc-71a7cff8577c\">\n",
              "  <button class=\"colab-df-quickchart\" onclick=\"quickchart('df-02a2e7aa-6a32-4aa4-b9dc-71a7cff8577c')\"\n",
              "            title=\"Suggest charts\"\n",
              "            style=\"display:none;\">\n",
              "\n",
              "<svg xmlns=\"http://www.w3.org/2000/svg\" height=\"24px\"viewBox=\"0 0 24 24\"\n",
              "     width=\"24px\">\n",
              "    <g>\n",
              "        <path d=\"M19 3H5c-1.1 0-2 .9-2 2v14c0 1.1.9 2 2 2h14c1.1 0 2-.9 2-2V5c0-1.1-.9-2-2-2zM9 17H7v-7h2v7zm4 0h-2V7h2v10zm4 0h-2v-4h2v4z\"/>\n",
              "    </g>\n",
              "</svg>\n",
              "  </button>\n",
              "\n",
              "<style>\n",
              "  .colab-df-quickchart {\n",
              "      --bg-color: #E8F0FE;\n",
              "      --fill-color: #1967D2;\n",
              "      --hover-bg-color: #E2EBFA;\n",
              "      --hover-fill-color: #174EA6;\n",
              "      --disabled-fill-color: #AAA;\n",
              "      --disabled-bg-color: #DDD;\n",
              "  }\n",
              "\n",
              "  [theme=dark] .colab-df-quickchart {\n",
              "      --bg-color: #3B4455;\n",
              "      --fill-color: #D2E3FC;\n",
              "      --hover-bg-color: #434B5C;\n",
              "      --hover-fill-color: #FFFFFF;\n",
              "      --disabled-bg-color: #3B4455;\n",
              "      --disabled-fill-color: #666;\n",
              "  }\n",
              "\n",
              "  .colab-df-quickchart {\n",
              "    background-color: var(--bg-color);\n",
              "    border: none;\n",
              "    border-radius: 50%;\n",
              "    cursor: pointer;\n",
              "    display: none;\n",
              "    fill: var(--fill-color);\n",
              "    height: 32px;\n",
              "    padding: 0;\n",
              "    width: 32px;\n",
              "  }\n",
              "\n",
              "  .colab-df-quickchart:hover {\n",
              "    background-color: var(--hover-bg-color);\n",
              "    box-shadow: 0 1px 2px rgba(60, 64, 67, 0.3), 0 1px 3px 1px rgba(60, 64, 67, 0.15);\n",
              "    fill: var(--button-hover-fill-color);\n",
              "  }\n",
              "\n",
              "  .colab-df-quickchart-complete:disabled,\n",
              "  .colab-df-quickchart-complete:disabled:hover {\n",
              "    background-color: var(--disabled-bg-color);\n",
              "    fill: var(--disabled-fill-color);\n",
              "    box-shadow: none;\n",
              "  }\n",
              "\n",
              "  .colab-df-spinner {\n",
              "    border: 2px solid var(--fill-color);\n",
              "    border-color: transparent;\n",
              "    border-bottom-color: var(--fill-color);\n",
              "    animation:\n",
              "      spin 1s steps(1) infinite;\n",
              "  }\n",
              "\n",
              "  @keyframes spin {\n",
              "    0% {\n",
              "      border-color: transparent;\n",
              "      border-bottom-color: var(--fill-color);\n",
              "      border-left-color: var(--fill-color);\n",
              "    }\n",
              "    20% {\n",
              "      border-color: transparent;\n",
              "      border-left-color: var(--fill-color);\n",
              "      border-top-color: var(--fill-color);\n",
              "    }\n",
              "    30% {\n",
              "      border-color: transparent;\n",
              "      border-left-color: var(--fill-color);\n",
              "      border-top-color: var(--fill-color);\n",
              "      border-right-color: var(--fill-color);\n",
              "    }\n",
              "    40% {\n",
              "      border-color: transparent;\n",
              "      border-right-color: var(--fill-color);\n",
              "      border-top-color: var(--fill-color);\n",
              "    }\n",
              "    60% {\n",
              "      border-color: transparent;\n",
              "      border-right-color: var(--fill-color);\n",
              "    }\n",
              "    80% {\n",
              "      border-color: transparent;\n",
              "      border-right-color: var(--fill-color);\n",
              "      border-bottom-color: var(--fill-color);\n",
              "    }\n",
              "    90% {\n",
              "      border-color: transparent;\n",
              "      border-bottom-color: var(--fill-color);\n",
              "    }\n",
              "  }\n",
              "</style>\n",
              "\n",
              "  <script>\n",
              "    async function quickchart(key) {\n",
              "      const quickchartButtonEl =\n",
              "        document.querySelector('#' + key + ' button');\n",
              "      quickchartButtonEl.disabled = true;  // To prevent multiple clicks.\n",
              "      quickchartButtonEl.classList.add('colab-df-spinner');\n",
              "      try {\n",
              "        const charts = await google.colab.kernel.invokeFunction(\n",
              "            'suggestCharts', [key], {});\n",
              "      } catch (error) {\n",
              "        console.error('Error during call to suggestCharts:', error);\n",
              "      }\n",
              "      quickchartButtonEl.classList.remove('colab-df-spinner');\n",
              "      quickchartButtonEl.classList.add('colab-df-quickchart-complete');\n",
              "    }\n",
              "    (() => {\n",
              "      let quickchartButtonEl =\n",
              "        document.querySelector('#df-02a2e7aa-6a32-4aa4-b9dc-71a7cff8577c button');\n",
              "      quickchartButtonEl.style.display =\n",
              "        google.colab.kernel.accessAllowed ? 'block' : 'none';\n",
              "    })();\n",
              "  </script>\n",
              "</div>\n",
              "    </div>\n",
              "  </div>\n"
            ],
            "application/vnd.google.colaboratory.intrinsic+json": {
              "type": "dataframe",
              "variable_name": "data",
              "summary": "{\n  \"name\": \"data\",\n  \"rows\": 9658,\n  \"fields\": [\n    {\n      \"column\": \"App\",\n      \"properties\": {\n        \"dtype\": \"string\",\n        \"num_unique_values\": 9658,\n        \"samples\": [\n          \"Guns'n'Glory Zombies Premium\",\n          \"Doorstep EU\",\n          \"UNO \\u2122 & Friends\"\n        ],\n        \"semantic_type\": \"\",\n        \"description\": \"\"\n      }\n    },\n    {\n      \"column\": \"Category\",\n      \"properties\": {\n        \"dtype\": \"category\",\n        \"num_unique_values\": 33,\n        \"samples\": [\n          \"NEWS_AND_MAGAZINES\",\n          \"LIBRARIES_AND_DEMO\",\n          \"PERSONALIZATION\"\n        ],\n        \"semantic_type\": \"\",\n        \"description\": \"\"\n      }\n    },\n    {\n      \"column\": \"Rating\",\n      \"properties\": {\n        \"dtype\": \"number\",\n        \"std\": 0.4943725787108015,\n        \"min\": 1.0,\n        \"max\": 5.0,\n        \"num_unique_values\": 40,\n        \"samples\": [\n          3.1,\n          3.3,\n          3.7\n        ],\n        \"semantic_type\": \"\",\n        \"description\": \"\"\n      }\n    },\n    {\n      \"column\": \"Reviews\",\n      \"properties\": {\n        \"dtype\": \"number\",\n        \"std\": 1831413,\n        \"min\": 0,\n        \"max\": 78158306,\n        \"num_unique_values\": 5330,\n        \"samples\": [\n          37023,\n          108592,\n          1336246\n        ],\n        \"semantic_type\": \"\",\n        \"description\": \"\"\n      }\n    },\n    {\n      \"column\": \"Size in KBs\",\n      \"properties\": {\n        \"dtype\": \"number\",\n        \"std\": 21337.399034056038,\n        \"min\": 8.5,\n        \"max\": 102400.0,\n        \"num_unique_values\": 1683,\n        \"samples\": [\n          30712.289333333334,\n          39785.936198557,\n          36893.30265396827\n        ],\n        \"semantic_type\": \"\",\n        \"description\": \"\"\n      }\n    },\n    {\n      \"column\": \"Installs\",\n      \"properties\": {\n        \"dtype\": \"number\",\n        \"std\": 53761003,\n        \"min\": 0,\n        \"max\": 1000000000,\n        \"num_unique_values\": 20,\n        \"samples\": [\n          10000,\n          1,\n          500\n        ],\n        \"semantic_type\": \"\",\n        \"description\": \"\"\n      }\n    },\n    {\n      \"column\": \"Type\",\n      \"properties\": {\n        \"dtype\": \"category\",\n        \"num_unique_values\": 2,\n        \"samples\": [\n          \"Paid\",\n          \"Free\"\n        ],\n        \"semantic_type\": \"\",\n        \"description\": \"\"\n      }\n    },\n    {\n      \"column\": \"Price\",\n      \"properties\": {\n        \"dtype\": \"number\",\n        \"std\": 16.853020706845175,\n        \"min\": 0.0,\n        \"max\": 400.0,\n        \"num_unique_values\": 92,\n        \"samples\": [\n          17.99,\n          29.99\n        ],\n        \"semantic_type\": \"\",\n        \"description\": \"\"\n      }\n    },\n    {\n      \"column\": \"Genres\",\n      \"properties\": {\n        \"dtype\": \"category\",\n        \"num_unique_values\": 118,\n        \"samples\": [\n          \"Educational;Education\",\n          \"Travel & Local;Action & Adventure\"\n        ],\n        \"semantic_type\": \"\",\n        \"description\": \"\"\n      }\n    }\n  ]\n}"
            }
          },
          "metadata": {},
          "execution_count": 50
        }
      ],
      "source": [
        "#Data after processing\n",
        "data.head()"
      ]
    },
    {
      "cell_type": "markdown",
      "metadata": {
        "id": "0_SeBnupx938"
      },
      "source": [
        "## Visualisations"
      ]
    },
    {
      "cell_type": "markdown",
      "metadata": {
        "id": "OhFpFNTCyKCm"
      },
      "source": [
        "**Size of 5 star rated apps**"
      ]
    },
    {
      "cell_type": "code",
      "execution_count": null,
      "metadata": {
        "id": "7xFgr1jTygKs",
        "colab": {
          "base_uri": "https://localhost:8080/"
        },
        "outputId": "78776720-251c-4687-d3aa-f2aba122977d"
      },
      "outputs": [
        {
          "output_type": "stream",
          "name": "stdout",
          "text": [
            "Most 5-star rated apps have a size: 7.8 MB\n",
            "The average size of 5-star rated apps is 14.2 MB\n"
          ]
        }
      ],
      "source": [
        "size_median_kb = data[data['Rating']==5.0]['Size in KBs'].median()\n",
        "\n",
        "size_mean_kb = data[data['Rating']==5.0]['Size in KBs'].mean()\n",
        "\n",
        "print(f'Most 5-star rated apps have a size: {np.round(size_median_kb / 1024, 2)} MB')\n",
        "print(f'The average size of 5-star rated apps is {np.round(size_mean_kb / 1024, 2)} MB')"
      ]
    },
    {
      "cell_type": "markdown",
      "metadata": {
        "id": "6-tKZMQV-Gqe"
      },
      "source": [
        "**Type of 5 star ratings app**"
      ]
    },
    {
      "cell_type": "code",
      "execution_count": null,
      "metadata": {
        "id": "lh8jcqvy94U8",
        "colab": {
          "base_uri": "https://localhost:8080/",
          "height": 782
        },
        "outputId": "dfed85b4-d616-45d7-c99d-cdb1a28f6f62"
      },
      "outputs": [
        {
          "output_type": "stream",
          "name": "stdout",
          "text": [
            "Number of 5-star apps that are free is 243 and number of 5-star apps that are paid is 28\n"
          ]
        },
        {
          "output_type": "display_data",
          "data": {
            "text/plain": [
              "<Figure size 1800x1000 with 1 Axes>"
            ],
            "image/png": "[encoded data removed]"
          },
          "metadata": {}
        }
      ],
      "source": [
        "typ= data[data['Rating']==5.0]['Type'].value_counts()\n",
        "\n",
        "print(f'Number of 5-star apps that are free is {typ[0]} and number of 5-star apps that are paid is {typ[1]}')\n",
        "\n",
        "plt.figure(figsize=(18,10))\n",
        "sns.set_style('whitegrid')\n",
        "\n",
        "sns.set_palette('pastel')\n",
        "\n",
        "sns.countplot(x= 'Type', data= data[data['Rating']==5.0], color ='#19AADE')\n",
        "\n",
        "plt.title('Type of 5 star apps')\n",
        "plt.xlabel('Type')\n",
        "plt.ylabel('Count')\n",
        "\n",
        "plt.show()"
      ]
    },
    {
      "cell_type": "markdown",
      "metadata": {
        "id": "1OGJ-jmx_FZS"
      },
      "source": [
        "So we get to know that most the apps that have 5 star ratings are free."
      ]
    },
    {
      "cell_type": "markdown",
      "metadata": {
        "id": "7uq5L6DS_LxO"
      },
      "source": [
        "**Category of 5 star apps**"
      ]
    },
    {
      "cell_type": "code",
      "execution_count": null,
      "metadata": {
        "id": "mL9d6Mbj-ZDc",
        "colab": {
          "base_uri": "https://localhost:8080/"
        },
        "outputId": "bcb3c310-16c8-4658-f027-07a294bb6f0c"
      },
      "outputs": [
        {
          "output_type": "execute_result",
          "data": {
            "text/plain": [
              "Category\n",
              "FAMILY       67\n",
              "LIFESTYLE    29\n",
              "MEDICAL      25\n",
              "BUSINESS     18\n",
              "TOOLS        17\n",
              "Name: count, dtype: int64"
            ]
          },
          "metadata": {},
          "execution_count": 53
        }
      ],
      "source": [
        "cat = data[data['Rating']==5.0]['Category'].value_counts().sort_values(ascending = False).head(5)\n",
        "cat.head()"
      ]
    },
    {
      "cell_type": "code",
      "execution_count": null,
      "metadata": {
        "id": "_XxG1omc_bWV",
        "colab": {
          "base_uri": "https://localhost:8080/",
          "height": 685
        },
        "outputId": "ddb5ab78-934d-4a84-f8d3-808b2a83f2a7"
      },
      "outputs": [
        {
          "output_type": "stream",
          "name": "stderr",
          "text": [
            "<ipython-input-54-95d9a6870488>:17: FutureWarning: \n",
            "\n",
            "Passing `palette` without assigning `hue` is deprecated and will be removed in v0.14.0. Assign the `y` variable to `hue` and set `legend=False` for the same effect.\n",
            "\n",
            "  sns.barplot(x=cat.values, y=cat.index, palette=palette)\n"
          ]
        },
        {
          "output_type": "display_data",
          "data": {
            "text/plain": [
              "<Figure size 1000x600 with 1 Axes>"
            ],
            "image/png": "[encoded data removed]"
          },
          "metadata": {}
        }
      ],
      "source": [
        "import matplotlib.pyplot as plt\n",
        "import seaborn as sns\n",
        "\n",
        "\n",
        "cat = data[data['Rating'] == 5.0]['Category'].value_counts().sort_values(ascending=False).head(5)\n",
        "\n",
        "# Setting a style\n",
        "sns.set(style=\"whitegrid\")\n",
        "\n",
        "# Create a color palette\n",
        "palette = sns.color_palette(\"coolwarm\", n_colors=5)\n",
        "\n",
        "# Initialize the matplotlib figure\n",
        "plt.figure(figsize=(10, 6))\n",
        "\n",
        "# Create a barplot\n",
        "sns.barplot(x=cat.values, y=cat.index, palette=palette)\n",
        "\n",
        "# Add titles and labels\n",
        "plt.title('Top 5 Categories of 5-Star Rated Apps', fontsize=16)\n",
        "plt.xlabel('Number of Apps', fontsize=14)\n",
        "plt.ylabel('Categories', fontsize=14)\n",
        "\n",
        "\n",
        "for index, value in enumerate(cat.values):\n",
        "    plt.text(value, index, str(value), color='black', ha=\"left\", va=\"center\")\n",
        "\n",
        "# Show the plot\n",
        "plt.show()\n"
      ]
    },
    {
      "cell_type": "markdown",
      "metadata": {
        "id": "rTjQQMRA_xoR"
      },
      "source": [
        "We can clearly infer that 'Family Apps' and 'Lifestyle Apps' receive the most 5 star ratings.\n",
        "\n",
        "Conclusions:\n",
        "Characteristics of the 5 star apps on Play Store:\n",
        "\n",
        "1. Size : 14.4 MB\n",
        "2. Type : Free\n",
        "3. Top 3 categories : 'Family', 'Lifestyle', 'Medical'"
      ]
    },
    {
      "cell_type": "markdown",
      "metadata": {
        "id": "7p8mSa-1A2nu"
      },
      "source": [
        "**Size of less 3 star apps**"
      ]
    },
    {
      "cell_type": "code",
      "execution_count": null,
      "metadata": {
        "id": "3XLkmEpj_pYY",
        "colab": {
          "base_uri": "https://localhost:8080/"
        },
        "outputId": "c1be6345-3113-4466-bdd0-11ed8abdb39d"
      },
      "outputs": [
        {
          "output_type": "stream",
          "name": "stdout",
          "text": [
            "Most 3-star rated apps have a size: 14.0 MB\n",
            "The average size of 3-star rated apps is 17.83 MB\n"
          ]
        }
      ],
      "source": [
        "size_median_kb = data[data['Rating']==3.0]['Size in KBs'].median()\n",
        "\n",
        "size_mean_kb = data[data['Rating']==3.0]['Size in KBs'].mean()\n",
        "\n",
        "print(f'Most 3-star rated apps have a size: {np.round(size_median_kb / 1024, 2)} MB')\n",
        "print(f'The average size of 3-star rated apps is {np.round(size_mean_kb / 1024, 2)} MB')"
      ]
    },
    {
      "cell_type": "markdown",
      "metadata": {
        "id": "1YzdC9ZWBAb_"
      },
      "source": [
        "**Type of less than 3 star Apps**"
      ]
    },
    {
      "cell_type": "code",
      "execution_count": null,
      "metadata": {
        "id": "-Zj47P0pA8qP",
        "colab": {
          "base_uri": "https://localhost:8080/",
          "height": 790
        },
        "outputId": "0e5d4b08-f4d2-4ae3-d537-1f8a6efb3780"
      },
      "outputs": [
        {
          "output_type": "stream",
          "name": "stdout",
          "text": [
            "Number of 3-star apps that are free is 73 and number of 3-star apps that are paid is 8\n"
          ]
        },
        {
          "output_type": "display_data",
          "data": {
            "text/plain": [
              "<Figure size 1800x1000 with 1 Axes>"
            ],
            "image/png": "[encoded data removed]"
          },
          "metadata": {}
        }
      ],
      "source": [
        "typ= data[data['Rating']==3.0]['Type'].value_counts()\n",
        "\n",
        "print(f'Number of 3-star apps that are free is {typ[0]} and number of 3-star apps that are paid is {typ[1]}')\n",
        "\n",
        "plt.figure(figsize=(18,10))\n",
        "sns.set_style('whitegrid')\n",
        "\n",
        "sns.set_palette('pastel')\n",
        "\n",
        "sns.countplot(x= 'Type', data= data[data['Rating']==3.0], color ='#19AADE')\n",
        "\n",
        "plt.title('Type of 3 star apps')\n",
        "plt.xlabel('Type')\n",
        "plt.ylabel('Count')\n",
        "\n",
        "plt.show()"
      ]
    },
    {
      "cell_type": "markdown",
      "metadata": {
        "id": "TgYwEWdABLj4"
      },
      "source": [
        "Most of the less than 3 star apps are Free as well, as we saw in 5 star apps. We camn also infer that most the apps which get downloaded on playstore are free."
      ]
    },
    {
      "cell_type": "markdown",
      "metadata": {
        "id": "skQu-4jDBWY4"
      },
      "source": [
        "**Category of apps les than 3 rating**"
      ]
    },
    {
      "cell_type": "code",
      "execution_count": null,
      "metadata": {
        "id": "ye5jHFSUBIn7",
        "colab": {
          "base_uri": "https://localhost:8080/"
        },
        "outputId": "a054c45b-be32-4d24-f78d-f5611c392afd"
      },
      "outputs": [
        {
          "output_type": "execute_result",
          "data": {
            "text/plain": [
              "Category\n",
              "FAMILY       21\n",
              "TOOLS        10\n",
              "BUSINESS      6\n",
              "LIFESTYLE     6\n",
              "MEDICAL       5\n",
              "Name: count, dtype: int64"
            ]
          },
          "metadata": {},
          "execution_count": 57
        }
      ],
      "source": [
        "cat = data[data['Rating']==3.0]['Category'].value_counts().sort_values(ascending = False).head(5)\n",
        "cat.head()"
      ]
    },
    {
      "cell_type": "code",
      "execution_count": null,
      "metadata": {
        "id": "ZDJAhxJLBiMZ",
        "colab": {
          "base_uri": "https://localhost:8080/",
          "height": 685
        },
        "outputId": "5725dee7-cd28-4e99-8658-46954f7693ef"
      },
      "outputs": [
        {
          "output_type": "stream",
          "name": "stderr",
          "text": [
            "<ipython-input-58-fe052d8d99c1>:13: FutureWarning: \n",
            "\n",
            "Passing `palette` without assigning `hue` is deprecated and will be removed in v0.14.0. Assign the `y` variable to `hue` and set `legend=False` for the same effect.\n",
            "\n",
            "  sns.barplot(x=cat.values, y=cat.index, palette=palette)\n"
          ]
        },
        {
          "output_type": "display_data",
          "data": {
            "text/plain": [
              "<Figure size 1000x600 with 1 Axes>"
            ],
            "image/png": "[encoded data removed]"
          },
          "metadata": {}
        }
      ],
      "source": [
        "cat = data[data['Rating'] == 3.0]['Category'].value_counts().sort_values(ascending=False).head(5)\n",
        "\n",
        "# Setting a style\n",
        "sns.set(style=\"whitegrid\")\n",
        "\n",
        "# Create a color palette\n",
        "palette = sns.color_palette(\"coolwarm\", n_colors=5)\n",
        "\n",
        "# Initialize the matplotlib figure\n",
        "plt.figure(figsize=(10, 6))\n",
        "\n",
        "# Create a barplot\n",
        "sns.barplot(x=cat.values, y=cat.index, palette=palette)\n",
        "\n",
        "# Add titles and labels\n",
        "plt.title('Top 3 Categories of 3-Star Rated Apps', fontsize=16)\n",
        "plt.xlabel('Number of Apps', fontsize=14)\n",
        "plt.ylabel('Categories', fontsize=14)\n",
        "\n",
        "\n",
        "for index, value in enumerate(cat.values):\n",
        "    plt.text(value, index, str(value), color='black', ha=\"left\", va=\"center\")\n",
        "\n",
        "# Show the plot\n",
        "plt.show()\n"
      ]
    },
    {
      "cell_type": "markdown",
      "metadata": {
        "id": "ip1rWTp-BssF"
      },
      "source": [
        "We cans see that even here some family apps have  less than 3 rating and the next category is Tools.\n",
        "\n",
        "Conclusions:\n",
        "Characteristics of apps having rating 3  apps on Play Store:\n",
        "\n",
        "1. Size : 17.5 MB\n",
        "2. Type : Free\n",
        "3. Top 3 categories : 'Family', 'Tools', 'Business'"
      ]
    },
    {
      "cell_type": "markdown",
      "metadata": {
        "id": "fjndIoxOC7Vw"
      },
      "source": [
        "### Analysis\n",
        "\n",
        "**Key Insights**\n",
        "1. **Popular Categories:** Family and Lifestyle apps receive the most 5-star ratings.\n",
        "2. **App Size:** Apps rated 5 stars average 14.4 MB; those with less than 3 stars average 17.5 MB.\n",
        "3. **App Type:** Free apps are predominant among those with high ratings.\n",
        "\n",
        "**Observations**\n",
        "- **Category Variability:** Family apps can receive both high and low ratings, indicating a range in quality or user experience within this category.\n",
        "- **Challenges in Certain Categories:** Tools and Business apps also appear frequently in lower ratings, suggesting possible issues like complexity or poor interfaces.\n",
        "\n",
        "**Strategic Recommendations**\n",
        "1. **Enhance User Experience:** Focus on user-friendly features, especially in high-variability categories like Family.\n",
        "2. **Optimize App Size:** Smaller, well-optimized apps tend to be favored, suggesting a focus on efficiency.\n",
        "3. **Gather User Feedback:** For categories like Tools and Business, address common criticisms to improve ratings.\n",
        "\n"
      ]
    },
    {
      "cell_type": "markdown",
      "metadata": {
        "id": "Vy1usUulD-Q0"
      },
      "source": [
        "## Predictive Modelling\n",
        "### Split Train and Test Sets"
      ]
    },
    {
      "cell_type": "code",
      "execution_count": null,
      "metadata": {
        "id": "njf6FjmRFEWT"
      },
      "outputs": [],
      "source": [
        "X = data.drop(columns=['Rating'])\n",
        "y = data['Rating']\n",
        "\n",
        "X_train, X_test, y_train, y_test = train_test_split(X, y, test_size=0.2, random_state=42)"
      ]
    },
    {
      "cell_type": "markdown",
      "source": [
        "### Model Selection\n",
        "\n",
        "**XGBoost (Extreme Gradient Boosting) Strengths:**\n",
        "\n",
        "**Efficiency**: XGBoost is known for its high computational efficiency and speed, which comes from its optimized gradient boosting algorithm. It can handle large datasets effectively.\n",
        "\n",
        "**Handling Sparse Data**: It works well with sparse data from features encoded via one-hot encoding and can handle missing data inherently.\n",
        "\n",
        "**Regularization**: XGBoost includes L1 and L2 regularization which helps in reducing overfitting and improving model performance.\n",
        "**Scalability**: It is designed to be highly scalable in all scenarios and has been engineered to exploit hardware optimizations.\n",
        "\n",
        "----\n",
        "**Gradient Boosting Regressor Strengths:**\n",
        "\n",
        "**Flexibility**: Gradient Boosting can optimize on different loss functions and provides several hyperparameter tuning options that can make the model adaptable to specific needs of the dataset.\n",
        "\n",
        "**Natural Handling of Data Irregularities**: Gradient Boosting performs well with heterogeneous features (i.e., features of different types) and is robust to outliers in the dataset.\n",
        "\n",
        "**Predictive Power**: It often provides high predictive accuracy that can be very competitive compared to other algorithms, especially in complex datasets with non-linear relationships."
      ],
      "metadata": {
        "id": "uPOuv1F_BLvh"
      }
    },
    {
      "cell_type": "code",
      "execution_count": null,
      "metadata": {
        "id": "ji1Sw3432IsF"
      },
      "outputs": [],
      "source": [
        "model = {\n",
        "    'XGBRegressor' : {\n",
        "        'model' : XGBRegressor(),\n",
        "        'params': {\n",
        "            'model__n_estimators' : [100, 500],\n",
        "            'model__max_depth': [3]\n",
        "        }\n",
        "    },\n",
        "    'GradientBoostingRegressor' : {\n",
        "        'model': GradientBoostingRegressor(),\n",
        "        'params': {\n",
        "            'model__loss': ['squared_error', 'quantile'],\n",
        "            'model__criterion' : ['friedman_mse']\n",
        "        }\n",
        "    },\n",
        "}\n"
      ]
    },
    {
      "cell_type": "code",
      "execution_count": null,
      "metadata": {
        "id": "C_70AOyK2RHa"
      },
      "outputs": [],
      "source": [
        "tr1 = ColumnTransformer([\n",
        "    ('ordinal_encoder', OrdinalEncoder(), ['Type']),\n",
        "    ('OneHot_Encoder', OneHotEncoder(sparse_output=False, handle_unknown='ignore'), ['App', 'Category', 'Genres'])\n",
        "], remainder='passthrough')\n",
        "\n",
        "tr2 = ColumnTransformer([\n",
        "    ('Quantile_Transformer', QuantileTransformer(output_distribution='normal'), [2, 3, 4, 5, 7])\n",
        "], remainder='passthrough')"
      ]
    },
    {
      "cell_type": "code",
      "source": [
        "# Apply only the first transformer (tr1) to a small subset of the training data to test its functionality\n",
        "X_train_subset = X_train.head(100)\n",
        "tr1_subset_transformed = tr1.fit_transform(X_train_subset)\n",
        "\n",
        "tr2_subset_transformed = tr2.fit_transform(tr1_subset_transformed)\n",
        "tr2_subset_transformed.shape"
      ],
      "metadata": {
        "colab": {
          "base_uri": "https://localhost:8080/"
        },
        "id": "EOdcQoY2ZpjI",
        "outputId": "a0ae77f2-63a2-447d-f2ba-4d89a2127ef8"
      },
      "execution_count": null,
      "outputs": [
        {
          "output_type": "stream",
          "name": "stderr",
          "text": [
            "/usr/local/lib/python3.10/dist-packages/sklearn/preprocessing/_data.py:2627: UserWarning: n_quantiles (1000) is greater than the total number of samples (100). n_quantiles is set to n_samples.\n",
            "  warnings.warn(\n"
          ]
        },
        {
          "output_type": "execute_result",
          "data": {
            "text/plain": [
              "(100, 172)"
            ]
          },
          "metadata": {},
          "execution_count": 193
        }
      ]
    },
    {
      "cell_type": "code",
      "source": [
        "pipe = Pipeline([\n",
        "    ('tr1', tr1),\n",
        "    ('tr2', tr2),\n",
        "    ('model', GradientBoostingRegressor())\n",
        "])\n",
        "\n",
        "pipe.fit(X_train_subset, y_train.head(100))\n",
        "y_pred_subset = pipe.predict(X_train_subset)\n",
        "r2 = r2_score(y_train.head(100), y_pred_subset)\n",
        "print(f'R2 Score: {r2}')"
      ],
      "metadata": {
        "colab": {
          "base_uri": "https://localhost:8080/"
        },
        "id": "n2YfreLkcK1P",
        "outputId": "d8248360-f0a3-40cd-ab0c-d5ff4f8b802a"
      },
      "execution_count": null,
      "outputs": [
        {
          "output_type": "stream",
          "name": "stdout",
          "text": [
            "R2 Score: 0.8820455559340684\n"
          ]
        },
        {
          "output_type": "stream",
          "name": "stderr",
          "text": [
            "/usr/local/lib/python3.10/dist-packages/sklearn/preprocessing/_data.py:2627: UserWarning: n_quantiles (1000) is greater than the total number of samples (100). n_quantiles is set to n_samples.\n",
            "  warnings.warn(\n"
          ]
        }
      ]
    },
    {
      "cell_type": "code",
      "execution_count": null,
      "metadata": {
        "id": "CwTTsteMBxr6",
        "colab": {
          "base_uri": "https://localhost:8080/"
        },
        "outputId": "8b449f1d-cc56-4638-96b0-c5d2c4e252e5"
      },
      "outputs": [
        {
          "output_type": "stream",
          "name": "stdout",
          "text": [
            "Fitting 5 folds for each of 2 candidates, totalling 10 fits\n"
          ]
        },
        {
          "output_type": "stream",
          "name": "stderr",
          "text": [
            "/usr/local/lib/python3.10/dist-packages/joblib/externals/loky/backend/fork_exec.py:38: RuntimeWarning: os.fork() was called. os.fork() is incompatible with multithreaded code, and JAX is multithreaded, so this will likely lead to a deadlock.\n",
            "  pid = os.fork()\n"
          ]
        },
        {
          "output_type": "stream",
          "name": "stdout",
          "text": [
            "Fitting 5 folds for each of 2 candidates, totalling 10 fits\n",
            "CPU times: user 2min 41s, sys: 3.43 s, total: 2min 45s\n",
            "Wall time: 12min 15s\n"
          ]
        }
      ],
      "source": [
        "%%time\n",
        "\n",
        "# Initialize lists to store model names and evaluation metrics\n",
        "model_names = []\n",
        "r2_scores = []\n",
        "mean_absolute_errors = []\n",
        "mean_squared_errors = []\n",
        "\n",
        "# Iterate over each model in the `model` dictionary\n",
        "for model_name, mp in model.items():\n",
        "    # Create a pipeline for the current model\n",
        "    pipe = Pipeline([\n",
        "        ('tr1', tr1),  # Apply the first ColumnTransformer for data preprocessing\n",
        "        ('tr2', tr2),  # Apply the second ColumnTransformer for data preprocessing\n",
        "        ('model', mp['model'])  # Add the model to the pipeline\n",
        "    ])\n",
        "\n",
        "    # Perform grid search cross-validation to tune hyperparameters\n",
        "    grid = GridSearchCV(pipe, mp['params'], cv=5, verbose=1, n_jobs=-1)\n",
        "    grid.fit(X_train, y_train)\n",
        "\n",
        "    # Make predictions on the test set\n",
        "    y_pred = grid.predict(X_test)\n",
        "\n",
        "    # Evaluate the model performance using various metrics\n",
        "    r2 = r2_score(y_test, y_pred)  # Calculate R-squared score\n",
        "    mae = mean_absolute_error(y_test, y_pred)  # Calculate mean absolute error\n",
        "    mse = mean_squared_error(y_test, y_pred)  # Calculate mean squared error\n",
        "\n",
        "    # Append model name and evaluation metrics to respective lists\n",
        "    model_names.append(model_name)\n",
        "    r2_scores.append(r2)\n",
        "    mean_absolute_errors.append(mae)\n",
        "    mean_squared_errors.append(mse)"
      ]
    },
    {
      "cell_type": "code",
      "source": [
        "evaluation_dff = pd.DataFrame({\n",
        "    'model_name': model_names,\n",
        "    'r2_score': r2_scores,\n",
        "    'mean_absolute_error': mean_absolute_errors,\n",
        "    'mean_squared_error': mean_squared_errors\n",
        "})\n",
        "\n",
        "# Sort the DataFrame by R-squared score in descending order\n",
        "evaluation_df = evaluation_dff.sort_values(by='r2_score', ascending=False)"
      ],
      "metadata": {
        "id": "3fERgdD-BnAC"
      },
      "execution_count": null,
      "outputs": []
    },
    {
      "cell_type": "code",
      "source": [
        "evaluation_df.head()"
      ],
      "metadata": {
        "colab": {
          "base_uri": "https://localhost:8080/",
          "height": 112
        },
        "id": "RW0fl9xzEhis",
        "outputId": "aac0b82d-03d5-49cd-dca6-89593fb647e2"
      },
      "execution_count": null,
      "outputs": [
        {
          "output_type": "execute_result",
          "data": {
            "text/plain": [
              "                  model_name  r2_score  mean_absolute_error  \\\n",
              "0               XGBRegressor  0.131842             0.300828   \n",
              "1  GradientBoostingRegressor  0.084003             0.311221   \n",
              "\n",
              "   mean_squared_error  \n",
              "0            0.208355  \n",
              "1            0.219836  "
            ],
            "text/html": [
              "\n",
              "  <div id=\"df-6ebd663b-739e-4970-9d4a-4351e4f08004\" class=\"colab-df-container\">\n",
              "    <div>\n",
              "<style scoped>\n",
              "    .dataframe tbody tr th:only-of-type {\n",
              "        vertical-align: middle;\n",
              "    }\n",
              "\n",
              "    .dataframe tbody tr th {\n",
              "        vertical-align: top;\n",
              "    }\n",
              "\n",
              "    .dataframe thead th {\n",
              "        text-align: right;\n",
              "    }\n",
              "</style>\n",
              "<table border=\"1\" class=\"dataframe\">\n",
              "  <thead>\n",
              "    <tr style=\"text-align: right;\">\n",
              "      <th></th>\n",
              "      <th>model_name</th>\n",
              "      <th>r2_score</th>\n",
              "      <th>mean_absolute_error</th>\n",
              "      <th>mean_squared_error</th>\n",
              "    </tr>\n",
              "  </thead>\n",
              "  <tbody>\n",
              "    <tr>\n",
              "      <th>0</th>\n",
              "      <td>XGBRegressor</td>\n",
              "      <td>0.131842</td>\n",
              "      <td>0.300828</td>\n",
              "      <td>0.208355</td>\n",
              "    </tr>\n",
              "    <tr>\n",
              "      <th>1</th>\n",
              "      <td>GradientBoostingRegressor</td>\n",
              "      <td>0.084003</td>\n",
              "      <td>0.311221</td>\n",
              "      <td>0.219836</td>\n",
              "    </tr>\n",
              "  </tbody>\n",
              "</table>\n",
              "</div>\n",
              "    <div class=\"colab-df-buttons\">\n",
              "\n",
              "  <div class=\"colab-df-container\">\n",
              "    <button class=\"colab-df-convert\" onclick=\"convertToInteractive('df-6ebd663b-739e-4970-9d4a-4351e4f08004')\"\n",
              "            title=\"Convert this dataframe to an interactive table.\"\n",
              "            style=\"display:none;\">\n",
              "\n",
              "  <svg xmlns=\"http://www.w3.org/2000/svg\" height=\"24px\" viewBox=\"0 -960 960 960\">\n",
              "    <path d=\"M120-120v-720h720v720H120Zm60-500h600v-160H180v160Zm220 220h160v-160H400v160Zm0 220h160v-160H400v160ZM180-400h160v-160H180v160Zm440 0h160v-160H620v160ZM180-180h160v-160H180v160Zm440 0h160v-160H620v160Z\"/>\n",
              "  </svg>\n",
              "    </button>\n",
              "\n",
              "  <style>\n",
              "    .colab-df-container {\n",
              "      display:flex;\n",
              "      gap: 12px;\n",
              "    }\n",
              "\n",
              "    .colab-df-convert {\n",
              "      background-color: #E8F0FE;\n",
              "      border: none;\n",
              "      border-radius: 50%;\n",
              "      cursor: pointer;\n",
              "      display: none;\n",
              "      fill: #1967D2;\n",
              "      height: 32px;\n",
              "      padding: 0 0 0 0;\n",
              "      width: 32px;\n",
              "    }\n",
              "\n",
              "    .colab-df-convert:hover {\n",
              "      background-color: #E2EBFA;\n",
              "      box-shadow: 0px 1px 2px rgba(60, 64, 67, 0.3), 0px 1px 3px 1px rgba(60, 64, 67, 0.15);\n",
              "      fill: #174EA6;\n",
              "    }\n",
              "\n",
              "    .colab-df-buttons div {\n",
              "      margin-bottom: 4px;\n",
              "    }\n",
              "\n",
              "    [theme=dark] .colab-df-convert {\n",
              "      background-color: #3B4455;\n",
              "      fill: #D2E3FC;\n",
              "    }\n",
              "\n",
              "    [theme=dark] .colab-df-convert:hover {\n",
              "      background-color: #434B5C;\n",
              "      box-shadow: 0px 1px 3px 1px rgba(0, 0, 0, 0.15);\n",
              "      filter: drop-shadow(0px 1px 2px rgba(0, 0, 0, 0.3));\n",
              "      fill: #FFFFFF;\n",
              "    }\n",
              "  </style>\n",
              "\n",
              "    <script>\n",
              "      const buttonEl =\n",
              "        document.querySelector('#df-6ebd663b-739e-4970-9d4a-4351e4f08004 button.colab-df-convert');\n",
              "      buttonEl.style.display =\n",
              "        google.colab.kernel.accessAllowed ? 'block' : 'none';\n",
              "\n",
              "      async function convertToInteractive(key) {\n",
              "        const element = document.querySelector('#df-6ebd663b-739e-4970-9d4a-4351e4f08004');\n",
              "        const dataTable =\n",
              "          await google.colab.kernel.invokeFunction('convertToInteractive',\n",
              "                                                    [key], {});\n",
              "        if (!dataTable) return;\n",
              "\n",
              "        const docLinkHtml = 'Like what you see? Visit the ' +\n",
              "          '<a target=\"_blank\" href=https://colab.research.google.com/notebooks/data_table.ipynb>data table notebook</a>'\n",
              "          + ' to learn more about interactive tables.';\n",
              "        element.innerHTML = '';\n",
              "        dataTable['output_type'] = 'display_data';\n",
              "        await google.colab.output.renderOutput(dataTable, element);\n",
              "        const docLink = document.createElement('div');\n",
              "        docLink.innerHTML = docLinkHtml;\n",
              "        element.appendChild(docLink);\n",
              "      }\n",
              "    </script>\n",
              "  </div>\n",
              "\n",
              "\n",
              "<div id=\"df-77bd3ad1-bf2d-4ca6-9fda-46e9e940e232\">\n",
              "  <button class=\"colab-df-quickchart\" onclick=\"quickchart('df-77bd3ad1-bf2d-4ca6-9fda-46e9e940e232')\"\n",
              "            title=\"Suggest charts\"\n",
              "            style=\"display:none;\">\n",
              "\n",
              "<svg xmlns=\"http://www.w3.org/2000/svg\" height=\"24px\"viewBox=\"0 0 24 24\"\n",
              "     width=\"24px\">\n",
              "    <g>\n",
              "        <path d=\"M19 3H5c-1.1 0-2 .9-2 2v14c0 1.1.9 2 2 2h14c1.1 0 2-.9 2-2V5c0-1.1-.9-2-2-2zM9 17H7v-7h2v7zm4 0h-2V7h2v10zm4 0h-2v-4h2v4z\"/>\n",
              "    </g>\n",
              "</svg>\n",
              "  </button>\n",
              "\n",
              "<style>\n",
              "  .colab-df-quickchart {\n",
              "      --bg-color: #E8F0FE;\n",
              "      --fill-color: #1967D2;\n",
              "      --hover-bg-color: #E2EBFA;\n",
              "      --hover-fill-color: #174EA6;\n",
              "      --disabled-fill-color: #AAA;\n",
              "      --disabled-bg-color: #DDD;\n",
              "  }\n",
              "\n",
              "  [theme=dark] .colab-df-quickchart {\n",
              "      --bg-color: #3B4455;\n",
              "      --fill-color: #D2E3FC;\n",
              "      --hover-bg-color: #434B5C;\n",
              "      --hover-fill-color: #FFFFFF;\n",
              "      --disabled-bg-color: #3B4455;\n",
              "      --disabled-fill-color: #666;\n",
              "  }\n",
              "\n",
              "  .colab-df-quickchart {\n",
              "    background-color: var(--bg-color);\n",
              "    border: none;\n",
              "    border-radius: 50%;\n",
              "    cursor: pointer;\n",
              "    display: none;\n",
              "    fill: var(--fill-color);\n",
              "    height: 32px;\n",
              "    padding: 0;\n",
              "    width: 32px;\n",
              "  }\n",
              "\n",
              "  .colab-df-quickchart:hover {\n",
              "    background-color: var(--hover-bg-color);\n",
              "    box-shadow: 0 1px 2px rgba(60, 64, 67, 0.3), 0 1px 3px 1px rgba(60, 64, 67, 0.15);\n",
              "    fill: var(--button-hover-fill-color);\n",
              "  }\n",
              "\n",
              "  .colab-df-quickchart-complete:disabled,\n",
              "  .colab-df-quickchart-complete:disabled:hover {\n",
              "    background-color: var(--disabled-bg-color);\n",
              "    fill: var(--disabled-fill-color);\n",
              "    box-shadow: none;\n",
              "  }\n",
              "\n",
              "  .colab-df-spinner {\n",
              "    border: 2px solid var(--fill-color);\n",
              "    border-color: transparent;\n",
              "    border-bottom-color: var(--fill-color);\n",
              "    animation:\n",
              "      spin 1s steps(1) infinite;\n",
              "  }\n",
              "\n",
              "  @keyframes spin {\n",
              "    0% {\n",
              "      border-color: transparent;\n",
              "      border-bottom-color: var(--fill-color);\n",
              "      border-left-color: var(--fill-color);\n",
              "    }\n",
              "    20% {\n",
              "      border-color: transparent;\n",
              "      border-left-color: var(--fill-color);\n",
              "      border-top-color: var(--fill-color);\n",
              "    }\n",
              "    30% {\n",
              "      border-color: transparent;\n",
              "      border-left-color: var(--fill-color);\n",
              "      border-top-color: var(--fill-color);\n",
              "      border-right-color: var(--fill-color);\n",
              "    }\n",
              "    40% {\n",
              "      border-color: transparent;\n",
              "      border-right-color: var(--fill-color);\n",
              "      border-top-color: var(--fill-color);\n",
              "    }\n",
              "    60% {\n",
              "      border-color: transparent;\n",
              "      border-right-color: var(--fill-color);\n",
              "    }\n",
              "    80% {\n",
              "      border-color: transparent;\n",
              "      border-right-color: var(--fill-color);\n",
              "      border-bottom-color: var(--fill-color);\n",
              "    }\n",
              "    90% {\n",
              "      border-color: transparent;\n",
              "      border-bottom-color: var(--fill-color);\n",
              "    }\n",
              "  }\n",
              "</style>\n",
              "\n",
              "  <script>\n",
              "    async function quickchart(key) {\n",
              "      const quickchartButtonEl =\n",
              "        document.querySelector('#' + key + ' button');\n",
              "      quickchartButtonEl.disabled = true;  // To prevent multiple clicks.\n",
              "      quickchartButtonEl.classList.add('colab-df-spinner');\n",
              "      try {\n",
              "        const charts = await google.colab.kernel.invokeFunction(\n",
              "            'suggestCharts', [key], {});\n",
              "      } catch (error) {\n",
              "        console.error('Error during call to suggestCharts:', error);\n",
              "      }\n",
              "      quickchartButtonEl.classList.remove('colab-df-spinner');\n",
              "      quickchartButtonEl.classList.add('colab-df-quickchart-complete');\n",
              "    }\n",
              "    (() => {\n",
              "      let quickchartButtonEl =\n",
              "        document.querySelector('#df-77bd3ad1-bf2d-4ca6-9fda-46e9e940e232 button');\n",
              "      quickchartButtonEl.style.display =\n",
              "        google.colab.kernel.accessAllowed ? 'block' : 'none';\n",
              "    })();\n",
              "  </script>\n",
              "</div>\n",
              "    </div>\n",
              "  </div>\n"
            ],
            "application/vnd.google.colaboratory.intrinsic+json": {
              "type": "dataframe",
              "variable_name": "evaluation_df",
              "summary": "{\n  \"name\": \"evaluation_df\",\n  \"rows\": 2,\n  \"fields\": [\n    {\n      \"column\": \"model_name\",\n      \"properties\": {\n        \"dtype\": \"string\",\n        \"num_unique_values\": 2,\n        \"samples\": [\n          \"GradientBoostingRegressor\",\n          \"XGBRegressor\"\n        ],\n        \"semantic_type\": \"\",\n        \"description\": \"\"\n      }\n    },\n    {\n      \"column\": \"r2_score\",\n      \"properties\": {\n        \"dtype\": \"number\",\n        \"std\": 0.03382730024026967,\n        \"min\": 0.08400270487668948,\n        \"max\": 0.1318417316549455,\n        \"num_unique_values\": 2,\n        \"samples\": [\n          0.08400270487668948,\n          0.1318417316549455\n        ],\n        \"semantic_type\": \"\",\n        \"description\": \"\"\n      }\n    },\n    {\n      \"column\": \"mean_absolute_error\",\n      \"properties\": {\n        \"dtype\": \"number\",\n        \"std\": 0.007349120845205954,\n        \"min\": 0.3008276920960427,\n        \"max\": 0.3112209184668518,\n        \"num_unique_values\": 2,\n        \"samples\": [\n          0.3112209184668518,\n          0.3008276920960427\n        ],\n        \"semantic_type\": \"\",\n        \"description\": \"\"\n      }\n    },\n    {\n      \"column\": \"mean_squared_error\",\n      \"properties\": {\n        \"dtype\": \"number\",\n        \"std\": 0.008118430825071472,\n        \"min\": 0.20835487303780661,\n        \"max\": 0.2198360680158105,\n        \"num_unique_values\": 2,\n        \"samples\": [\n          0.2198360680158105,\n          0.20835487303780661\n        ],\n        \"semantic_type\": \"\",\n        \"description\": \"\"\n      }\n    }\n  ]\n}"
            }
          },
          "metadata": {},
          "execution_count": 197
        }
      ]
    },
    {
      "cell_type": "markdown",
      "source": [
        "### Analysis of 2 Models\n",
        "\n",
        "**R-squared**: This metric indicates the proportion of the variance in the dependent variable that is predictable from the independent variables. XGBoost has a higher R-squared value, suggesting it can explain about 13.18% of the variability in app ratings, compared to 8.4% by Gradient Boosting.\n",
        "\n",
        "**Mean Absolute Error and Mean Squared Error**: These metrics measure the average magnitude of the errors in a set of predictions, without considering their direction. Lower values are better as they indicate less error. XGBoost shows lower MAE and MSE values compared to Gradient Boosting, suggesting that it not only provides predictions closer to the actual values but also shows less variance in errors.\n",
        "\n",
        "**Conclusion:**\n",
        "\n",
        "<u>The XGBoost model</u> outperforms the Gradient Boosting model in all the metrics considered for this dataset, making it the preferable model for predicting app ratings. This could be attributed to its ability to manage sparse data and its effective implementation of regularization which likely helped in handling overfitting better than Gradient Boosting."
      ],
      "metadata": {
        "id": "pWPQ-pkiJAt3"
      }
    },
    {
      "cell_type": "markdown",
      "source": [
        "### Neural Netowrk\n",
        "\n",
        "**Strong Training Fit**: The model demonstrates excellent learning capacity, as evidenced by the high R2 score and low error on training data. This suggests robust feature extraction and learning dynamics within the dataset used for training.\n",
        "\n",
        "**Efficient Learning**: The significant reduction in training loss from 1.9390 to 0.0026 highlights the model's ability to minimize prediction errors through successive epochs, reflecting effective backpropagation and optimization mechanics."
      ],
      "metadata": {
        "id": "w-qD8P9OM84T"
      }
    },
    {
      "cell_type": "code",
      "source": [
        "# Define R2 score as a custom metric\n",
        "def r2_score(y_true, y_pred):\n",
        "    SS_res =  K.sum(K.square(y_true - y_pred))\n",
        "    SS_tot = K.sum(K.square(y_true - K.mean(y_true)))\n",
        "    return (1 - SS_res/(SS_tot + K.epsilon()))\n",
        "\n",
        "# Define columns to be encoded and scaled\n",
        "categorical_columns = ['App', 'Category', 'Type', 'Genres']\n",
        "numerical_columns = ['Reviews', 'Size in KBs', 'Installs', 'Price']\n",
        "\n",
        "# Define transformations for categorical and numerical columns\n",
        "preprocessor = ColumnTransformer([\n",
        "    ('onehot_encoder', OneHotEncoder(sparse_output=False, handle_unknown='ignore'), categorical_columns),\n",
        "    ('standard_scaler', StandardScaler(), numerical_columns)\n",
        "])\n",
        "\n",
        "# Fit and transform the data\n",
        "X_train_scaled = preprocessor.fit_transform(X_train)\n",
        "X_test_scaled = preprocessor.transform(X_test)"
      ],
      "metadata": {
        "id": "RrTMw-SjEjCZ"
      },
      "execution_count": null,
      "outputs": []
    },
    {
      "cell_type": "code",
      "source": [
        "# Build the neural network model with hidden layers\n",
        "model = tf.keras.models.Sequential([\n",
        "    tf.keras.layers.Dense(64, activation='relu', input_shape=(X_train_scaled.shape[1],)),\n",
        "    tf.keras.layers.Dense(128, activation='relu'),\n",
        "    tf.keras.layers.Dense(128, activation='relu'),\n",
        "    tf.keras.layers.Dense(128, activation='relu'),\n",
        "    tf.keras.layers.Dense(64, activation='relu'),\n",
        "    tf.keras.layers.Dense(32, activation='relu'),\n",
        "    tf.keras.layers.Dense(16, activation='relu'),\n",
        "    tf.keras.layers.Dense(8, activation='relu'),\n",
        "    tf.keras.layers.Dense(1, activation='linear')\n",
        "])\n",
        "\n",
        "# Compile the model with custom and built-in metrics\n",
        "model.compile(optimizer='adam',\n",
        "    loss='mean_squared_error',\n",
        "    metrics=[r2_score, 'mae']\n",
        ")\n",
        "\n",
        "early_stop = EarlyStopping(\n",
        "    monitor='val_loss',\n",
        "    patience=25\n",
        ")\n",
        "\n",
        "# Train the model\n",
        "history = model.fit(\n",
        "    X_train_scaled,\n",
        "    y_train,\n",
        "    epochs=200,\n",
        "    callbacks=[early_stop],\n",
        "    batch_size=32,\n",
        "    verbose=1,\n",
        "    validation_data=(X_test_scaled, y_test)\n",
        ")\n"
      ],
      "metadata": {
        "colab": {
          "base_uri": "https://localhost:8080/"
        },
        "id": "TiQRjQguFCoL",
        "outputId": "8cb6126d-4c8f-403c-aab3-e7621cd5a975"
      },
      "execution_count": null,
      "outputs": [
        {
          "output_type": "stream",
          "name": "stdout",
          "text": [
            "Epoch 1/200\n",
            "242/242 [==============================] - 6s 11ms/step - loss: 1.9390 - r2_score: -10.0990 - mae: 0.8064 - val_loss: 0.2546 - val_r2_score: -0.1254 - val_mae: 0.3653\n",
            "Epoch 2/200\n",
            "242/242 [==============================] - 2s 10ms/step - loss: 0.1854 - r2_score: 0.1772 - mae: 0.3029 - val_loss: 0.2633 - val_r2_score: -0.1766 - val_mae: 0.3765\n",
            "Epoch 3/200\n",
            "242/242 [==============================] - 2s 9ms/step - loss: 0.0946 - r2_score: 0.6080 - mae: 0.2029 - val_loss: 0.2593 - val_r2_score: -0.1441 - val_mae: 0.3515\n",
            "Epoch 4/200\n",
            "242/242 [==============================] - 2s 10ms/step - loss: 0.0607 - r2_score: 0.7351 - mae: 0.1652 - val_loss: 0.2534 - val_r2_score: -0.1510 - val_mae: 0.3671\n",
            "Epoch 5/200\n",
            "242/242 [==============================] - 4s 15ms/step - loss: 0.0460 - r2_score: 0.7930 - mae: 0.1526 - val_loss: 0.2607 - val_r2_score: -0.1999 - val_mae: 0.3875\n",
            "Epoch 6/200\n",
            "242/242 [==============================] - 3s 12ms/step - loss: 0.0408 - r2_score: 0.8031 - mae: 0.1512 - val_loss: 0.2610 - val_r2_score: -0.2044 - val_mae: 0.3865\n",
            "Epoch 7/200\n",
            "242/242 [==============================] - 2s 10ms/step - loss: 0.0318 - r2_score: 0.8438 - mae: 0.1341 - val_loss: 0.2709 - val_r2_score: -0.2594 - val_mae: 0.3998\n",
            "Epoch 8/200\n",
            "242/242 [==============================] - 2s 10ms/step - loss: 0.0280 - r2_score: 0.8545 - mae: 0.1275 - val_loss: 0.2747 - val_r2_score: -0.2832 - val_mae: 0.4030\n",
            "Epoch 9/200\n",
            "242/242 [==============================] - 3s 10ms/step - loss: 0.0251 - r2_score: 0.8712 - mae: 0.1182 - val_loss: 0.2689 - val_r2_score: -0.2195 - val_mae: 0.3831\n",
            "Epoch 10/200\n",
            "242/242 [==============================] - 3s 13ms/step - loss: 0.0236 - r2_score: 0.8802 - mae: 0.1184 - val_loss: 0.2512 - val_r2_score: -0.1349 - val_mae: 0.3638\n",
            "Epoch 11/200\n",
            "242/242 [==============================] - 2s 10ms/step - loss: 0.0218 - r2_score: 0.8850 - mae: 0.1108 - val_loss: 0.2772 - val_r2_score: -0.3059 - val_mae: 0.4077\n",
            "Epoch 12/200\n",
            "242/242 [==============================] - 2s 10ms/step - loss: 0.0163 - r2_score: 0.9146 - mae: 0.0984 - val_loss: 0.2897 - val_r2_score: -0.3691 - val_mae: 0.4253\n",
            "Epoch 13/200\n",
            "242/242 [==============================] - 2s 9ms/step - loss: 0.0132 - r2_score: 0.9286 - mae: 0.0882 - val_loss: 0.2487 - val_r2_score: -0.1279 - val_mae: 0.3682\n",
            "Epoch 14/200\n",
            "242/242 [==============================] - 2s 9ms/step - loss: 0.0105 - r2_score: 0.9466 - mae: 0.0762 - val_loss: 0.2456 - val_r2_score: -0.1054 - val_mae: 0.3598\n",
            "Epoch 15/200\n",
            "242/242 [==============================] - 3s 14ms/step - loss: 0.0096 - r2_score: 0.9463 - mae: 0.0762 - val_loss: 0.2447 - val_r2_score: -0.0995 - val_mae: 0.3607\n",
            "Epoch 16/200\n",
            "242/242 [==============================] - 2s 10ms/step - loss: 0.0103 - r2_score: 0.9448 - mae: 0.0796 - val_loss: 0.2557 - val_r2_score: -0.1674 - val_mae: 0.3779\n",
            "Epoch 17/200\n",
            "242/242 [==============================] - 2s 10ms/step - loss: 0.0091 - r2_score: 0.9523 - mae: 0.0741 - val_loss: 0.2390 - val_r2_score: -0.0453 - val_mae: 0.3415\n",
            "Epoch 18/200\n",
            "242/242 [==============================] - 2s 10ms/step - loss: 0.0099 - r2_score: 0.9471 - mae: 0.0781 - val_loss: 0.2397 - val_r2_score: -0.0634 - val_mae: 0.3485\n",
            "Epoch 19/200\n",
            "242/242 [==============================] - 2s 10ms/step - loss: 0.0117 - r2_score: 0.9372 - mae: 0.0862 - val_loss: 0.2915 - val_r2_score: -0.3895 - val_mae: 0.4323\n",
            "Epoch 20/200\n",
            "242/242 [==============================] - 3s 13ms/step - loss: 0.0090 - r2_score: 0.9511 - mae: 0.0734 - val_loss: 0.2694 - val_r2_score: -0.2556 - val_mae: 0.4035\n",
            "Epoch 21/200\n",
            "242/242 [==============================] - 2s 10ms/step - loss: 0.0083 - r2_score: 0.9577 - mae: 0.0688 - val_loss: 0.2422 - val_r2_score: -0.0664 - val_mae: 0.3459\n",
            "Epoch 22/200\n",
            "242/242 [==============================] - 2s 10ms/step - loss: 0.0087 - r2_score: 0.9548 - mae: 0.0690 - val_loss: 0.2389 - val_r2_score: -0.0548 - val_mae: 0.3478\n",
            "Epoch 23/200\n",
            "242/242 [==============================] - 2s 9ms/step - loss: 0.0074 - r2_score: 0.9624 - mae: 0.0659 - val_loss: 0.2377 - val_r2_score: -0.0453 - val_mae: 0.3391\n",
            "Epoch 24/200\n",
            "242/242 [==============================] - 2s 10ms/step - loss: 0.0074 - r2_score: 0.9612 - mae: 0.0663 - val_loss: 0.2387 - val_r2_score: -0.0549 - val_mae: 0.3471\n",
            "Epoch 25/200\n",
            "242/242 [==============================] - 3s 13ms/step - loss: 0.0073 - r2_score: 0.9629 - mae: 0.0661 - val_loss: 0.2413 - val_r2_score: -0.0830 - val_mae: 0.3554\n",
            "Epoch 26/200\n",
            "242/242 [==============================] - 2s 10ms/step - loss: 0.0075 - r2_score: 0.9616 - mae: 0.0663 - val_loss: 0.2490 - val_r2_score: -0.1313 - val_mae: 0.3717\n",
            "Epoch 27/200\n",
            "242/242 [==============================] - 2s 9ms/step - loss: 0.0089 - r2_score: 0.9526 - mae: 0.0732 - val_loss: 0.2402 - val_r2_score: -0.0643 - val_mae: 0.3461\n",
            "Epoch 28/200\n",
            "242/242 [==============================] - 2s 10ms/step - loss: 0.0080 - r2_score: 0.9558 - mae: 0.0682 - val_loss: 0.2402 - val_r2_score: -0.0496 - val_mae: 0.3382\n",
            "Epoch 29/200\n",
            "242/242 [==============================] - 2s 9ms/step - loss: 0.0067 - r2_score: 0.9637 - mae: 0.0624 - val_loss: 0.2553 - val_r2_score: -0.1435 - val_mae: 0.3709\n",
            "Epoch 30/200\n",
            "242/242 [==============================] - 3s 13ms/step - loss: 0.0073 - r2_score: 0.9613 - mae: 0.0642 - val_loss: 0.2385 - val_r2_score: -0.0412 - val_mae: 0.3400\n",
            "Epoch 31/200\n",
            "242/242 [==============================] - 2s 10ms/step - loss: 0.0075 - r2_score: 0.9610 - mae: 0.0656 - val_loss: 0.2426 - val_r2_score: -0.0543 - val_mae: 0.3345\n",
            "Epoch 32/200\n",
            "242/242 [==============================] - 2s 9ms/step - loss: 0.0071 - r2_score: 0.9623 - mae: 0.0641 - val_loss: 0.2393 - val_r2_score: -0.0548 - val_mae: 0.3429\n",
            "Epoch 33/200\n",
            "242/242 [==============================] - 2s 10ms/step - loss: 0.0064 - r2_score: 0.9670 - mae: 0.0600 - val_loss: 0.2357 - val_r2_score: -0.0363 - val_mae: 0.3370\n",
            "Epoch 34/200\n",
            "242/242 [==============================] - 2s 9ms/step - loss: 0.0064 - r2_score: 0.9662 - mae: 0.0598 - val_loss: 0.2351 - val_r2_score: -0.0247 - val_mae: 0.3335\n",
            "Epoch 35/200\n",
            "242/242 [==============================] - 3s 12ms/step - loss: 0.0066 - r2_score: 0.9657 - mae: 0.0629 - val_loss: 0.2387 - val_r2_score: -0.0638 - val_mae: 0.3473\n",
            "Epoch 36/200\n",
            "242/242 [==============================] - 3s 11ms/step - loss: 0.0050 - r2_score: 0.9741 - mae: 0.0536 - val_loss: 0.2346 - val_r2_score: -0.0189 - val_mae: 0.3287\n",
            "Epoch 37/200\n",
            "242/242 [==============================] - 2s 10ms/step - loss: 0.0036 - r2_score: 0.9817 - mae: 0.0449 - val_loss: 0.2353 - val_r2_score: -0.0306 - val_mae: 0.3339\n",
            "Epoch 38/200\n",
            "242/242 [==============================] - 4s 15ms/step - loss: 0.0032 - r2_score: 0.9833 - mae: 0.0434 - val_loss: 0.2363 - val_r2_score: -0.0378 - val_mae: 0.3376\n",
            "Epoch 39/200\n",
            "242/242 [==============================] - 5s 19ms/step - loss: 0.0035 - r2_score: 0.9818 - mae: 0.0449 - val_loss: 0.2377 - val_r2_score: -0.0469 - val_mae: 0.3416\n",
            "Epoch 40/200\n",
            "242/242 [==============================] - 4s 17ms/step - loss: 0.0039 - r2_score: 0.9799 - mae: 0.0470 - val_loss: 0.2387 - val_r2_score: -0.0550 - val_mae: 0.3451\n",
            "Epoch 41/200\n",
            "242/242 [==============================] - 2s 10ms/step - loss: 0.0045 - r2_score: 0.9763 - mae: 0.0496 - val_loss: 0.2386 - val_r2_score: -0.0586 - val_mae: 0.3483\n",
            "Epoch 42/200\n",
            "242/242 [==============================] - 2s 10ms/step - loss: 0.0046 - r2_score: 0.9753 - mae: 0.0509 - val_loss: 0.2379 - val_r2_score: -0.0419 - val_mae: 0.3367\n",
            "Epoch 43/200\n",
            "242/242 [==============================] - 2s 10ms/step - loss: 0.0068 - r2_score: 0.9634 - mae: 0.0604 - val_loss: 0.2351 - val_r2_score: -0.0346 - val_mae: 0.3377\n",
            "Epoch 44/200\n",
            "242/242 [==============================] - 3s 14ms/step - loss: 0.0073 - r2_score: 0.9625 - mae: 0.0647 - val_loss: 0.2391 - val_r2_score: -0.0370 - val_mae: 0.3305\n",
            "Epoch 45/200\n",
            "242/242 [==============================] - 2s 10ms/step - loss: 0.0059 - r2_score: 0.9698 - mae: 0.0574 - val_loss: 0.2348 - val_r2_score: -0.0150 - val_mae: 0.3257\n",
            "Epoch 46/200\n",
            "242/242 [==============================] - 2s 10ms/step - loss: 0.0041 - r2_score: 0.9788 - mae: 0.0480 - val_loss: 0.2360 - val_r2_score: -0.0251 - val_mae: 0.3305\n",
            "Epoch 47/200\n",
            "242/242 [==============================] - 2s 10ms/step - loss: 0.0028 - r2_score: 0.9854 - mae: 0.0408 - val_loss: 0.2357 - val_r2_score: -0.0237 - val_mae: 0.3322\n",
            "Epoch 48/200\n",
            "242/242 [==============================] - 2s 10ms/step - loss: 0.0032 - r2_score: 0.9833 - mae: 0.0421 - val_loss: 0.2382 - val_r2_score: -0.0400 - val_mae: 0.3366\n",
            "Epoch 49/200\n",
            "242/242 [==============================] - 3s 14ms/step - loss: 0.0030 - r2_score: 0.9850 - mae: 0.0412 - val_loss: 0.2451 - val_r2_score: -0.0914 - val_mae: 0.3590\n",
            "Epoch 50/200\n",
            "242/242 [==============================] - 2s 9ms/step - loss: 0.0032 - r2_score: 0.9827 - mae: 0.0414 - val_loss: 0.2356 - val_r2_score: -0.0238 - val_mae: 0.3302\n",
            "Epoch 51/200\n",
            "242/242 [==============================] - 2s 10ms/step - loss: 0.0037 - r2_score: 0.9797 - mae: 0.0450 - val_loss: 0.2367 - val_r2_score: -0.0297 - val_mae: 0.3303\n",
            "Epoch 52/200\n",
            "242/242 [==============================] - 2s 10ms/step - loss: 0.0034 - r2_score: 0.9824 - mae: 0.0445 - val_loss: 0.2362 - val_r2_score: -0.0281 - val_mae: 0.3322\n",
            "Epoch 53/200\n",
            "242/242 [==============================] - 2s 9ms/step - loss: 0.0031 - r2_score: 0.9839 - mae: 0.0416 - val_loss: 0.2368 - val_r2_score: -0.0306 - val_mae: 0.3357\n",
            "Epoch 54/200\n",
            "242/242 [==============================] - 3s 13ms/step - loss: 0.0034 - r2_score: 0.9814 - mae: 0.0446 - val_loss: 0.2413 - val_r2_score: -0.0392 - val_mae: 0.3258\n",
            "Epoch 55/200\n",
            "242/242 [==============================] - 2s 10ms/step - loss: 0.0038 - r2_score: 0.9803 - mae: 0.0478 - val_loss: 0.2354 - val_r2_score: -0.0199 - val_mae: 0.3271\n",
            "Epoch 56/200\n",
            "242/242 [==============================] - 2s 10ms/step - loss: 0.0035 - r2_score: 0.9816 - mae: 0.0450 - val_loss: 0.2372 - val_r2_score: -0.0324 - val_mae: 0.3346\n",
            "Epoch 57/200\n",
            "242/242 [==============================] - 2s 9ms/step - loss: 0.0029 - r2_score: 0.9844 - mae: 0.0413 - val_loss: 0.2394 - val_r2_score: -0.0285 - val_mae: 0.3237\n",
            "Epoch 58/200\n",
            "242/242 [==============================] - 2s 9ms/step - loss: 0.0028 - r2_score: 0.9851 - mae: 0.0397 - val_loss: 0.2357 - val_r2_score: -0.0248 - val_mae: 0.3308\n",
            "Epoch 59/200\n",
            "242/242 [==============================] - 3s 12ms/step - loss: 0.0026 - r2_score: 0.9861 - mae: 0.0395 - val_loss: 0.2381 - val_r2_score: -0.0267 - val_mae: 0.3270\n",
            "Epoch 60/200\n",
            "242/242 [==============================] - 3s 11ms/step - loss: 0.0024 - r2_score: 0.9877 - mae: 0.0376 - val_loss: 0.2382 - val_r2_score: -0.0281 - val_mae: 0.3258\n",
            "Epoch 61/200\n",
            "242/242 [==============================] - 2s 9ms/step - loss: 0.0026 - r2_score: 0.9864 - mae: 0.0386 - val_loss: 0.2368 - val_r2_score: -0.0216 - val_mae: 0.3260\n"
          ]
        }
      ]
    },
    {
      "cell_type": "code",
      "source": [
        "# Access the history dictionary\n",
        "history_dict = history.history\n",
        "\n",
        "# Training and validation loss\n",
        "train_loss = history_dict['loss']\n",
        "val_loss = history_dict['val_loss']\n",
        "\n",
        "# Access custom metrics like R2 and Mean Absolute Error\n",
        "train_r2 = history_dict.get('r2_score', [])\n",
        "val_r2 = history_dict.get('val_r2_score', [])\n",
        "train_mae = history_dict['mae']\n",
        "val_mae = history_dict['val_mae']\n",
        "\n",
        "# Display the results\n",
        "print(f\"The ANN model achieved an R2_Score of {train_r2[-1]:.4f} and a mean absolute error of {train_mae[-1]:.4f} on Training data.\")\n",
        "print(f\"On Validation data, R2_Score is {val_r2[-1]:.4f} and mean absolute error is {val_mae[-1]:.4f}.\")\n",
        "print(f\"The Loss has been reduced from {train_loss[0]:.4f} to {train_loss[-1]:.4f}.\")\n",
        "print(f\"The Validation Loss has been reduced from {val_loss[0]:.4f} to {val_loss[-1]:.4f}.\")\n",
        "\n",
        "# Plotting the loss and accuracy\n",
        "plt.figure(figsize=(12, 5))\n",
        "\n",
        "# Plot loss\n",
        "plt.subplot(1, 2, 1)\n",
        "plt.plot(train_loss, label='Training Loss')\n",
        "plt.plot(val_loss, label='Validation Loss')\n",
        "plt.title('Loss Over Epochs')\n",
        "plt.xlabel('Epochs')\n",
        "plt.ylabel('Loss')\n",
        "plt.legend()\n",
        "\n",
        "# Plot R2 Score\n",
        "plt.subplot(1, 2, 2)\n",
        "if train_r2:\n",
        "    plt.plot(train_r2, label='Training R2 Score')\n",
        "if val_r2:\n",
        "    plt.plot(val_r2, label='Validation R2 Score')\n",
        "plt.title('R2 Score Over Epochs')\n",
        "plt.xlabel('Epochs')\n",
        "plt.ylabel('R2 Score')\n",
        "plt.legend()\n",
        "\n",
        "plt.show()\n"
      ],
      "metadata": {
        "colab": {
          "base_uri": "https://localhost:8080/",
          "height": 567
        },
        "id": "SfrSEq8eFooQ",
        "outputId": "23f20d66-ccc6-4eb6-f385-a3ea2e59062b"
      },
      "execution_count": null,
      "outputs": [
        {
          "output_type": "stream",
          "name": "stdout",
          "text": [
            "The ANN model achieved an R2_Score of 0.9864 and a mean absolute error of 0.0386 on Training data.\n",
            "On Validation data, R2_Score is -0.0216 and mean absolute error is 0.3260.\n",
            "The Loss has been reduced from 1.9390 to 0.0026.\n",
            "The Validation Loss has been reduced from 0.2546 to 0.2368.\n"
          ]
        },
        {
          "output_type": "display_data",
          "data": {
            "text/plain": [
              "<Figure size 1200x500 with 2 Axes>"
            ],
            "image/png": "[encoded data removed]"
          },
          "metadata": {}
        }
      ]
    },
    {
      "cell_type": "markdown",
      "source": [
        "### Analysis of Neural Network\n",
        "\n",
        "**Training Performance**: The model achieved an R2 score of 0.9864 and a mean absolute error (MAE) of 0.0386 on the training data. These metrics indicate that the model is highly effective in fitting the training dataset, explaining approximately 98.64% of the variance in ratings, with very low prediction errors.\n",
        "\n",
        "**Validation Performance**: On the validation data, the model exhibited an R2 score of -0.0216 and an MAE of 0.3260. The negative R2 score suggests that the model performs worse than a simple mean-based predictor, failing to generalize the patterns it learned from the training data to unseen data."
      ],
      "metadata": {
        "id": "jiTj368aNsAQ"
      }
    },
    {
      "cell_type": "markdown",
      "source": [
        "##Conclusion\n",
        "While the XGBoost model shows robustness and reliability in predicting app ratings with a reasonable degree of accuracy and less error variability, the Neural Network, despite its high accuracy on training data, fails to perform adequately on unseen validation data, indicating overfitting issues. Therefore, for practical applications where generalization to new data is crucial, XGBoost would be the preferable model. This conclusion underscores the importance of model selection based on not only fitting to the training dataset but also the ability to generalize well to new, unseen data."
      ],
      "metadata": {
        "id": "-7gajwa7cJCb"
      }
    },
    {
      "cell_type": "code",
      "source": [],
      "metadata": {
        "id": "HPf73UXDdpOh"
      },
      "execution_count": null,
      "outputs": []
    }
  ],
  "metadata": {
    "colab": {
      "provenance": []
    },
    "kernelspec": {
      "display_name": "Python 3",
      "name": "python3"
    },
    "language_info": {
      "name": "python"
    }
  },
  "nbformat": 4,
  "nbformat_minor": 0
}